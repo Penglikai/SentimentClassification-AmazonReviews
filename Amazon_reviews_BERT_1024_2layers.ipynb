{
 "cells": [
  {
   "cell_type": "code",
   "execution_count": 19,
   "metadata": {
    "id": "DD6x57fwMe6n"
   },
   "outputs": [],
   "source": [
    "#all imports\n",
    "import numpy as np\n",
    "import pandas as pd\n",
    "import tensorflow as tf\n",
    "import tensorflow_hub as hub\n",
    "from tensorflow.keras.models import Model\n",
    "from tensorflow.keras.utils import plot_model\n",
    "from tqdm import tqdm_notebook\n",
    "import re\n",
    "import pickle\n",
    "from sklearn.model_selection import train_test_split\n",
    "import os\n",
    "from tensorflow.keras.utils import to_categorical\n",
    "import nltk\n",
    "import sys\n",
    "sys.path.append('/content')\n",
    "import tokenization\n"
   ]
  },
  {
   "cell_type": "code",
   "execution_count": 20,
   "metadata": {
    "colab": {
     "base_uri": "https://localhost:8080/"
    },
    "id": "gizwFOzAoTor",
    "outputId": "dd865792-d0dd-456b-d7b3-472c8fe377a2"
   },
   "outputs": [
    {
     "name": "stdout",
     "output_type": "stream",
     "text": [
      "Requirement already satisfied: sentencepiece in /usr/local/lib/python3.6/dist-packages (0.1.94)\n"
     ]
    }
   ],
   "source": [
    "!pip install sentencepiece"
   ]
  },
  {
   "cell_type": "code",
   "execution_count": 21,
   "metadata": {
    "colab": {
     "base_uri": "https://localhost:8080/"
    },
    "id": "7emrkJxcl_YL",
    "outputId": "c6b49f5d-51cc-4e60-e4cc-bd83cb9fd420"
   },
   "outputs": [
    {
     "name": "stdout",
     "output_type": "stream",
     "text": [
      "Requirement already satisfied: sentencepiece in /usr/local/lib/python3.6/dist-packages (0.1.94)\n"
     ]
    }
   ],
   "source": [
    "!pip install sentencepiece"
   ]
  },
  {
   "cell_type": "code",
   "execution_count": 22,
   "metadata": {
    "colab": {
     "base_uri": "https://localhost:8080/",
     "height": 35
    },
    "id": "tTqFAGdFMe6v",
    "outputId": "b2b32d58-fd47-4b98-fe2d-cd807551257e"
   },
   "outputs": [
    {
     "data": {
      "application/vnd.google.colaboratory.intrinsic+json": {
       "type": "string"
      },
      "text/plain": [
       "'/device:GPU:0'"
      ]
     },
     "execution_count": 22,
     "metadata": {
      "tags": []
     },
     "output_type": "execute_result"
    }
   ],
   "source": [
    "tf.test.gpu_device_name()"
   ]
  },
  {
   "cell_type": "markdown",
   "metadata": {
    "id": "EVUsfdxQfMFv"
   },
   "source": [
    "<pre><font size=6>Preprocessing</font></pre>"
   ]
  },
  {
   "cell_type": "code",
   "execution_count": 23,
   "metadata": {
    "colab": {
     "base_uri": "https://localhost:8080/"
    },
    "id": "12z3g422Me66",
    "outputId": "f660fc16-f43c-4004-8424-8df940632c76",
    "scrolled": true
   },
   "outputs": [
    {
     "name": "stdout",
     "output_type": "stream",
     "text": [
      "<class 'pandas.core.frame.DataFrame'>\n",
      "RangeIndex: 60000 entries, 0 to 59999\n",
      "Data columns (total 3 columns):\n",
      " #   Column      Non-Null Count  Dtype \n",
      "---  ------      --------------  ----- \n",
      " 0   Unnamed: 0  60000 non-null  int64 \n",
      " 1   Text        59994 non-null  object\n",
      " 2   Score       60000 non-null  int64 \n",
      "dtypes: int64(2), object(1)\n",
      "memory usage: 1.4+ MB\n"
     ]
    }
   ],
   "source": [
    "#Read the dataset - Amazon reviews\n",
    "reviews = pd.read_csv(r\"/content/data/Reviews.csv\",engine='python',encoding='utf8',error_bad_lines=False)\n",
    "#check the info of the dataset\n",
    "reviews.info()"
   ]
  },
  {
   "cell_type": "code",
   "execution_count": 24,
   "metadata": {
    "colab": {
     "base_uri": "https://localhost:8080/"
    },
    "id": "OxLWy0hFMe6-",
    "outputId": "73a9ce30-1ae1-4402-be3e-8f6b117b6de5"
   },
   "outputs": [
    {
     "name": "stderr",
     "output_type": "stream",
     "text": [
      "/usr/local/lib/python3.6/dist-packages/ipykernel_launcher.py:4: SettingWithCopyWarning: \n",
      "A value is trying to be set on a copy of a slice from a DataFrame\n",
      "\n",
      "See the caveats in the documentation: https://pandas.pydata.org/pandas-docs/stable/user_guide/indexing.html#returning-a-view-versus-a-copy\n",
      "  after removing the cwd from sys.path.\n"
     ]
    }
   ],
   "source": [
    "#get only 2 columns - Text, Score\n",
    "#drop the NAN values\n",
    "reviews_cut = reviews[['Text','Score']]\n",
    "reviews_cut.dropna(inplace=True)"
   ]
  },
  {
   "cell_type": "code",
   "execution_count": 25,
   "metadata": {
    "colab": {
     "base_uri": "https://localhost:8080/"
    },
    "id": "gWVDb4GsnzUI",
    "outputId": "609fcc76-8768-48a3-a1ef-4cb9aacdd70d"
   },
   "outputs": [
    {
     "data": {
      "text/plain": [
       "0    29998\n",
       "1    29996\n",
       "Name: Score, dtype: int64"
      ]
     },
     "execution_count": 25,
     "metadata": {
      "tags": []
     },
     "output_type": "execute_result"
    }
   ],
   "source": [
    "reviews_cut['Score'].value_counts()"
   ]
  },
  {
   "cell_type": "code",
   "execution_count": 26,
   "metadata": {
    "id": "BJfy3aGNtXY8"
   },
   "outputs": [],
   "source": [
    "reviews=reviews_cut"
   ]
  },
  {
   "cell_type": "code",
   "execution_count": 27,
   "metadata": {
    "id": "xYZ-UB9UqVA-"
   },
   "outputs": [],
   "source": [
    "def get_wordlen(x):\n",
    "  return len(x.split())\n",
    "reviews['len'] = reviews.Text.apply(get_wordlen)\n",
    "reviews = reviews[reviews.len<95]"
   ]
  },
  {
   "cell_type": "code",
   "execution_count": 28,
   "metadata": {
    "id": "gMiWNfrqeR7p"
   },
   "outputs": [],
   "source": [
    "reviews = reviews.reset_index(drop=True)"
   ]
  },
  {
   "cell_type": "code",
   "execution_count": 29,
   "metadata": {
    "colab": {
     "base_uri": "https://localhost:8080/"
    },
    "id": "WyHEHS0MMe7K",
    "outputId": "56996fd9-f05b-4d80-e4b3-86b264751664"
   },
   "outputs": [
    {
     "data": {
      "text/plain": [
       "(41939, 3)"
      ]
     },
     "execution_count": 29,
     "metadata": {
      "tags": []
     },
     "output_type": "execute_result"
    }
   ],
   "source": [
    "reviews.shape"
   ]
  },
  {
   "cell_type": "code",
   "execution_count": 30,
   "metadata": {
    "id": "NsYDd3okqVBF"
   },
   "outputs": [],
   "source": [
    "#split the data into train and test data(20%) with Stratify sampling\n",
    "X_train, X_test, y_train, y_test = train_test_split(reviews[['Text','len']], reviews[['Score']],shuffle=True,test_size=0.20, random_state=33)"
   ]
  },
  {
   "cell_type": "code",
   "execution_count": 31,
   "metadata": {
    "colab": {
     "base_uri": "https://localhost:8080/",
     "height": 262
    },
    "id": "-Q6OAcrOqVBI",
    "outputId": "28684044-5ab0-494e-f0e4-b88087a03934"
   },
   "outputs": [
    {
     "data": {
      "image/png": "[encoded data removed]",
      "text/plain": [
       "<Figure size 432x288 with 1 Axes>"
      ]
     },
     "metadata": {
      "needs_background": "light",
      "tags": []
     },
     "output_type": "display_data"
    }
   ],
   "source": [
    "#plot bar graphs of y_train and y_test\n",
    "\n",
    "y_train['Score'].value_counts().plot(kind='bar');"
   ]
  },
  {
   "cell_type": "code",
   "execution_count": 32,
   "metadata": {
    "colab": {
     "base_uri": "https://localhost:8080/",
     "height": 262
    },
    "id": "dlF3bj3DMe7Y",
    "outputId": "96eb4e00-86bf-4142-d5d0-804b5880539f"
   },
   "outputs": [
    {
     "data": {
      "image/png": "[encoded data removed]",
      "text/plain": [
       "<Figure size 432x288 with 1 Axes>"
      ]
     },
     "metadata": {
      "needs_background": "light",
      "tags": []
     },
     "output_type": "display_data"
    }
   ],
   "source": [
    "y_test['Score'].value_counts().plot(kind='bar');"
   ]
  },
  {
   "cell_type": "code",
   "execution_count": 33,
   "metadata": {
    "id": "Up-z5boWqVBK"
   },
   "outputs": [],
   "source": [
    "#saving to disk\n",
    "reviews.to_csv('data/preprocessed.csv', index=False)"
   ]
  },
  {
   "cell_type": "markdown",
   "metadata": {
    "id": "bBtqNGN9qVBM"
   },
   "source": [
    "<pre><font size=6>Creating BERT Model</font> \n"
   ]
  },
  {
   "cell_type": "code",
   "execution_count": 34,
   "metadata": {
    "id": "i8xd2HejqVBN"
   },
   "outputs": [],
   "source": [
    "## Loading the Pretrained Model from tensorflow HUB\n",
    "tf.keras.backend.clear_session()\n",
    "\n",
    "# maximum length\n",
    "max_seq_length = 100\n",
    "\n",
    "#input words\n",
    "input_word_ids = tf.keras.layers.Input(shape=(max_seq_length,), dtype=tf.int32, name=\"input_word_ids\")\n",
    "\n",
    "#mask vector\n",
    "input_mask = tf.keras.layers.Input(shape=(max_seq_length,), dtype=tf.int32, name=\"input_mask\")\n",
    "\n",
    "#segment vectors.\n",
    "segment_ids = tf.keras.layers.Input(shape=(max_seq_length,), dtype=tf.int32, name=\"segment_ids\")\n",
    "\n",
    "#bert layer \n",
    "bert_layer = hub.KerasLayer(\"https://tfhub.dev/tensorflow/bert_en_uncased_L-24_H-1024_A-16/2\", trainable=True)\n",
    "pooled_output, sequence_output = bert_layer([input_word_ids, input_mask, segment_ids])\n",
    "\n",
    "#Bert model\n",
    "\n",
    "bert_model = Model(inputs=[input_word_ids, input_mask, segment_ids], outputs=pooled_output)"
   ]
  },
  {
   "cell_type": "code",
   "execution_count": 35,
   "metadata": {
    "colab": {
     "base_uri": "https://localhost:8080/"
    },
    "id": "lQJsjg6fqVBQ",
    "outputId": "579a538e-f46d-439e-cc8b-c6b6409cd6bc"
   },
   "outputs": [
    {
     "name": "stdout",
     "output_type": "stream",
     "text": [
      "Model: \"functional_1\"\n",
      "__________________________________________________________________________________________________\n",
      "Layer (type)                    Output Shape         Param #     Connected to                     \n",
      "==================================================================================================\n",
      "input_word_ids (InputLayer)     [(None, 100)]        0                                            \n",
      "__________________________________________________________________________________________________\n",
      "input_mask (InputLayer)         [(None, 100)]        0                                            \n",
      "__________________________________________________________________________________________________\n",
      "segment_ids (InputLayer)        [(None, 100)]        0                                            \n",
      "__________________________________________________________________________________________________\n",
      "keras_layer (KerasLayer)        [(None, 1024), (None 335141889   input_word_ids[0][0]             \n",
      "                                                                 input_mask[0][0]                 \n",
      "                                                                 segment_ids[0][0]                \n",
      "==================================================================================================\n",
      "Total params: 335,141,889\n",
      "Trainable params: 335,141,888\n",
      "Non-trainable params: 1\n",
      "__________________________________________________________________________________________________\n"
     ]
    }
   ],
   "source": [
    "bert_model.summary()"
   ]
  },
  {
   "cell_type": "code",
   "execution_count": 36,
   "metadata": {
    "colab": {
     "base_uri": "https://localhost:8080/"
    },
    "id": "w3z0OMA5qVBS",
    "outputId": "bde2fd1c-9c71-4d52-cc3e-a206c2310814"
   },
   "outputs": [
    {
     "data": {
      "text/plain": [
       "<tf.Tensor 'keras_layer/cond/Identity:0' shape=(None, 1024) dtype=float32>"
      ]
     },
     "execution_count": 36,
     "metadata": {
      "tags": []
     },
     "output_type": "execute_result"
    }
   ],
   "source": [
    "bert_model.output"
   ]
  },
  {
   "cell_type": "markdown",
   "metadata": {
    "id": "Ewv4hFCsqVBU"
   },
   "source": [
    "<pre><font size=6>Tokenization</font></pre>"
   ]
  },
  {
   "cell_type": "code",
   "execution_count": 37,
   "metadata": {
    "id": "tX3VEFjiqVBU"
   },
   "outputs": [],
   "source": [
    "#getting Vocab file\n",
    "vocab_file = bert_layer.resolved_object.vocab_file.asset_path.numpy()\n",
    "do_lower_case = bert_layer.resolved_object.do_lower_case.numpy()"
   ]
  },
  {
   "cell_type": "code",
   "execution_count": 38,
   "metadata": {
    "id": "VlbrSzpvN5Tu"
   },
   "outputs": [],
   "source": [
    "#installing required module\n",
    "#%pip install sentencepiece "
   ]
  },
  {
   "cell_type": "code",
   "execution_count": 39,
   "metadata": {
    "id": "guJMLJ8bqVBY"
   },
   "outputs": [],
   "source": [
    "# Create tokenizer \n",
    "tokenizer = tokenization.FullTokenizer(vocab_file, do_lower_case )\n"
   ]
  },
  {
   "cell_type": "code",
   "execution_count": 40,
   "metadata": {
    "colab": {
     "base_uri": "https://localhost:8080/"
    },
    "id": "t7IyEK-2Me7y",
    "outputId": "a0c63f88-8c94-456e-982f-43506228df85"
   },
   "outputs": [
    {
     "data": {
      "text/plain": [
       "array(['sorry but i have to give this 2 stars because it does not contain a single photo which is a must in any cookbook any cookbook author who does not know how to upload photo images really needs to learn how',\n",
       "       41], dtype=object)"
      ]
     },
     "execution_count": 40,
     "metadata": {
      "tags": []
     },
     "output_type": "execute_result"
    }
   ],
   "source": [
    "X_train.values[100]"
   ]
  },
  {
   "cell_type": "markdown",
   "metadata": {
    "id": "4_UjRHOjrLuk"
   },
   "source": [
    "<pre><font size=6>Get 3 inputs of BERT</font></pre>"
   ]
  },
  {
   "cell_type": "code",
   "execution_count": 41,
   "metadata": {
    "colab": {
     "base_uri": "https://localhost:8080/",
     "height": 142,
     "referenced_widgets": [
      "19cb6d016766487abf2bc43eee75eea1",
      "4e480fd2d54141f7afcce93ae38a3c06",
      "fba64c6441584423b202a74a869adabf",
      "c6d571c34d694dc5b95395e6c4d2aa95",
      "75a6785a388542d6b7fa78695e750027",
      "fbdbdf9e34474fd48f5f9570b69e222d",
      "76ea991689694af1af7daab689b72c47",
      "d1e00f6ed6b5466ca390e0ddfd962fce"
     ]
    },
    "id": "GsFJZ3VzMe70",
    "outputId": "ad5b9ba3-1e7d-4cdc-c556-d0579d1f5190"
   },
   "outputs": [
    {
     "name": "stderr",
     "output_type": "stream",
     "text": [
      "/usr/local/lib/python3.6/dist-packages/ipykernel_launcher.py:7: TqdmDeprecationWarning: This function will be removed in tqdm==5.0.0\n",
      "Please use `tqdm.notebook.tqdm` instead of `tqdm.tqdm_notebook`\n",
      "  import sys\n"
     ]
    },
    {
     "data": {
      "application/vnd.jupyter.widget-view+json": {
       "model_id": "19cb6d016766487abf2bc43eee75eea1",
       "version_major": 2,
       "version_minor": 0
      },
      "text/plain": [
       "HBox(children=(FloatProgress(value=0.0, max=33551.0), HTML(value='')))"
      ]
     },
     "metadata": {
      "tags": []
     },
     "output_type": "display_data"
    },
    {
     "name": "stdout",
     "output_type": "stream",
     "text": [
      "\n"
     ]
    }
   ],
   "source": [
    "# Processing to get X_train_tokens, X_train_mask, X_train_segment\n",
    "max_tokens = 100\n",
    "X_train_tokens=[]\n",
    "X_train_mask = []\n",
    "X_train_segment = []\n",
    "# iterate over X_train\n",
    "for i in tqdm_notebook(range(len(X_train))):\n",
    "    temp_tokens=tokenizer.tokenize(X_train.values[i][0])\n",
    "    if len(temp_tokens)>= max_tokens-2:\n",
    "        temp_tokens = temp_tokens[0:(max_tokens-2)]\n",
    "    # adding [CLS] at start and [SEP] at end\n",
    "    temp_tokens = ['[CLS]',*temp_tokens,'[SEP]']\n",
    "    pad = max_tokens - len(temp_tokens)\n",
    "    if pad > 0 :\n",
    "        #adding Padding\n",
    "        pads = ['[PAD]']*pad\n",
    "        temp_tokens_fix = [*temp_tokens,*pads]\n",
    "    else:\n",
    "        temp_tokens_fix = temp_tokens\n",
    "    tokens      = np.array(tokenizer.convert_tokens_to_ids(temp_tokens_fix))\n",
    "    mask_tokens = np.array([1]*len(temp_tokens)+[0]*pad)\n",
    "    seg_tokens  = np.array([0]*len(temp_tokens_fix))\n",
    "    \n",
    "    X_train_tokens.append(tokens)\n",
    "    X_train_mask.append(mask_tokens)\n",
    "    X_train_segment.append(seg_tokens)"
   ]
  },
  {
   "cell_type": "code",
   "execution_count": 42,
   "metadata": {
    "id": "tIvB3HRdMe71"
   },
   "outputs": [],
   "source": [
    "#Convert all into np.array\n",
    "X_train_tokens = np.array(X_train_tokens)\n",
    "X_train_mask = np.array(X_train_mask)\n",
    "X_train_segment = np.array(X_train_segment)\n",
    "y_train = np.array(y_train)"
   ]
  },
  {
   "cell_type": "code",
   "execution_count": 43,
   "metadata": {
    "colab": {
     "base_uri": "https://localhost:8080/"
    },
    "id": "sZ5l-oC5Me72",
    "outputId": "db5f9033-5ae2-436f-da72-051770f04fe7"
   },
   "outputs": [
    {
     "data": {
      "text/plain": [
       "100"
      ]
     },
     "execution_count": 43,
     "metadata": {
      "tags": []
     },
     "output_type": "execute_result"
    }
   ],
   "source": [
    "len(X_train_tokens[2])"
   ]
  },
  {
   "cell_type": "code",
   "execution_count": 44,
   "metadata": {
    "colab": {
     "base_uri": "https://localhost:8080/"
    },
    "id": "d0OZsXI8aQsK",
    "outputId": "1f14683a-3a87-4049-f009-7d5249cdff70"
   },
   "outputs": [
    {
     "data": {
      "text/plain": [
       "array([  101,  2023,  2003,  2107,  2019,  6429,  2338,  2009,  2018,\n",
       "        2033, 16986,  2127,  1996,  2203,  1998,  1045,  2145,  2031,\n",
       "        3980,  1045,  6187, 23961,  3524,  2000,  3191,  2338,  2048,\n",
       "        2023,  2338,  3957,  1037,  2047,  3574,  2000,  2569,  3754,\n",
       "        2064,  6586,  2741,  2011,  2643,  2428,  2444,  2426,  2149,\n",
       "        2030,  2024,  2122,  2111,  2074,  8687, 12784,  3849,  2000,\n",
       "        2228, 14992,  2890,  2003,  2062,  2000,  2009,  2035,  2330,\n",
       "        2023,  2338,  1998,  2424,  2041,  2005,  4426,  1045,  2228,\n",
       "        2017,  2097,  5959,  2009,  2004,  2172,  2004,  1045,  2106,\n",
       "         102,     0,     0,     0,     0,     0,     0,     0,     0,\n",
       "           0,     0,     0,     0,     0,     0,     0,     0,     0,\n",
       "           0])"
      ]
     },
     "execution_count": 44,
     "metadata": {
      "tags": []
     },
     "output_type": "execute_result"
    }
   ],
   "source": [
    "X_train_tokens[0]"
   ]
  },
  {
   "cell_type": "code",
   "execution_count": 45,
   "metadata": {
    "colab": {
     "base_uri": "https://localhost:8080/",
     "height": 142,
     "referenced_widgets": [
      "739b74e51e014c0d82cc7e91ccc5a748",
      "1b1fc2a2e1fa4152a7117ce014037e5b",
      "bb435c4490cb4eac98ca42c0ca77672d",
      "2d4c08dc37b542a89d5868656311f4de",
      "93808badcad548fe9f2f5302addbc3f1",
      "440abc5a58e7401b93d3a2db2f84702e",
      "22a06e39d05f497f83d9c9c506820eec",
      "36ad2879d8ff4abeb29cf91e3f5812b4"
     ]
    },
    "id": "qMA3BnU6Me75",
    "outputId": "ef415e60-ee3f-4b00-bf5d-66e056f71314"
   },
   "outputs": [
    {
     "name": "stderr",
     "output_type": "stream",
     "text": [
      "/usr/local/lib/python3.6/dist-packages/ipykernel_launcher.py:7: TqdmDeprecationWarning: This function will be removed in tqdm==5.0.0\n",
      "Please use `tqdm.notebook.tqdm` instead of `tqdm.tqdm_notebook`\n",
      "  import sys\n"
     ]
    },
    {
     "data": {
      "application/vnd.jupyter.widget-view+json": {
       "model_id": "739b74e51e014c0d82cc7e91ccc5a748",
       "version_major": 2,
       "version_minor": 0
      },
      "text/plain": [
       "HBox(children=(FloatProgress(value=0.0, max=8388.0), HTML(value='')))"
      ]
     },
     "metadata": {
      "tags": []
     },
     "output_type": "display_data"
    },
    {
     "name": "stdout",
     "output_type": "stream",
     "text": [
      "\n"
     ]
    }
   ],
   "source": [
    "# Processing to get X_test_tokens, X_test_mask, X_test_segment\n",
    "max_tokens = 100\n",
    "X_test_tokens=[]\n",
    "X_test_mask = []\n",
    "X_test_segment = []\n",
    "# Iterate over X_test \n",
    "for i in tqdm_notebook(range(len(X_test))):\n",
    "    # Tokenixe each review\n",
    "    temp_tokens=tokenizer.tokenize(X_test.values[i][0])\n",
    "    # Truncating if review is large \n",
    "    if len(temp_tokens)>= max_tokens-2:\n",
    "        temp_tokens = temp_tokens[0:(max_tokens-2)]\n",
    "    # adding [CLS] at start and [SEP] at end\n",
    "    temp_tokens = ['[CLS]',*temp_tokens,'[SEP]']\n",
    "    pad = max_tokens - len(temp_tokens)\n",
    "    #adding Padding upto max token size\n",
    "    if pad > 0 :\n",
    "        pads = ['[PAD]']*pad\n",
    "        temp_tokens_fix = [*temp_tokens,*pads]\n",
    "    else:\n",
    "        temp_tokens_fix = temp_tokens\n",
    "    # Convert Tokens to ids\n",
    "    tokens      = np.array(tokenizer.convert_tokens_to_ids(temp_tokens_fix))\n",
    "    #Creating mask token and segment token of each review\n",
    "    mask_tokens = np.array([1]*len(temp_tokens)+[0]*pad)\n",
    "    seg_tokens  = np.array([0]*len(temp_tokens_fix))\n",
    "    # Appending the review converted to id, the mask and segment tokens\n",
    "    X_test_tokens.append(tokens)\n",
    "    X_test_mask.append(mask_tokens)\n",
    "    X_test_segment.append(seg_tokens)"
   ]
  },
  {
   "cell_type": "code",
   "execution_count": 46,
   "metadata": {
    "id": "rFS3_LIJMe76"
   },
   "outputs": [],
   "source": [
    "#Convert all into np.array\n",
    "X_test_tokens = np.array(X_test_tokens)\n",
    "X_test_mask = np.array(X_test_mask)\n",
    "X_test_segment = np.array(X_test_segment)\n",
    "y_test = np.array(y_test)"
   ]
  },
  {
   "cell_type": "code",
   "execution_count": 47,
   "metadata": {
    "id": "xF0idMRDqVBm"
   },
   "outputs": [],
   "source": [
    "##save results \n",
    "pickle.dump((X_train, X_train_tokens, X_train_mask, X_train_segment, y_train),open('/content/model/train_data.pkl','wb'))\n",
    "pickle.dump((X_test, X_test_tokens, X_test_mask, X_test_segment, y_test),open('/content/model/test_data.pkl','wb'))"
   ]
  },
  {
   "cell_type": "code",
   "execution_count": 48,
   "metadata": {
    "id": "Leu1URGzqVBo"
   },
   "outputs": [],
   "source": [
    "#load data\n",
    "X_train, X_train_tokens, X_train_mask, X_train_segment, y_train = pickle.load(open(\"/content/model/train_data.pkl\", 'rb')) \n",
    "X_test, X_test_tokens, X_test_mask, X_test_segment, y_test = pickle.load(open(\"/content/model/test_data.pkl\", 'rb')) "
   ]
  },
  {
   "cell_type": "code",
   "execution_count": 49,
   "metadata": {
    "colab": {
     "base_uri": "https://localhost:8080/"
    },
    "id": "QwOVgQFDqVBy",
    "outputId": "e2668274-ea1f-4b1c-f7bb-ca578b666cb2"
   },
   "outputs": [
    {
     "data": {
      "text/plain": [
       "[<tf.Tensor 'input_word_ids:0' shape=(None, 100) dtype=int32>,\n",
       " <tf.Tensor 'input_mask:0' shape=(None, 100) dtype=int32>,\n",
       " <tf.Tensor 'segment_ids:0' shape=(None, 100) dtype=int32>]"
      ]
     },
     "execution_count": 49,
     "metadata": {
      "tags": []
     },
     "output_type": "execute_result"
    }
   ],
   "source": [
    "bert_model.input"
   ]
  },
  {
   "cell_type": "code",
   "execution_count": 50,
   "metadata": {
    "colab": {
     "base_uri": "https://localhost:8080/"
    },
    "id": "ZcpkQq1OqVB0",
    "outputId": "976f4b0c-f0b9-4675-da2d-cb9c0822c632"
   },
   "outputs": [
    {
     "data": {
      "text/plain": [
       "<tf.Tensor 'keras_layer/cond/Identity:0' shape=(None, 1024) dtype=float32>"
      ]
     },
     "execution_count": 50,
     "metadata": {
      "tags": []
     },
     "output_type": "execute_result"
    }
   ],
   "source": [
    "bert_model.output"
   ]
  },
  {
   "cell_type": "code",
   "execution_count": 51,
   "metadata": {
    "id": "IxdIlOIBlm7j"
   },
   "outputs": [],
   "source": [
    "# get the train output\n",
    "X_train_pooled_output=bert_model.predict([X_train_tokens,X_train_mask,X_train_segment])"
   ]
  },
  {
   "cell_type": "code",
   "execution_count": 52,
   "metadata": {
    "id": "yZT11BCol4gL"
   },
   "outputs": [],
   "source": [
    "# get the test output\n",
    "X_test_pooled_output=bert_model.predict([X_test_tokens,X_test_mask,X_test_segment])"
   ]
  },
  {
   "cell_type": "code",
   "execution_count": 53,
   "metadata": {
    "id": "DL6JVojfqVB8"
   },
   "outputs": [],
   "source": [
    "##save results\n",
    "pickle.dump((X_train_pooled_output, X_test_pooled_output),open('/content/model/final_output.pkl','wb'))"
   ]
  },
  {
   "cell_type": "code",
   "execution_count": 54,
   "metadata": {
    "id": "oSQcBdROqVB9"
   },
   "outputs": [],
   "source": [
    "#Load the results\n",
    "X_train_pooled_output, X_test_pooled_output= pickle.load(open('/content/model/final_output.pkl', 'rb'))"
   ]
  },
  {
   "cell_type": "code",
   "execution_count": 55,
   "metadata": {
    "colab": {
     "base_uri": "https://localhost:8080/",
     "height": 206
    },
    "id": "Vbi31oKWn8p2",
    "outputId": "78589be1-ecf0-495c-b5b6-51d525309522"
   },
   "outputs": [
    {
     "data": {
      "text/html": [
       "<div>\n",
       "<style scoped>\n",
       "    .dataframe tbody tr th:only-of-type {\n",
       "        vertical-align: middle;\n",
       "    }\n",
       "\n",
       "    .dataframe tbody tr th {\n",
       "        vertical-align: top;\n",
       "    }\n",
       "\n",
       "    .dataframe thead th {\n",
       "        text-align: right;\n",
       "    }\n",
       "</style>\n",
       "<table border=\"1\" class=\"dataframe\">\n",
       "  <thead>\n",
       "    <tr style=\"text-align: right;\">\n",
       "      <th></th>\n",
       "      <th>class</th>\n",
       "    </tr>\n",
       "  </thead>\n",
       "  <tbody>\n",
       "    <tr>\n",
       "      <th>0</th>\n",
       "      <td>1</td>\n",
       "    </tr>\n",
       "    <tr>\n",
       "      <th>1</th>\n",
       "      <td>1</td>\n",
       "    </tr>\n",
       "    <tr>\n",
       "      <th>2</th>\n",
       "      <td>1</td>\n",
       "    </tr>\n",
       "    <tr>\n",
       "      <th>3</th>\n",
       "      <td>0</td>\n",
       "    </tr>\n",
       "    <tr>\n",
       "      <th>4</th>\n",
       "      <td>0</td>\n",
       "    </tr>\n",
       "  </tbody>\n",
       "</table>\n",
       "</div>"
      ],
      "text/plain": [
       "   class\n",
       "0      1\n",
       "1      1\n",
       "2      1\n",
       "3      0\n",
       "4      0"
      ]
     },
     "execution_count": 55,
     "metadata": {
      "tags": []
     },
     "output_type": "execute_result"
    }
   ],
   "source": [
    "y_train = pd.DataFrame(y_train,columns =['class']) \n",
    "y_train.head()"
   ]
  },
  {
   "cell_type": "code",
   "execution_count": 56,
   "metadata": {
    "colab": {
     "base_uri": "https://localhost:8080/",
     "height": 206
    },
    "id": "YtRkd8ANu3u7",
    "outputId": "043b5047-c814-436d-d91a-ecb481d8aec2"
   },
   "outputs": [
    {
     "data": {
      "text/html": [
       "<div>\n",
       "<style scoped>\n",
       "    .dataframe tbody tr th:only-of-type {\n",
       "        vertical-align: middle;\n",
       "    }\n",
       "\n",
       "    .dataframe tbody tr th {\n",
       "        vertical-align: top;\n",
       "    }\n",
       "\n",
       "    .dataframe thead th {\n",
       "        text-align: right;\n",
       "    }\n",
       "</style>\n",
       "<table border=\"1\" class=\"dataframe\">\n",
       "  <thead>\n",
       "    <tr style=\"text-align: right;\">\n",
       "      <th></th>\n",
       "      <th>class</th>\n",
       "    </tr>\n",
       "  </thead>\n",
       "  <tbody>\n",
       "    <tr>\n",
       "      <th>0</th>\n",
       "      <td>1</td>\n",
       "    </tr>\n",
       "    <tr>\n",
       "      <th>1</th>\n",
       "      <td>0</td>\n",
       "    </tr>\n",
       "    <tr>\n",
       "      <th>2</th>\n",
       "      <td>1</td>\n",
       "    </tr>\n",
       "    <tr>\n",
       "      <th>3</th>\n",
       "      <td>1</td>\n",
       "    </tr>\n",
       "    <tr>\n",
       "      <th>4</th>\n",
       "      <td>1</td>\n",
       "    </tr>\n",
       "  </tbody>\n",
       "</table>\n",
       "</div>"
      ],
      "text/plain": [
       "   class\n",
       "0      1\n",
       "1      0\n",
       "2      1\n",
       "3      1\n",
       "4      1"
      ]
     },
     "execution_count": 56,
     "metadata": {
      "tags": []
     },
     "output_type": "execute_result"
    }
   ],
   "source": [
    "y_test = pd.DataFrame(y_test,columns =['class'] ) \n",
    "y_test.head()"
   ]
  },
  {
   "cell_type": "code",
   "execution_count": 57,
   "metadata": {
    "colab": {
     "base_uri": "https://localhost:8080/"
    },
    "id": "tskx2xZ197Tj",
    "outputId": "16be0bd0-2554-4fe1-d9af-33ea740e982c"
   },
   "outputs": [
    {
     "name": "stdout",
     "output_type": "stream",
     "text": [
      "y_train.shape      :  (33551, 1)\n",
      "len(y_train.shape) :  2\n"
     ]
    }
   ],
   "source": [
    "print(\"y_train.shape      : \", y_train.shape)\n",
    "print(\"len(y_train.shape) : \",len(y_train.shape))"
   ]
  },
  {
   "cell_type": "code",
   "execution_count": 58,
   "metadata": {
    "colab": {
     "base_uri": "https://localhost:8080/"
    },
    "id": "z9Pd6Q6R-Es5",
    "outputId": "a8ed2b71-95bf-475c-df0c-d05705f148d7"
   },
   "outputs": [
    {
     "name": "stdout",
     "output_type": "stream",
     "text": [
      "y_test.shape      :  (8388, 1)\n",
      "len(y_test.shape) :  2\n"
     ]
    }
   ],
   "source": [
    "print(\"y_test.shape      : \", y_test.shape)\n",
    "print(\"len(y_test.shape) : \",len(y_test.shape))"
   ]
  },
  {
   "cell_type": "code",
   "execution_count": 59,
   "metadata": {
    "id": "od8PQlYRqVCE"
   },
   "outputs": [],
   "source": [
    "##imports\n",
    "from tensorflow.keras.layers import Input, Dense, Activation, Dropout\n",
    "from tensorflow.keras.models import Model"
   ]
  },
  {
   "cell_type": "code",
   "execution_count": 60,
   "metadata": {
    "id": "UkUhPJowrSzB"
   },
   "outputs": [],
   "source": [
    "from keras.wrappers.scikit_learn import KerasClassifier\n",
    "from sklearn.model_selection import GridSearchCV"
   ]
  },
  {
   "cell_type": "code",
   "execution_count": 61,
   "metadata": {
    "id": "-BEQcBZvyE5q"
   },
   "outputs": [],
   "source": [
    "# One hot encoding Y_train and Y_test\n",
    "Y_train_list = to_categorical(y_train['class'])\n",
    "Y_test_list  = to_categorical(y_test['class'])\n",
    "# Converting all into dataframe\n",
    "Y_train_df = pd.DataFrame(Y_train_list) \n",
    "Y_test_df = pd.DataFrame(Y_test_list) "
   ]
  },
  {
   "cell_type": "code",
   "execution_count": 62,
   "metadata": {
    "id": "LmVKtXFqF91m"
   },
   "outputs": [],
   "source": [
    "#Selecting Best Hyperparameters for the neural netwoek\n",
    "def best_hyperparameters(activ_mult,learn_rate_mult):\n",
    "\n",
    "    os.environ['PYTHONHASHSEED'] = '0'\n",
    "\n",
    "    tf.keras.backend.clear_session()\n",
    "\n",
    "    input_layer = Input(shape=1024)\n",
    "\n",
    "    ##create an NN and \n",
    "    #FC layer\n",
    "    layer1 = Dense(64,activation=activ_mult,kernel_initializer=tf.keras.initializers.RandomNormal(seed=30),name = \"layer1\")(input_layer)\n",
    "    layer2 = Dense(64,activation=activ_mult,kernel_initializer=tf.keras.initializers.RandomNormal(seed=31),name = \"layer2\")(layer1)\n",
    "\n",
    "    #output layer\n",
    "    output = Dense(2,activation='softmax',kernel_initializer=tf.keras.initializers.RandomNormal(seed=34),name = \"output\")(layer2)\n",
    "    #Creating a model\n",
    "    model = Model(inputs=input_layer,outputs=output)\n",
    "\n",
    "    #compiling \n",
    "    model.compile(optimizer=tf.keras.optimizers.Adam(lr=learn_rate_mult),loss='categorical_crossentropy',metrics=['AUC','accuracy'])\n",
    "\n",
    "    return model"
   ]
  },
  {
   "cell_type": "markdown",
   "metadata": {
    "id": "8chOqRlUqTjy"
   },
   "source": [
    "<pre><font size=6>GridSearchCV</font></pre>"
   ]
  },
  {
   "cell_type": "code",
   "execution_count": 63,
   "metadata": {
    "id": "6brpjV0n7lfA"
   },
   "outputs": [],
   "source": [
    "# Grid Search over the following parameters\n",
    "activ_mult = ['sigmoid','relu']\n",
    "learn_rate_mult = [0.001,0.0001]"
   ]
  },
  {
   "cell_type": "code",
   "execution_count": 64,
   "metadata": {
    "id": "36mn9xRtGEc9"
   },
   "outputs": [],
   "source": [
    "# All parameters added to a dictionary\n",
    "param_grid = dict(activ_mult=activ_mult,learn_rate_mult=learn_rate_mult)"
   ]
  },
  {
   "cell_type": "code",
   "execution_count": 65,
   "metadata": {
    "colab": {
     "base_uri": "https://localhost:8080/"
    },
    "id": "Tun-vehtZ1Q5",
    "outputId": "52e98ec5-11af-47ce-cf38-947ace2db381"
   },
   "outputs": [
    {
     "data": {
      "text/plain": [
       "(33551, 1024)"
      ]
     },
     "execution_count": 65,
     "metadata": {
      "tags": []
     },
     "output_type": "execute_result"
    }
   ],
   "source": [
    "X_train_pooled_output.shape"
   ]
  },
  {
   "cell_type": "code",
   "execution_count": 66,
   "metadata": {
    "colab": {
     "base_uri": "https://localhost:8080/"
    },
    "id": "f6SghkNSGK0T",
    "outputId": "fd29c311-b1f6-4341-85ae-2c318e5c0eac"
   },
   "outputs": [
    {
     "data": {
      "text/plain": [
       "8388"
      ]
     },
     "execution_count": 66,
     "metadata": {
      "tags": []
     },
     "output_type": "execute_result"
    }
   ],
   "source": [
    "len(Y_test_df)"
   ]
  },
  {
   "cell_type": "code",
   "execution_count": 67,
   "metadata": {
    "id": "fylRguzRrTEg"
   },
   "outputs": [],
   "source": [
    "from keras.wrappers.scikit_learn import KerasClassifier\n",
    "from sklearn.model_selection import GridSearchCV\n",
    "\n",
    "# Creating model for Classfication for grid search \n",
    "model = KerasClassifier(build_fn=best_hyperparameters, epochs=5, batch_size=10, shuffle=True,verbose=0)\n",
    "param_grid = dict(activ_mult=activ_mult,learn_rate_mult=learn_rate_mult)\n",
    "#Get NN model with best hyperparameters using Grid Search \n",
    "grid = GridSearchCV(estimator=model, param_grid=param_grid)\n",
    "grid_result = grid.fit(X_train_pooled_output, Y_train_df)"
   ]
  },
  {
   "cell_type": "markdown",
   "metadata": {
    "id": "bXGVx0mMrAUm"
   },
   "source": [
    "<pre><font size=6>Build Best Model</font></pre>"
   ]
  },
  {
   "cell_type": "code",
   "execution_count": 69,
   "metadata": {
    "colab": {
     "base_uri": "https://localhost:8080/"
    },
    "id": "E6vNfucbMe8O",
    "outputId": "aef9f847-938c-443c-e9ff-7580bdf8d19e"
   },
   "outputs": [
    {
     "name": "stdout",
     "output_type": "stream",
     "text": [
      "Model: \"functional_1\"\n",
      "_________________________________________________________________\n",
      "Layer (type)                 Output Shape              Param #   \n",
      "=================================================================\n",
      "input_1 (InputLayer)         [(None, 1024)]            0         \n",
      "_________________________________________________________________\n",
      "layer1 (Dense)               (None, 64)                65600     \n",
      "_________________________________________________________________\n",
      "layer2 (Dense)               (None, 64)                4160      \n",
      "_________________________________________________________________\n",
      "output (Dense)               (None, 2)                 130       \n",
      "=================================================================\n",
      "Total params: 69,890\n",
      "Trainable params: 69,890\n",
      "Non-trainable params: 0\n",
      "_________________________________________________________________\n",
      "WARNING:tensorflow:`write_grads` will be ignored in TensorFlow 2.0 for the `TensorBoard` Callback.\n"
     ]
    },
    {
     "name": "stderr",
     "output_type": "stream",
     "text": [
      "WARNING:tensorflow:`write_grads` will be ignored in TensorFlow 2.0 for the `TensorBoard` Callback.\n"
     ]
    }
   ],
   "source": [
    "import os\n",
    "import datetime\n",
    "os.environ['PYTHONHASHSEED'] = '0'\n",
    "\n",
    "tf.keras.backend.clear_session()\n",
    "\n",
    "input_layer = Input(shape=1024)\n",
    "\n",
    "##create an NN and \n",
    "#FC layer\n",
    "\n",
    "\n",
    "layer1 = Dense(64,activation='relu',kernel_initializer=tf.keras.initializers.RandomNormal(seed=30),name = \"layer1\")(input_layer)\n",
    "layer2 = Dense(64,activation='relu',kernel_initializer=tf.keras.initializers.RandomNormal(seed=30),name = \"layer2\")(layer1)\n",
    "\n",
    "#output layer\n",
    "output = Dense(2,activation='softmax',kernel_initializer=tf.keras.initializers.RandomNormal(seed=30),name = \"output\")(layer2)\n",
    "#Creating a model\n",
    "model_101 = Model(inputs=input_layer,outputs=output)\n",
    "#Model Summary\n",
    "model_101.summary()\n",
    "\n",
    "log_dir=\"logs/fit/101/1-\" + datetime.datetime.now().strftime(\"%Y%m%d-%H%M%S\")\n",
    "tensorboard_callback = tf.keras.callbacks.TensorBoard(log_dir=log_dir,histogram_freq=1, write_graph=True,write_grads=True)\n",
    "\n",
    "#compiling \n",
    "model_101.compile(optimizer=tf.keras.optimizers.Adam(lr=0.0001),loss='categorical_crossentropy',metrics=['AUC','accuracy'])\n"
   ]
  },
  {
   "cell_type": "code",
   "execution_count": 70,
   "metadata": {
    "colab": {
     "base_uri": "https://localhost:8080/",
     "height": 369
    },
    "id": "BmcTeyKcAnd5",
    "outputId": "b5302ef3-469c-4ca6-fac2-db733acb1fab"
   },
   "outputs": [
    {
     "data": {
      "image/png": "[encoded data removed]",
      "text/plain": [
       "<IPython.core.display.Image object>"
      ]
     },
     "execution_count": 70,
     "metadata": {
      "tags": []
     },
     "output_type": "execute_result"
    }
   ],
   "source": [
    "plot_model(model_101)"
   ]
  },
  {
   "cell_type": "code",
   "execution_count": 71,
   "metadata": {
    "colab": {
     "base_uri": "https://localhost:8080/"
    },
    "id": "WkfiMmR6Me8P",
    "outputId": "cae82ea5-dad1-4b1f-d533-5d0296b3f392"
   },
   "outputs": [
    {
     "name": "stdout",
     "output_type": "stream",
     "text": [
      "Epoch 1/10\n",
      "   1/2684 [..............................] - ETA: 1s - loss: 0.6782 - auc: 0.5200 - accuracy: 0.6000WARNING:tensorflow:From /usr/local/lib/python3.6/dist-packages/tensorflow/python/ops/summary_ops_v2.py:1277: stop (from tensorflow.python.eager.profiler) is deprecated and will be removed after 2020-07-01.\n",
      "Instructions for updating:\n",
      "use `tf.profiler.experimental.stop` instead.\n"
     ]
    },
    {
     "name": "stderr",
     "output_type": "stream",
     "text": [
      "WARNING:tensorflow:From /usr/local/lib/python3.6/dist-packages/tensorflow/python/ops/summary_ops_v2.py:1277: stop (from tensorflow.python.eager.profiler) is deprecated and will be removed after 2020-07-01.\n",
      "Instructions for updating:\n",
      "use `tf.profiler.experimental.stop` instead.\n"
     ]
    },
    {
     "name": "stdout",
     "output_type": "stream",
     "text": [
      "\b\b\b\b\b\b\b\b\b\b\b\b\b\b\b\b\b\b\b\b\b\b\b\b\b\b\b\b\b\b\b\b\b\b\b\b\b\b\b\b\b\b\b\b\b\b\b\b\b\b\b\b\b\b\b\b\b\b\b\b\b\b\b\b\b\b\b\b\b\b\b\b\b\b\b\b\b\b\b\b\b\b\b\b\b\b\b\b\b\b\b\b\b\b\b\b\b\b\b\b\r",
      "   2/2684 [..............................] - ETA: 1:12 - loss: 0.6805 - auc: 0.4925 - accuracy: 0.6000WARNING:tensorflow:Callbacks method `on_train_batch_end` is slow compared to the batch time (batch time: 0.0090s vs `on_train_batch_end` time: 0.0459s). Check your callbacks.\n"
     ]
    },
    {
     "name": "stderr",
     "output_type": "stream",
     "text": [
      "WARNING:tensorflow:Callbacks method `on_train_batch_end` is slow compared to the batch time (batch time: 0.0090s vs `on_train_batch_end` time: 0.0459s). Check your callbacks.\n"
     ]
    },
    {
     "name": "stdout",
     "output_type": "stream",
     "text": [
      "2684/2684 [==============================] - 11s 4ms/step - loss: 0.5866 - auc: 0.7637 - accuracy: 0.6902 - val_loss: 0.4589 - val_auc: 0.8729 - val_accuracy: 0.7935\n",
      "Epoch 2/10\n",
      "2684/2684 [==============================] - 11s 4ms/step - loss: 0.4360 - auc: 0.8817 - accuracy: 0.8048 - val_loss: 0.4135 - val_auc: 0.8927 - val_accuracy: 0.8093\n",
      "Epoch 3/10\n",
      "2684/2684 [==============================] - 10s 4ms/step - loss: 0.3995 - auc: 0.9012 - accuracy: 0.8283 - val_loss: 0.3760 - val_auc: 0.9133 - val_accuracy: 0.8328\n",
      "Epoch 4/10\n",
      "2684/2684 [==============================] - 10s 4ms/step - loss: 0.3760 - auc: 0.9128 - accuracy: 0.8405 - val_loss: 0.4242 - val_auc: 0.8883 - val_accuracy: 0.8042\n",
      "Epoch 5/10\n",
      "2684/2684 [==============================] - 11s 4ms/step - loss: 0.3607 - auc: 0.9199 - accuracy: 0.8484 - val_loss: 0.3743 - val_auc: 0.9132 - val_accuracy: 0.8350\n",
      "Epoch 6/10\n",
      "2684/2684 [==============================] - 11s 4ms/step - loss: 0.3541 - auc: 0.9226 - accuracy: 0.8528 - val_loss: 0.3656 - val_auc: 0.9178 - val_accuracy: 0.8418\n",
      "Epoch 7/10\n",
      "2684/2684 [==============================] - 10s 4ms/step - loss: 0.3509 - auc: 0.9239 - accuracy: 0.8549 - val_loss: 0.3688 - val_auc: 0.9162 - val_accuracy: 0.8364\n",
      "Epoch 8/10\n",
      "2684/2684 [==============================] - 11s 4ms/step - loss: 0.3426 - auc: 0.9275 - accuracy: 0.8580 - val_loss: 0.3391 - val_auc: 0.9291 - val_accuracy: 0.8555\n",
      "Epoch 9/10\n",
      "2684/2684 [==============================] - 11s 4ms/step - loss: 0.3435 - auc: 0.9271 - accuracy: 0.8575 - val_loss: 0.3300 - val_auc: 0.9352 - val_accuracy: 0.8698\n",
      "Epoch 10/10\n",
      "2684/2684 [==============================] - 11s 4ms/step - loss: 0.3397 - auc: 0.9288 - accuracy: 0.8603 - val_loss: 0.3250 - val_auc: 0.9350 - val_accuracy: 0.8690\n"
     ]
    },
    {
     "data": {
      "text/plain": [
       "<tensorflow.python.keras.callbacks.History at 0x7fe2d3a7ca58>"
      ]
     },
     "execution_count": 71,
     "metadata": {
      "tags": []
     },
     "output_type": "execute_result"
    }
   ],
   "source": [
    "model_101.fit(X_train_pooled_output, Y_train_df, epochs=10, validation_split=0.2, batch_size=10,callbacks=[tensorboard_callback])"
   ]
  },
  {
   "cell_type": "code",
   "execution_count": 72,
   "metadata": {
    "colab": {
     "base_uri": "https://localhost:8080/"
    },
    "id": "WWSwKMiQCltF",
    "outputId": "fa4b4613-3933-4508-f375-3baf90fb3798"
   },
   "outputs": [
    {
     "name": "stdout",
     "output_type": "stream",
     "text": [
      "132/132 [==============================] - 0s 1ms/step\n",
      "              precision    recall  f1-score   support\n",
      "\n",
      "           0       0.86      0.90      0.88      4221\n",
      "           1       0.89      0.86      0.87      4167\n",
      "\n",
      "    accuracy                           0.88      8388\n",
      "   macro avg       0.88      0.88      0.88      8388\n",
      "weighted avg       0.88      0.88      0.88      8388\n",
      "\n"
     ]
    }
   ],
   "source": [
    "from sklearn.metrics import classification_report\n",
    "\n",
    "y_pred = model_101.predict(X_test_pooled_output, batch_size=64, verbose=1)\n",
    "y_pred_bool = np.argmax(y_pred, axis=1)\n",
    "\n",
    "print(classification_report(y_test, y_pred_bool))"
   ]
  },
  {
   "cell_type": "code",
   "execution_count": 73,
   "metadata": {
    "colab": {
     "base_uri": "https://localhost:8080/"
    },
    "id": "-me2IlloDM0E",
    "outputId": "9681a589-d076-42a9-87c0-d60077b14193"
   },
   "outputs": [
    {
     "name": "stdout",
     "output_type": "stream",
     "text": [
      "Accuracy: 0.8773247496423462\n"
     ]
    }
   ],
   "source": [
    "from sklearn.metrics import precision_score, recall_score, accuracy_score, f1_score,confusion_matrix\n",
    "print('Accuracy:', accuracy_score(y_test, y_pred_bool))"
   ]
  },
  {
   "cell_type": "code",
   "execution_count": 73,
   "metadata": {
    "id": "545IXDRC60AU"
   },
   "outputs": [],
   "source": []
  }
 ],
 "metadata": {
  "accelerator": "GPU",
  "colab": {
   "collapsed_sections": [],
   "name": "Amazon_reviews_BERT_NLP.ipynb",
   "provenance": []
  },
  "kernelspec": {
   "display_name": "Python 3",
   "language": "python",
   "name": "python3"
  },
  "language_info": {
   "codemirror_mode": {
    "name": "ipython",
    "version": 3
   },
   "file_extension": ".py",
   "mimetype": "text/x-python",
   "name": "python",
   "nbconvert_exporter": "python",
   "pygments_lexer": "ipython3",
   "version": "3.8.3"
  },
  "widgets": {
   "application/vnd.jupyter.widget-state+json": {
    "19cb6d016766487abf2bc43eee75eea1": {
     "model_module": "@jupyter-widgets/controls",
     "model_name": "HBoxModel",
     "state": {
      "_dom_classes": [],
      "_model_module": "@jupyter-widgets/controls",
      "_model_module_version": "1.5.0",
      "_model_name": "HBoxModel",
      "_view_count": null,
      "_view_module": "@jupyter-widgets/controls",
      "_view_module_version": "1.5.0",
      "_view_name": "HBoxView",
      "box_style": "",
      "children": [
       "IPY_MODEL_fba64c6441584423b202a74a869adabf",
       "IPY_MODEL_c6d571c34d694dc5b95395e6c4d2aa95"
      ],
      "layout": "IPY_MODEL_4e480fd2d54141f7afcce93ae38a3c06"
     }
    },
    "1b1fc2a2e1fa4152a7117ce014037e5b": {
     "model_module": "@jupyter-widgets/base",
     "model_name": "LayoutModel",
     "state": {
      "_model_module": "@jupyter-widgets/base",
      "_model_module_version": "1.2.0",
      "_model_name": "LayoutModel",
      "_view_count": null,
      "_view_module": "@jupyter-widgets/base",
      "_view_module_version": "1.2.0",
      "_view_name": "LayoutView",
      "align_content": null,
      "align_items": null,
      "align_self": null,
      "border": null,
      "bottom": null,
      "display": null,
      "flex": null,
      "flex_flow": null,
      "grid_area": null,
      "grid_auto_columns": null,
      "grid_auto_flow": null,
      "grid_auto_rows": null,
      "grid_column": null,
      "grid_gap": null,
      "grid_row": null,
      "grid_template_areas": null,
      "grid_template_columns": null,
      "grid_template_rows": null,
      "height": null,
      "justify_content": null,
      "justify_items": null,
      "left": null,
      "margin": null,
      "max_height": null,
      "max_width": null,
      "min_height": null,
      "min_width": null,
      "object_fit": null,
      "object_position": null,
      "order": null,
      "overflow": null,
      "overflow_x": null,
      "overflow_y": null,
      "padding": null,
      "right": null,
      "top": null,
      "visibility": null,
      "width": null
     }
    },
    "22a06e39d05f497f83d9c9c506820eec": {
     "model_module": "@jupyter-widgets/controls",
     "model_name": "DescriptionStyleModel",
     "state": {
      "_model_module": "@jupyter-widgets/controls",
      "_model_module_version": "1.5.0",
      "_model_name": "DescriptionStyleModel",
      "_view_count": null,
      "_view_module": "@jupyter-widgets/base",
      "_view_module_version": "1.2.0",
      "_view_name": "StyleView",
      "description_width": ""
     }
    },
    "2d4c08dc37b542a89d5868656311f4de": {
     "model_module": "@jupyter-widgets/controls",
     "model_name": "HTMLModel",
     "state": {
      "_dom_classes": [],
      "_model_module": "@jupyter-widgets/controls",
      "_model_module_version": "1.5.0",
      "_model_name": "HTMLModel",
      "_view_count": null,
      "_view_module": "@jupyter-widgets/controls",
      "_view_module_version": "1.5.0",
      "_view_name": "HTMLView",
      "description": "",
      "description_tooltip": null,
      "layout": "IPY_MODEL_36ad2879d8ff4abeb29cf91e3f5812b4",
      "placeholder": "​",
      "style": "IPY_MODEL_22a06e39d05f497f83d9c9c506820eec",
      "value": " 8388/8388 [00:10&lt;00:00, 834.97it/s]"
     }
    },
    "36ad2879d8ff4abeb29cf91e3f5812b4": {
     "model_module": "@jupyter-widgets/base",
     "model_name": "LayoutModel",
     "state": {
      "_model_module": "@jupyter-widgets/base",
      "_model_module_version": "1.2.0",
      "_model_name": "LayoutModel",
      "_view_count": null,
      "_view_module": "@jupyter-widgets/base",
      "_view_module_version": "1.2.0",
      "_view_name": "LayoutView",
      "align_content": null,
      "align_items": null,
      "align_self": null,
      "border": null,
      "bottom": null,
      "display": null,
      "flex": null,
      "flex_flow": null,
      "grid_area": null,
      "grid_auto_columns": null,
      "grid_auto_flow": null,
      "grid_auto_rows": null,
      "grid_column": null,
      "grid_gap": null,
      "grid_row": null,
      "grid_template_areas": null,
      "grid_template_columns": null,
      "grid_template_rows": null,
      "height": null,
      "justify_content": null,
      "justify_items": null,
      "left": null,
      "margin": null,
      "max_height": null,
      "max_width": null,
      "min_height": null,
      "min_width": null,
      "object_fit": null,
      "object_position": null,
      "order": null,
      "overflow": null,
      "overflow_x": null,
      "overflow_y": null,
      "padding": null,
      "right": null,
      "top": null,
      "visibility": null,
      "width": null
     }
    },
    "440abc5a58e7401b93d3a2db2f84702e": {
     "model_module": "@jupyter-widgets/base",
     "model_name": "LayoutModel",
     "state": {
      "_model_module": "@jupyter-widgets/base",
      "_model_module_version": "1.2.0",
      "_model_name": "LayoutModel",
      "_view_count": null,
      "_view_module": "@jupyter-widgets/base",
      "_view_module_version": "1.2.0",
      "_view_name": "LayoutView",
      "align_content": null,
      "align_items": null,
      "align_self": null,
      "border": null,
      "bottom": null,
      "display": null,
      "flex": null,
      "flex_flow": null,
      "grid_area": null,
      "grid_auto_columns": null,
      "grid_auto_flow": null,
      "grid_auto_rows": null,
      "grid_column": null,
      "grid_gap": null,
      "grid_row": null,
      "grid_template_areas": null,
      "grid_template_columns": null,
      "grid_template_rows": null,
      "height": null,
      "justify_content": null,
      "justify_items": null,
      "left": null,
      "margin": null,
      "max_height": null,
      "max_width": null,
      "min_height": null,
      "min_width": null,
      "object_fit": null,
      "object_position": null,
      "order": null,
      "overflow": null,
      "overflow_x": null,
      "overflow_y": null,
      "padding": null,
      "right": null,
      "top": null,
      "visibility": null,
      "width": null
     }
    },
    "4e480fd2d54141f7afcce93ae38a3c06": {
     "model_module": "@jupyter-widgets/base",
     "model_name": "LayoutModel",
     "state": {
      "_model_module": "@jupyter-widgets/base",
      "_model_module_version": "1.2.0",
      "_model_name": "LayoutModel",
      "_view_count": null,
      "_view_module": "@jupyter-widgets/base",
      "_view_module_version": "1.2.0",
      "_view_name": "LayoutView",
      "align_content": null,
      "align_items": null,
      "align_self": null,
      "border": null,
      "bottom": null,
      "display": null,
      "flex": null,
      "flex_flow": null,
      "grid_area": null,
      "grid_auto_columns": null,
      "grid_auto_flow": null,
      "grid_auto_rows": null,
      "grid_column": null,
      "grid_gap": null,
      "grid_row": null,
      "grid_template_areas": null,
      "grid_template_columns": null,
      "grid_template_rows": null,
      "height": null,
      "justify_content": null,
      "justify_items": null,
      "left": null,
      "margin": null,
      "max_height": null,
      "max_width": null,
      "min_height": null,
      "min_width": null,
      "object_fit": null,
      "object_position": null,
      "order": null,
      "overflow": null,
      "overflow_x": null,
      "overflow_y": null,
      "padding": null,
      "right": null,
      "top": null,
      "visibility": null,
      "width": null
     }
    },
    "739b74e51e014c0d82cc7e91ccc5a748": {
     "model_module": "@jupyter-widgets/controls",
     "model_name": "HBoxModel",
     "state": {
      "_dom_classes": [],
      "_model_module": "@jupyter-widgets/controls",
      "_model_module_version": "1.5.0",
      "_model_name": "HBoxModel",
      "_view_count": null,
      "_view_module": "@jupyter-widgets/controls",
      "_view_module_version": "1.5.0",
      "_view_name": "HBoxView",
      "box_style": "",
      "children": [
       "IPY_MODEL_bb435c4490cb4eac98ca42c0ca77672d",
       "IPY_MODEL_2d4c08dc37b542a89d5868656311f4de"
      ],
      "layout": "IPY_MODEL_1b1fc2a2e1fa4152a7117ce014037e5b"
     }
    },
    "75a6785a388542d6b7fa78695e750027": {
     "model_module": "@jupyter-widgets/controls",
     "model_name": "ProgressStyleModel",
     "state": {
      "_model_module": "@jupyter-widgets/controls",
      "_model_module_version": "1.5.0",
      "_model_name": "ProgressStyleModel",
      "_view_count": null,
      "_view_module": "@jupyter-widgets/base",
      "_view_module_version": "1.2.0",
      "_view_name": "StyleView",
      "bar_color": null,
      "description_width": "initial"
     }
    },
    "76ea991689694af1af7daab689b72c47": {
     "model_module": "@jupyter-widgets/controls",
     "model_name": "DescriptionStyleModel",
     "state": {
      "_model_module": "@jupyter-widgets/controls",
      "_model_module_version": "1.5.0",
      "_model_name": "DescriptionStyleModel",
      "_view_count": null,
      "_view_module": "@jupyter-widgets/base",
      "_view_module_version": "1.2.0",
      "_view_name": "StyleView",
      "description_width": ""
     }
    },
    "93808badcad548fe9f2f5302addbc3f1": {
     "model_module": "@jupyter-widgets/controls",
     "model_name": "ProgressStyleModel",
     "state": {
      "_model_module": "@jupyter-widgets/controls",
      "_model_module_version": "1.5.0",
      "_model_name": "ProgressStyleModel",
      "_view_count": null,
      "_view_module": "@jupyter-widgets/base",
      "_view_module_version": "1.2.0",
      "_view_name": "StyleView",
      "bar_color": null,
      "description_width": "initial"
     }
    },
    "bb435c4490cb4eac98ca42c0ca77672d": {
     "model_module": "@jupyter-widgets/controls",
     "model_name": "FloatProgressModel",
     "state": {
      "_dom_classes": [],
      "_model_module": "@jupyter-widgets/controls",
      "_model_module_version": "1.5.0",
      "_model_name": "FloatProgressModel",
      "_view_count": null,
      "_view_module": "@jupyter-widgets/controls",
      "_view_module_version": "1.5.0",
      "_view_name": "ProgressView",
      "bar_style": "success",
      "description": "100%",
      "description_tooltip": null,
      "layout": "IPY_MODEL_440abc5a58e7401b93d3a2db2f84702e",
      "max": 8388,
      "min": 0,
      "orientation": "horizontal",
      "style": "IPY_MODEL_93808badcad548fe9f2f5302addbc3f1",
      "value": 8388
     }
    },
    "c6d571c34d694dc5b95395e6c4d2aa95": {
     "model_module": "@jupyter-widgets/controls",
     "model_name": "HTMLModel",
     "state": {
      "_dom_classes": [],
      "_model_module": "@jupyter-widgets/controls",
      "_model_module_version": "1.5.0",
      "_model_name": "HTMLModel",
      "_view_count": null,
      "_view_module": "@jupyter-widgets/controls",
      "_view_module_version": "1.5.0",
      "_view_name": "HTMLView",
      "description": "",
      "description_tooltip": null,
      "layout": "IPY_MODEL_d1e00f6ed6b5466ca390e0ddfd962fce",
      "placeholder": "​",
      "style": "IPY_MODEL_76ea991689694af1af7daab689b72c47",
      "value": " 33551/33551 [01:20&lt;00:00, 416.52it/s]"
     }
    },
    "d1e00f6ed6b5466ca390e0ddfd962fce": {
     "model_module": "@jupyter-widgets/base",
     "model_name": "LayoutModel",
     "state": {
      "_model_module": "@jupyter-widgets/base",
      "_model_module_version": "1.2.0",
      "_model_name": "LayoutModel",
      "_view_count": null,
      "_view_module": "@jupyter-widgets/base",
      "_view_module_version": "1.2.0",
      "_view_name": "LayoutView",
      "align_content": null,
      "align_items": null,
      "align_self": null,
      "border": null,
      "bottom": null,
      "display": null,
      "flex": null,
      "flex_flow": null,
      "grid_area": null,
      "grid_auto_columns": null,
      "grid_auto_flow": null,
      "grid_auto_rows": null,
      "grid_column": null,
      "grid_gap": null,
      "grid_row": null,
      "grid_template_areas": null,
      "grid_template_columns": null,
      "grid_template_rows": null,
      "height": null,
      "justify_content": null,
      "justify_items": null,
      "left": null,
      "margin": null,
      "max_height": null,
      "max_width": null,
      "min_height": null,
      "min_width": null,
      "object_fit": null,
      "object_position": null,
      "order": null,
      "overflow": null,
      "overflow_x": null,
      "overflow_y": null,
      "padding": null,
      "right": null,
      "top": null,
      "visibility": null,
      "width": null
     }
    },
    "fba64c6441584423b202a74a869adabf": {
     "model_module": "@jupyter-widgets/controls",
     "model_name": "FloatProgressModel",
     "state": {
      "_dom_classes": [],
      "_model_module": "@jupyter-widgets/controls",
      "_model_module_version": "1.5.0",
      "_model_name": "FloatProgressModel",
      "_view_count": null,
      "_view_module": "@jupyter-widgets/controls",
      "_view_module_version": "1.5.0",
      "_view_name": "ProgressView",
      "bar_style": "success",
      "description": "100%",
      "description_tooltip": null,
      "layout": "IPY_MODEL_fbdbdf9e34474fd48f5f9570b69e222d",
      "max": 33551,
      "min": 0,
      "orientation": "horizontal",
      "style": "IPY_MODEL_75a6785a388542d6b7fa78695e750027",
      "value": 33551
     }
    },
    "fbdbdf9e34474fd48f5f9570b69e222d": {
     "model_module": "@jupyter-widgets/base",
     "model_name": "LayoutModel",
     "state": {
      "_model_module": "@jupyter-widgets/base",
      "_model_module_version": "1.2.0",
      "_model_name": "LayoutModel",
      "_view_count": null,
      "_view_module": "@jupyter-widgets/base",
      "_view_module_version": "1.2.0",
      "_view_name": "LayoutView",
      "align_content": null,
      "align_items": null,
      "align_self": null,
      "border": null,
      "bottom": null,
      "display": null,
      "flex": null,
      "flex_flow": null,
      "grid_area": null,
      "grid_auto_columns": null,
      "grid_auto_flow": null,
      "grid_auto_rows": null,
      "grid_column": null,
      "grid_gap": null,
      "grid_row": null,
      "grid_template_areas": null,
      "grid_template_columns": null,
      "grid_template_rows": null,
      "height": null,
      "justify_content": null,
      "justify_items": null,
      "left": null,
      "margin": null,
      "max_height": null,
      "max_width": null,
      "min_height": null,
      "min_width": null,
      "object_fit": null,
      "object_position": null,
      "order": null,
      "overflow": null,
      "overflow_x": null,
      "overflow_y": null,
      "padding": null,
      "right": null,
      "top": null,
      "visibility": null,
      "width": null
     }
    }
   }
  }
 },
 "nbformat": 4,
 "nbformat_minor": 1
}
