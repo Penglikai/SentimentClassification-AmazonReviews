{
 "cells": [
  {
   "cell_type": "code",
   "execution_count": 74,
   "metadata": {
    "id": "DD6x57fwMe6n"
   },
   "outputs": [],
   "source": [
    "#all imports\n",
    "import numpy as np\n",
    "import pandas as pd\n",
    "import tensorflow as tf\n",
    "import tensorflow_hub as hub\n",
    "from tensorflow.keras.models import Model\n",
    "from tensorflow.keras.utils import plot_model\n",
    "from tqdm import tqdm_notebook\n",
    "import re\n",
    "import pickle\n",
    "from sklearn.model_selection import train_test_split\n",
    "import os\n",
    "from tensorflow.keras.utils import to_categorical\n",
    "import nltk\n",
    "import sys\n",
    "sys.path.append('/content')\n",
    "import tokenization\n"
   ]
  },
  {
   "cell_type": "code",
   "execution_count": 75,
   "metadata": {
    "colab": {
     "base_uri": "https://localhost:8080/"
    },
    "id": "gizwFOzAoTor",
    "outputId": "58151ff5-501f-4824-afd1-0c69ccf5ab38"
   },
   "outputs": [
    {
     "name": "stdout",
     "output_type": "stream",
     "text": [
      "Requirement already satisfied: sentencepiece in /usr/local/lib/python3.6/dist-packages (0.1.94)\n"
     ]
    }
   ],
   "source": [
    "!pip install sentencepiece"
   ]
  },
  {
   "cell_type": "code",
   "execution_count": 76,
   "metadata": {
    "colab": {
     "base_uri": "https://localhost:8080/"
    },
    "id": "7emrkJxcl_YL",
    "outputId": "82533c61-524b-46b3-dee0-3bf6606b1c6f"
   },
   "outputs": [
    {
     "name": "stdout",
     "output_type": "stream",
     "text": [
      "Requirement already satisfied: sentencepiece in /usr/local/lib/python3.6/dist-packages (0.1.94)\n"
     ]
    }
   ],
   "source": [
    "!pip install sentencepiece"
   ]
  },
  {
   "cell_type": "code",
   "execution_count": 77,
   "metadata": {
    "colab": {
     "base_uri": "https://localhost:8080/",
     "height": 35
    },
    "id": "tTqFAGdFMe6v",
    "outputId": "fad6b73d-d583-4a62-9a6e-35a0d3ff144f"
   },
   "outputs": [
    {
     "data": {
      "application/vnd.google.colaboratory.intrinsic+json": {
       "type": "string"
      },
      "text/plain": [
       "'/device:GPU:0'"
      ]
     },
     "execution_count": 77,
     "metadata": {
      "tags": []
     },
     "output_type": "execute_result"
    }
   ],
   "source": [
    "tf.test.gpu_device_name()"
   ]
  },
  {
   "cell_type": "markdown",
   "metadata": {
    "id": "EVUsfdxQfMFv"
   },
   "source": [
    "<pre><font size=6>Preprocessing</font></pre>"
   ]
  },
  {
   "cell_type": "code",
   "execution_count": 125,
   "metadata": {
    "colab": {
     "base_uri": "https://localhost:8080/"
    },
    "id": "12z3g422Me66",
    "outputId": "ce9cc115-40d8-4ab9-abcf-be9ec37d2968",
    "scrolled": true
   },
   "outputs": [
    {
     "name": "stdout",
     "output_type": "stream",
     "text": [
      "<class 'pandas.core.frame.DataFrame'>\n",
      "RangeIndex: 60000 entries, 0 to 59999\n",
      "Data columns (total 3 columns):\n",
      " #   Column      Non-Null Count  Dtype \n",
      "---  ------      --------------  ----- \n",
      " 0   Unnamed: 0  60000 non-null  int64 \n",
      " 1   Text        59994 non-null  object\n",
      " 2   Score       60000 non-null  int64 \n",
      "dtypes: int64(2), object(1)\n",
      "memory usage: 1.4+ MB\n"
     ]
    }
   ],
   "source": [
    "#Read the dataset - Amazon reviews\n",
    "reviews = pd.read_csv(r\"/content/data/Reviews.csv\",engine='python',encoding='utf8',error_bad_lines=False)\n",
    "#check the info of the dataset\n",
    "reviews.info()"
   ]
  },
  {
   "cell_type": "code",
   "execution_count": 126,
   "metadata": {
    "colab": {
     "base_uri": "https://localhost:8080/"
    },
    "id": "OxLWy0hFMe6-",
    "outputId": "e3761bf8-ca4a-4823-c256-c26f8dd59813"
   },
   "outputs": [
    {
     "name": "stderr",
     "output_type": "stream",
     "text": [
      "/usr/local/lib/python3.6/dist-packages/ipykernel_launcher.py:4: SettingWithCopyWarning: \n",
      "A value is trying to be set on a copy of a slice from a DataFrame\n",
      "\n",
      "See the caveats in the documentation: https://pandas.pydata.org/pandas-docs/stable/user_guide/indexing.html#returning-a-view-versus-a-copy\n",
      "  after removing the cwd from sys.path.\n"
     ]
    }
   ],
   "source": [
    "#get only 2 columns - Text, Score\n",
    "#drop the NAN values\n",
    "reviews_cut = reviews[['Text','Score']]\n",
    "reviews_cut.dropna(inplace=True)"
   ]
  },
  {
   "cell_type": "code",
   "execution_count": 127,
   "metadata": {
    "colab": {
     "base_uri": "https://localhost:8080/"
    },
    "id": "gWVDb4GsnzUI",
    "outputId": "379e51fd-22dd-4be8-f7d4-b48ef5c9102f"
   },
   "outputs": [
    {
     "data": {
      "text/plain": [
       "0    29998\n",
       "1    29996\n",
       "Name: Score, dtype: int64"
      ]
     },
     "execution_count": 127,
     "metadata": {
      "tags": []
     },
     "output_type": "execute_result"
    }
   ],
   "source": [
    "reviews_cut['Score'].value_counts()"
   ]
  },
  {
   "cell_type": "code",
   "execution_count": 129,
   "metadata": {
    "colab": {
     "base_uri": "https://localhost:8080/",
     "height": 262
    },
    "id": "ns2gBiuSOpNN",
    "outputId": "2eb2712a-ae74-47a9-a0f6-6dd117312b95"
   },
   "outputs": [
    {
     "data": {
      "image/png": "[encoded data removed]",
      "text/plain": [
       "<Figure size 432x288 with 1 Axes>"
      ]
     },
     "metadata": {
      "needs_background": "light",
      "tags": []
     },
     "output_type": "display_data"
    }
   ],
   "source": [
    "reviews_cut['Score'].value_counts().plot(kind='bar');"
   ]
  },
  {
   "cell_type": "code",
   "execution_count": 81,
   "metadata": {
    "id": "BJfy3aGNtXY8"
   },
   "outputs": [],
   "source": [
    "reviews=reviews_cut"
   ]
  },
  {
   "cell_type": "code",
   "execution_count": 132,
   "metadata": {
    "id": "BBPd28v_PRWQ"
   },
   "outputs": [],
   "source": [
    "reviews.drop(columns=(['Unnamed: 0']),inplace=True)"
   ]
  },
  {
   "cell_type": "code",
   "execution_count": 133,
   "metadata": {
    "colab": {
     "base_uri": "https://localhost:8080/",
     "height": 423
    },
    "id": "jbK9srGEPe2S",
    "outputId": "963e301a-be31-4fe8-bd9a-22a88aa70def"
   },
   "outputs": [
    {
     "data": {
      "text/html": [
       "<div>\n",
       "<style scoped>\n",
       "    .dataframe tbody tr th:only-of-type {\n",
       "        vertical-align: middle;\n",
       "    }\n",
       "\n",
       "    .dataframe tbody tr th {\n",
       "        vertical-align: top;\n",
       "    }\n",
       "\n",
       "    .dataframe thead th {\n",
       "        text-align: right;\n",
       "    }\n",
       "</style>\n",
       "<table border=\"1\" class=\"dataframe\">\n",
       "  <thead>\n",
       "    <tr style=\"text-align: right;\">\n",
       "      <th></th>\n",
       "      <th>Text</th>\n",
       "      <th>Score</th>\n",
       "    </tr>\n",
       "  </thead>\n",
       "  <tbody>\n",
       "    <tr>\n",
       "      <th>0</th>\n",
       "      <td>not like her mc books did not enjoy this story...</td>\n",
       "      <td>0</td>\n",
       "    </tr>\n",
       "    <tr>\n",
       "      <th>1</th>\n",
       "      <td>if you like loveatfirstsight romances this wil...</td>\n",
       "      <td>0</td>\n",
       "    </tr>\n",
       "    <tr>\n",
       "      <th>2</th>\n",
       "      <td>only very poor desperate writers resort to cli...</td>\n",
       "      <td>0</td>\n",
       "    </tr>\n",
       "    <tr>\n",
       "      <th>3</th>\n",
       "      <td>im sorry i had to stop reading evie was one of...</td>\n",
       "      <td>0</td>\n",
       "    </tr>\n",
       "    <tr>\n",
       "      <th>4</th>\n",
       "      <td>very superficial the entire book read like a p...</td>\n",
       "      <td>0</td>\n",
       "    </tr>\n",
       "    <tr>\n",
       "      <th>...</th>\n",
       "      <td>...</td>\n",
       "      <td>...</td>\n",
       "    </tr>\n",
       "    <tr>\n",
       "      <th>59995</th>\n",
       "      <td>i want more already added it to my wish list t...</td>\n",
       "      <td>1</td>\n",
       "    </tr>\n",
       "    <tr>\n",
       "      <th>59996</th>\n",
       "      <td>i received this book from the author as a pape...</td>\n",
       "      <td>1</td>\n",
       "    </tr>\n",
       "    <tr>\n",
       "      <th>59997</th>\n",
       "      <td>funny and brilliant i have to admit i was nt s...</td>\n",
       "      <td>1</td>\n",
       "    </tr>\n",
       "    <tr>\n",
       "      <th>59998</th>\n",
       "      <td>lovely story</td>\n",
       "      <td>1</td>\n",
       "    </tr>\n",
       "    <tr>\n",
       "      <th>59999</th>\n",
       "      <td>the dialogue between mary and elliott was beau...</td>\n",
       "      <td>1</td>\n",
       "    </tr>\n",
       "  </tbody>\n",
       "</table>\n",
       "<p>60000 rows × 2 columns</p>\n",
       "</div>"
      ],
      "text/plain": [
       "                                                    Text  Score\n",
       "0      not like her mc books did not enjoy this story...      0\n",
       "1      if you like loveatfirstsight romances this wil...      0\n",
       "2      only very poor desperate writers resort to cli...      0\n",
       "3      im sorry i had to stop reading evie was one of...      0\n",
       "4      very superficial the entire book read like a p...      0\n",
       "...                                                  ...    ...\n",
       "59995  i want more already added it to my wish list t...      1\n",
       "59996  i received this book from the author as a pape...      1\n",
       "59997  funny and brilliant i have to admit i was nt s...      1\n",
       "59998                                       lovely story      1\n",
       "59999  the dialogue between mary and elliott was beau...      1\n",
       "\n",
       "[60000 rows x 2 columns]"
      ]
     },
     "execution_count": 133,
     "metadata": {
      "tags": []
     },
     "output_type": "execute_result"
    }
   ],
   "source": [
    "reviews"
   ]
  },
  {
   "cell_type": "code",
   "execution_count": 82,
   "metadata": {
    "id": "xYZ-UB9UqVA-"
   },
   "outputs": [],
   "source": [
    "def get_wordlen(x):\n",
    "  return len(x.split())\n",
    "reviews['len'] = reviews.Text.apply(get_wordlen)\n",
    "reviews = reviews[reviews.len<95]"
   ]
  },
  {
   "cell_type": "code",
   "execution_count": 83,
   "metadata": {
    "id": "gMiWNfrqeR7p"
   },
   "outputs": [],
   "source": [
    "reviews = reviews.reset_index(drop=True)"
   ]
  },
  {
   "cell_type": "code",
   "execution_count": 84,
   "metadata": {
    "colab": {
     "base_uri": "https://localhost:8080/"
    },
    "id": "WyHEHS0MMe7K",
    "outputId": "9fca6960-fe1d-48f7-9b08-a4d1e7484613"
   },
   "outputs": [
    {
     "data": {
      "text/plain": [
       "(41939, 3)"
      ]
     },
     "execution_count": 84,
     "metadata": {
      "tags": []
     },
     "output_type": "execute_result"
    }
   ],
   "source": [
    "reviews.shape"
   ]
  },
  {
   "cell_type": "code",
   "execution_count": 85,
   "metadata": {
    "id": "NsYDd3okqVBF"
   },
   "outputs": [],
   "source": [
    "#split the data into train and test data(20%) with Stratify sampling\n",
    "X_train, X_test, y_train, y_test = train_test_split(reviews[['Text','len']], reviews[['Score']],shuffle=True,test_size=0.20, random_state=33)"
   ]
  },
  {
   "cell_type": "code",
   "execution_count": 86,
   "metadata": {
    "colab": {
     "base_uri": "https://localhost:8080/",
     "height": 262
    },
    "id": "-Q6OAcrOqVBI",
    "outputId": "c1b280e4-5c4b-4c2d-9b71-496aa1eb0720"
   },
   "outputs": [
    {
     "data": {
      "image/png": "[encoded data removed]",
      "text/plain": [
       "<Figure size 432x288 with 1 Axes>"
      ]
     },
     "metadata": {
      "needs_background": "light",
      "tags": []
     },
     "output_type": "display_data"
    }
   ],
   "source": [
    "#plot bar graphs of y_train and y_test\n",
    "\n",
    "y_train['Score'].value_counts().plot(kind='bar');"
   ]
  },
  {
   "cell_type": "code",
   "execution_count": 87,
   "metadata": {
    "colab": {
     "base_uri": "https://localhost:8080/",
     "height": 262
    },
    "id": "dlF3bj3DMe7Y",
    "outputId": "87e5840f-7e93-4393-fa51-526103122273"
   },
   "outputs": [
    {
     "data": {
      "image/png": "[encoded data removed]",
      "text/plain": [
       "<Figure size 432x288 with 1 Axes>"
      ]
     },
     "metadata": {
      "needs_background": "light",
      "tags": []
     },
     "output_type": "display_data"
    }
   ],
   "source": [
    "y_test['Score'].value_counts().plot(kind='bar');"
   ]
  },
  {
   "cell_type": "code",
   "execution_count": 88,
   "metadata": {
    "id": "Up-z5boWqVBK"
   },
   "outputs": [],
   "source": [
    "#saving to disk\n",
    "reviews.to_csv('data/preprocessed.csv', index=False)"
   ]
  },
  {
   "cell_type": "markdown",
   "metadata": {
    "id": "bBtqNGN9qVBM"
   },
   "source": [
    "<pre><font size=6>Creating BERT Model</font> \n"
   ]
  },
  {
   "cell_type": "code",
   "execution_count": 89,
   "metadata": {
    "id": "i8xd2HejqVBN"
   },
   "outputs": [],
   "source": [
    "## Loading the Pretrained Model from tensorflow HUB\n",
    "tf.keras.backend.clear_session()\n",
    "\n",
    "# maximum length\n",
    "max_seq_length = 100\n",
    "\n",
    "#input words\n",
    "input_word_ids = tf.keras.layers.Input(shape=(max_seq_length,), dtype=tf.int32, name=\"input_word_ids\")\n",
    "\n",
    "#mask vector\n",
    "input_mask = tf.keras.layers.Input(shape=(max_seq_length,), dtype=tf.int32, name=\"input_mask\")\n",
    "\n",
    "#segment vectors.\n",
    "segment_ids = tf.keras.layers.Input(shape=(max_seq_length,), dtype=tf.int32, name=\"segment_ids\")\n",
    "\n",
    "#bert layer \n",
    "bert_layer = hub.KerasLayer(\"https://tfhub.dev/tensorflow/bert_en_uncased_L-24_H-1024_A-16/2\", trainable=True)\n",
    "pooled_output, sequence_output = bert_layer([input_word_ids, input_mask, segment_ids])\n",
    "\n",
    "#Bert model\n",
    "\n",
    "bert_model = Model(inputs=[input_word_ids, input_mask, segment_ids], outputs=pooled_output)"
   ]
  },
  {
   "cell_type": "code",
   "execution_count": 90,
   "metadata": {
    "colab": {
     "base_uri": "https://localhost:8080/"
    },
    "id": "lQJsjg6fqVBQ",
    "outputId": "29b513c9-09f5-49cd-d1f4-6e30b6e49eff"
   },
   "outputs": [
    {
     "name": "stdout",
     "output_type": "stream",
     "text": [
      "Model: \"functional_1\"\n",
      "__________________________________________________________________________________________________\n",
      "Layer (type)                    Output Shape         Param #     Connected to                     \n",
      "==================================================================================================\n",
      "input_word_ids (InputLayer)     [(None, 100)]        0                                            \n",
      "__________________________________________________________________________________________________\n",
      "input_mask (InputLayer)         [(None, 100)]        0                                            \n",
      "__________________________________________________________________________________________________\n",
      "segment_ids (InputLayer)        [(None, 100)]        0                                            \n",
      "__________________________________________________________________________________________________\n",
      "keras_layer (KerasLayer)        [(None, 1024), (None 335141889   input_word_ids[0][0]             \n",
      "                                                                 input_mask[0][0]                 \n",
      "                                                                 segment_ids[0][0]                \n",
      "==================================================================================================\n",
      "Total params: 335,141,889\n",
      "Trainable params: 335,141,888\n",
      "Non-trainable params: 1\n",
      "__________________________________________________________________________________________________\n"
     ]
    }
   ],
   "source": [
    "bert_model.summary()"
   ]
  },
  {
   "cell_type": "code",
   "execution_count": 91,
   "metadata": {
    "colab": {
     "base_uri": "https://localhost:8080/"
    },
    "id": "w3z0OMA5qVBS",
    "outputId": "b8c16ce6-0067-403f-ce94-a61a99a3119d"
   },
   "outputs": [
    {
     "data": {
      "text/plain": [
       "<tf.Tensor 'keras_layer/cond/Identity:0' shape=(None, 1024) dtype=float32>"
      ]
     },
     "execution_count": 91,
     "metadata": {
      "tags": []
     },
     "output_type": "execute_result"
    }
   ],
   "source": [
    "bert_model.output"
   ]
  },
  {
   "cell_type": "markdown",
   "metadata": {
    "id": "Ewv4hFCsqVBU"
   },
   "source": [
    "<pre><font size=6>Tokenization</font></pre>"
   ]
  },
  {
   "cell_type": "code",
   "execution_count": 92,
   "metadata": {
    "id": "tX3VEFjiqVBU"
   },
   "outputs": [],
   "source": [
    "#getting Vocab file\n",
    "vocab_file = bert_layer.resolved_object.vocab_file.asset_path.numpy()\n",
    "do_lower_case = bert_layer.resolved_object.do_lower_case.numpy()"
   ]
  },
  {
   "cell_type": "code",
   "execution_count": 93,
   "metadata": {
    "id": "VlbrSzpvN5Tu"
   },
   "outputs": [],
   "source": [
    "#installing required module\n",
    "#%pip install sentencepiece "
   ]
  },
  {
   "cell_type": "code",
   "execution_count": 94,
   "metadata": {
    "id": "guJMLJ8bqVBY"
   },
   "outputs": [],
   "source": [
    "# Create tokenizer \n",
    "tokenizer = tokenization.FullTokenizer(vocab_file, do_lower_case )\n"
   ]
  },
  {
   "cell_type": "code",
   "execution_count": 95,
   "metadata": {
    "colab": {
     "base_uri": "https://localhost:8080/"
    },
    "id": "t7IyEK-2Me7y",
    "outputId": "862c4709-b91a-468e-a363-6f3213c9b2d8"
   },
   "outputs": [
    {
     "data": {
      "text/plain": [
       "array(['sorry but i have to give this 2 stars because it does not contain a single photo which is a must in any cookbook any cookbook author who does not know how to upload photo images really needs to learn how',\n",
       "       41], dtype=object)"
      ]
     },
     "execution_count": 95,
     "metadata": {
      "tags": []
     },
     "output_type": "execute_result"
    }
   ],
   "source": [
    "X_train.values[100]"
   ]
  },
  {
   "cell_type": "markdown",
   "metadata": {
    "id": "4_UjRHOjrLuk"
   },
   "source": [
    "<pre><font size=6>Get 3 inputs of BERT</font></pre>"
   ]
  },
  {
   "cell_type": "code",
   "execution_count": 96,
   "metadata": {
    "colab": {
     "base_uri": "https://localhost:8080/",
     "height": 142,
     "referenced_widgets": [
      "35cb2b7bb9c04618b8c34d4257fd545a",
      "872af7e561454a05892f7df765579cea",
      "f07fc93f1c2146a3b2836406cf01f8d1",
      "5014ae78333540578aa3f134b3162471",
      "16fadee288d049c4ad886967eb44ed61",
      "fdadc02eda354d56a1deff3162be63bf",
      "064629170284482ba421d2089ec160c1",
      "d880b2c57d0d458a8df2274de4481031"
     ]
    },
    "id": "GsFJZ3VzMe70",
    "outputId": "73e189fd-c934-4add-eae7-976d216b8ab0"
   },
   "outputs": [
    {
     "name": "stderr",
     "output_type": "stream",
     "text": [
      "/usr/local/lib/python3.6/dist-packages/ipykernel_launcher.py:7: TqdmDeprecationWarning: This function will be removed in tqdm==5.0.0\n",
      "Please use `tqdm.notebook.tqdm` instead of `tqdm.tqdm_notebook`\n",
      "  import sys\n"
     ]
    },
    {
     "data": {
      "application/vnd.jupyter.widget-view+json": {
       "model_id": "35cb2b7bb9c04618b8c34d4257fd545a",
       "version_major": 2,
       "version_minor": 0
      },
      "text/plain": [
       "HBox(children=(FloatProgress(value=0.0, max=33551.0), HTML(value='')))"
      ]
     },
     "metadata": {
      "tags": []
     },
     "output_type": "display_data"
    },
    {
     "name": "stdout",
     "output_type": "stream",
     "text": [
      "\n"
     ]
    }
   ],
   "source": [
    "# Processing to get X_train_tokens, X_train_mask, X_train_segment\n",
    "max_tokens = 100\n",
    "X_train_tokens=[]\n",
    "X_train_mask = []\n",
    "X_train_segment = []\n",
    "# iterate over X_train\n",
    "for i in tqdm_notebook(range(len(X_train))):\n",
    "    temp_tokens=tokenizer.tokenize(X_train.values[i][0])\n",
    "    if len(temp_tokens)>= max_tokens-2:\n",
    "        temp_tokens = temp_tokens[0:(max_tokens-2)]\n",
    "    # adding [CLS] at start and [SEP] at end\n",
    "    temp_tokens = ['[CLS]',*temp_tokens,'[SEP]']\n",
    "    pad = max_tokens - len(temp_tokens)\n",
    "    if pad > 0 :\n",
    "        #adding Padding\n",
    "        pads = ['[PAD]']*pad\n",
    "        temp_tokens_fix = [*temp_tokens,*pads]\n",
    "    else:\n",
    "        temp_tokens_fix = temp_tokens\n",
    "    tokens      = np.array(tokenizer.convert_tokens_to_ids(temp_tokens_fix))\n",
    "    mask_tokens = np.array([1]*len(temp_tokens)+[0]*pad)\n",
    "    seg_tokens  = np.array([0]*len(temp_tokens_fix))\n",
    "    \n",
    "    X_train_tokens.append(tokens)\n",
    "    X_train_mask.append(mask_tokens)\n",
    "    X_train_segment.append(seg_tokens)"
   ]
  },
  {
   "cell_type": "code",
   "execution_count": 97,
   "metadata": {
    "id": "tIvB3HRdMe71"
   },
   "outputs": [],
   "source": [
    "#Convert all into np.array\n",
    "X_train_tokens = np.array(X_train_tokens)\n",
    "X_train_mask = np.array(X_train_mask)\n",
    "X_train_segment = np.array(X_train_segment)\n",
    "y_train = np.array(y_train)"
   ]
  },
  {
   "cell_type": "code",
   "execution_count": 98,
   "metadata": {
    "colab": {
     "base_uri": "https://localhost:8080/"
    },
    "id": "sZ5l-oC5Me72",
    "outputId": "119bc8cf-470a-4b9d-c6c3-d98b7397da03"
   },
   "outputs": [
    {
     "data": {
      "text/plain": [
       "100"
      ]
     },
     "execution_count": 98,
     "metadata": {
      "tags": []
     },
     "output_type": "execute_result"
    }
   ],
   "source": [
    "len(X_train_tokens[2])"
   ]
  },
  {
   "cell_type": "code",
   "execution_count": 99,
   "metadata": {
    "colab": {
     "base_uri": "https://localhost:8080/"
    },
    "id": "d0OZsXI8aQsK",
    "outputId": "1e84197b-b7c2-4f4c-de41-2f984ec003ec"
   },
   "outputs": [
    {
     "data": {
      "text/plain": [
       "array([  101,  2023,  2003,  2107,  2019,  6429,  2338,  2009,  2018,\n",
       "        2033, 16986,  2127,  1996,  2203,  1998,  1045,  2145,  2031,\n",
       "        3980,  1045,  6187, 23961,  3524,  2000,  3191,  2338,  2048,\n",
       "        2023,  2338,  3957,  1037,  2047,  3574,  2000,  2569,  3754,\n",
       "        2064,  6586,  2741,  2011,  2643,  2428,  2444,  2426,  2149,\n",
       "        2030,  2024,  2122,  2111,  2074,  8687, 12784,  3849,  2000,\n",
       "        2228, 14992,  2890,  2003,  2062,  2000,  2009,  2035,  2330,\n",
       "        2023,  2338,  1998,  2424,  2041,  2005,  4426,  1045,  2228,\n",
       "        2017,  2097,  5959,  2009,  2004,  2172,  2004,  1045,  2106,\n",
       "         102,     0,     0,     0,     0,     0,     0,     0,     0,\n",
       "           0,     0,     0,     0,     0,     0,     0,     0,     0,\n",
       "           0])"
      ]
     },
     "execution_count": 99,
     "metadata": {
      "tags": []
     },
     "output_type": "execute_result"
    }
   ],
   "source": [
    "X_train_tokens[0]"
   ]
  },
  {
   "cell_type": "code",
   "execution_count": 100,
   "metadata": {
    "colab": {
     "base_uri": "https://localhost:8080/",
     "height": 142,
     "referenced_widgets": [
      "f068d23ce0364985b5d70c2697edcc29",
      "0333e9aa98684273958e768ee051fc0a",
      "f9dc3bd63e824acbbb8f7a50238f24f7",
      "934327bbb7304f83958150d620ec6a40",
      "797a04b1db91491d9a285a9f177466fd",
      "0122f44d05be4eee855eb9a41c39132c",
      "2619717b3b4f416dbc34ad5f3e02d358",
      "9571b95a786a4274a3399afb935cc928"
     ]
    },
    "id": "qMA3BnU6Me75",
    "outputId": "6551f78a-b4d3-4ddc-fa10-9b9a3702162e"
   },
   "outputs": [
    {
     "name": "stderr",
     "output_type": "stream",
     "text": [
      "/usr/local/lib/python3.6/dist-packages/ipykernel_launcher.py:7: TqdmDeprecationWarning: This function will be removed in tqdm==5.0.0\n",
      "Please use `tqdm.notebook.tqdm` instead of `tqdm.tqdm_notebook`\n",
      "  import sys\n"
     ]
    },
    {
     "data": {
      "application/vnd.jupyter.widget-view+json": {
       "model_id": "f068d23ce0364985b5d70c2697edcc29",
       "version_major": 2,
       "version_minor": 0
      },
      "text/plain": [
       "HBox(children=(FloatProgress(value=0.0, max=8388.0), HTML(value='')))"
      ]
     },
     "metadata": {
      "tags": []
     },
     "output_type": "display_data"
    },
    {
     "name": "stdout",
     "output_type": "stream",
     "text": [
      "\n"
     ]
    }
   ],
   "source": [
    "# Processing to get X_test_tokens, X_test_mask, X_test_segment\n",
    "max_tokens = 100\n",
    "X_test_tokens=[]\n",
    "X_test_mask = []\n",
    "X_test_segment = []\n",
    "# Iterate over X_test \n",
    "for i in tqdm_notebook(range(len(X_test))):\n",
    "    # Tokenixe each review\n",
    "    temp_tokens=tokenizer.tokenize(X_test.values[i][0])\n",
    "    # Truncating if review is large \n",
    "    if len(temp_tokens)>= max_tokens-2:\n",
    "        temp_tokens = temp_tokens[0:(max_tokens-2)]\n",
    "    # adding [CLS] at start and [SEP] at end\n",
    "    temp_tokens = ['[CLS]',*temp_tokens,'[SEP]']\n",
    "    pad = max_tokens - len(temp_tokens)\n",
    "    #adding Padding upto max token size\n",
    "    if pad > 0 :\n",
    "        pads = ['[PAD]']*pad\n",
    "        temp_tokens_fix = [*temp_tokens,*pads]\n",
    "    else:\n",
    "        temp_tokens_fix = temp_tokens\n",
    "    # Convert Tokens to ids\n",
    "    tokens      = np.array(tokenizer.convert_tokens_to_ids(temp_tokens_fix))\n",
    "    #Creating mask token and segment token of each review\n",
    "    mask_tokens = np.array([1]*len(temp_tokens)+[0]*pad)\n",
    "    seg_tokens  = np.array([0]*len(temp_tokens_fix))\n",
    "    # Appending the review converted to id, the mask and segment tokens\n",
    "    X_test_tokens.append(tokens)\n",
    "    X_test_mask.append(mask_tokens)\n",
    "    X_test_segment.append(seg_tokens)"
   ]
  },
  {
   "cell_type": "code",
   "execution_count": 101,
   "metadata": {
    "id": "rFS3_LIJMe76"
   },
   "outputs": [],
   "source": [
    "#Convert all into np.array\n",
    "X_test_tokens = np.array(X_test_tokens)\n",
    "X_test_mask = np.array(X_test_mask)\n",
    "X_test_segment = np.array(X_test_segment)\n",
    "y_test = np.array(y_test)"
   ]
  },
  {
   "cell_type": "code",
   "execution_count": 102,
   "metadata": {
    "id": "xF0idMRDqVBm"
   },
   "outputs": [],
   "source": [
    "##save results \n",
    "pickle.dump((X_train, X_train_tokens, X_train_mask, X_train_segment, y_train),open('/content/model/train_data.pkl','wb'))\n",
    "pickle.dump((X_test, X_test_tokens, X_test_mask, X_test_segment, y_test),open('/content/model/test_data.pkl','wb'))"
   ]
  },
  {
   "cell_type": "code",
   "execution_count": 103,
   "metadata": {
    "id": "Leu1URGzqVBo"
   },
   "outputs": [],
   "source": [
    "#load data\n",
    "X_train, X_train_tokens, X_train_mask, X_train_segment, y_train = pickle.load(open(\"/content/model/train_data.pkl\", 'rb')) \n",
    "X_test, X_test_tokens, X_test_mask, X_test_segment, y_test = pickle.load(open(\"/content/model/test_data.pkl\", 'rb')) "
   ]
  },
  {
   "cell_type": "code",
   "execution_count": 104,
   "metadata": {
    "colab": {
     "base_uri": "https://localhost:8080/"
    },
    "id": "QwOVgQFDqVBy",
    "outputId": "75fa7d9c-9abf-4fec-ff79-16478117a5d7"
   },
   "outputs": [
    {
     "data": {
      "text/plain": [
       "[<tf.Tensor 'input_word_ids:0' shape=(None, 100) dtype=int32>,\n",
       " <tf.Tensor 'input_mask:0' shape=(None, 100) dtype=int32>,\n",
       " <tf.Tensor 'segment_ids:0' shape=(None, 100) dtype=int32>]"
      ]
     },
     "execution_count": 104,
     "metadata": {
      "tags": []
     },
     "output_type": "execute_result"
    }
   ],
   "source": [
    "bert_model.input"
   ]
  },
  {
   "cell_type": "code",
   "execution_count": 105,
   "metadata": {
    "colab": {
     "base_uri": "https://localhost:8080/"
    },
    "id": "ZcpkQq1OqVB0",
    "outputId": "63508548-56f0-4e2f-d48f-742050749d38"
   },
   "outputs": [
    {
     "data": {
      "text/plain": [
       "<tf.Tensor 'keras_layer/cond/Identity:0' shape=(None, 1024) dtype=float32>"
      ]
     },
     "execution_count": 105,
     "metadata": {
      "tags": []
     },
     "output_type": "execute_result"
    }
   ],
   "source": [
    "bert_model.output"
   ]
  },
  {
   "cell_type": "code",
   "execution_count": 106,
   "metadata": {
    "id": "IxdIlOIBlm7j"
   },
   "outputs": [],
   "source": [
    "# get the train output\n",
    "X_train_pooled_output=bert_model.predict([X_train_tokens,X_train_mask,X_train_segment])"
   ]
  },
  {
   "cell_type": "code",
   "execution_count": 107,
   "metadata": {
    "id": "yZT11BCol4gL"
   },
   "outputs": [],
   "source": [
    "# get the test output\n",
    "X_test_pooled_output=bert_model.predict([X_test_tokens,X_test_mask,X_test_segment])"
   ]
  },
  {
   "cell_type": "code",
   "execution_count": 108,
   "metadata": {
    "id": "DL6JVojfqVB8"
   },
   "outputs": [],
   "source": [
    "##save results\n",
    "pickle.dump((X_train_pooled_output, X_test_pooled_output),open('/content/model/final_output.pkl','wb'))"
   ]
  },
  {
   "cell_type": "code",
   "execution_count": 109,
   "metadata": {
    "id": "oSQcBdROqVB9"
   },
   "outputs": [],
   "source": [
    "#Load the results\n",
    "X_train_pooled_output, X_test_pooled_output= pickle.load(open('/content/model/final_output.pkl', 'rb'))"
   ]
  },
  {
   "cell_type": "code",
   "execution_count": 110,
   "metadata": {
    "colab": {
     "base_uri": "https://localhost:8080/",
     "height": 206
    },
    "id": "Vbi31oKWn8p2",
    "outputId": "a18a5eb0-4319-49c4-b715-3ee8144c1475"
   },
   "outputs": [
    {
     "data": {
      "text/html": [
       "<div>\n",
       "<style scoped>\n",
       "    .dataframe tbody tr th:only-of-type {\n",
       "        vertical-align: middle;\n",
       "    }\n",
       "\n",
       "    .dataframe tbody tr th {\n",
       "        vertical-align: top;\n",
       "    }\n",
       "\n",
       "    .dataframe thead th {\n",
       "        text-align: right;\n",
       "    }\n",
       "</style>\n",
       "<table border=\"1\" class=\"dataframe\">\n",
       "  <thead>\n",
       "    <tr style=\"text-align: right;\">\n",
       "      <th></th>\n",
       "      <th>class</th>\n",
       "    </tr>\n",
       "  </thead>\n",
       "  <tbody>\n",
       "    <tr>\n",
       "      <th>0</th>\n",
       "      <td>1</td>\n",
       "    </tr>\n",
       "    <tr>\n",
       "      <th>1</th>\n",
       "      <td>1</td>\n",
       "    </tr>\n",
       "    <tr>\n",
       "      <th>2</th>\n",
       "      <td>1</td>\n",
       "    </tr>\n",
       "    <tr>\n",
       "      <th>3</th>\n",
       "      <td>0</td>\n",
       "    </tr>\n",
       "    <tr>\n",
       "      <th>4</th>\n",
       "      <td>0</td>\n",
       "    </tr>\n",
       "  </tbody>\n",
       "</table>\n",
       "</div>"
      ],
      "text/plain": [
       "   class\n",
       "0      1\n",
       "1      1\n",
       "2      1\n",
       "3      0\n",
       "4      0"
      ]
     },
     "execution_count": 110,
     "metadata": {
      "tags": []
     },
     "output_type": "execute_result"
    }
   ],
   "source": [
    "y_train = pd.DataFrame(y_train,columns =['class']) \n",
    "y_train.head()"
   ]
  },
  {
   "cell_type": "code",
   "execution_count": 111,
   "metadata": {
    "colab": {
     "base_uri": "https://localhost:8080/",
     "height": 206
    },
    "id": "YtRkd8ANu3u7",
    "outputId": "cfff1268-2505-4b9c-b6e3-109800364dda"
   },
   "outputs": [
    {
     "data": {
      "text/html": [
       "<div>\n",
       "<style scoped>\n",
       "    .dataframe tbody tr th:only-of-type {\n",
       "        vertical-align: middle;\n",
       "    }\n",
       "\n",
       "    .dataframe tbody tr th {\n",
       "        vertical-align: top;\n",
       "    }\n",
       "\n",
       "    .dataframe thead th {\n",
       "        text-align: right;\n",
       "    }\n",
       "</style>\n",
       "<table border=\"1\" class=\"dataframe\">\n",
       "  <thead>\n",
       "    <tr style=\"text-align: right;\">\n",
       "      <th></th>\n",
       "      <th>class</th>\n",
       "    </tr>\n",
       "  </thead>\n",
       "  <tbody>\n",
       "    <tr>\n",
       "      <th>0</th>\n",
       "      <td>1</td>\n",
       "    </tr>\n",
       "    <tr>\n",
       "      <th>1</th>\n",
       "      <td>0</td>\n",
       "    </tr>\n",
       "    <tr>\n",
       "      <th>2</th>\n",
       "      <td>1</td>\n",
       "    </tr>\n",
       "    <tr>\n",
       "      <th>3</th>\n",
       "      <td>1</td>\n",
       "    </tr>\n",
       "    <tr>\n",
       "      <th>4</th>\n",
       "      <td>1</td>\n",
       "    </tr>\n",
       "  </tbody>\n",
       "</table>\n",
       "</div>"
      ],
      "text/plain": [
       "   class\n",
       "0      1\n",
       "1      0\n",
       "2      1\n",
       "3      1\n",
       "4      1"
      ]
     },
     "execution_count": 111,
     "metadata": {
      "tags": []
     },
     "output_type": "execute_result"
    }
   ],
   "source": [
    "y_test = pd.DataFrame(y_test,columns =['class'] ) \n",
    "y_test.head()"
   ]
  },
  {
   "cell_type": "code",
   "execution_count": 112,
   "metadata": {
    "colab": {
     "base_uri": "https://localhost:8080/"
    },
    "id": "tskx2xZ197Tj",
    "outputId": "1870c0da-cb94-475a-88e1-70f63b20ba82"
   },
   "outputs": [
    {
     "name": "stdout",
     "output_type": "stream",
     "text": [
      "y_train.shape      :  (33551, 1)\n",
      "len(y_train.shape) :  2\n"
     ]
    }
   ],
   "source": [
    "print(\"y_train.shape      : \", y_train.shape)\n",
    "print(\"len(y_train.shape) : \",len(y_train.shape))"
   ]
  },
  {
   "cell_type": "code",
   "execution_count": 113,
   "metadata": {
    "colab": {
     "base_uri": "https://localhost:8080/"
    },
    "id": "z9Pd6Q6R-Es5",
    "outputId": "6b462d93-c70c-4d62-bbc8-1079c4db1a94"
   },
   "outputs": [
    {
     "name": "stdout",
     "output_type": "stream",
     "text": [
      "y_test.shape      :  (8388, 1)\n",
      "len(y_test.shape) :  2\n"
     ]
    }
   ],
   "source": [
    "print(\"y_test.shape      : \", y_test.shape)\n",
    "print(\"len(y_test.shape) : \",len(y_test.shape))"
   ]
  },
  {
   "cell_type": "code",
   "execution_count": 114,
   "metadata": {
    "id": "od8PQlYRqVCE"
   },
   "outputs": [],
   "source": [
    "##imports\n",
    "from tensorflow.keras.layers import Input, Dense, Activation, Dropout\n",
    "from tensorflow.keras.models import Model"
   ]
  },
  {
   "cell_type": "code",
   "execution_count": 115,
   "metadata": {
    "id": "UkUhPJowrSzB"
   },
   "outputs": [],
   "source": [
    "from keras.wrappers.scikit_learn import KerasClassifier\n",
    "from sklearn.model_selection import GridSearchCV"
   ]
  },
  {
   "cell_type": "code",
   "execution_count": 116,
   "metadata": {
    "id": "-BEQcBZvyE5q"
   },
   "outputs": [],
   "source": [
    "# One hot encoding Y_train and Y_test\n",
    "Y_train_list = to_categorical(y_train['class'])\n",
    "Y_test_list  = to_categorical(y_test['class'])\n",
    "# Converting all into dataframe\n",
    "Y_train_df = pd.DataFrame(Y_train_list) \n",
    "Y_test_df = pd.DataFrame(Y_test_list) "
   ]
  },
  {
   "cell_type": "code",
   "execution_count": 117,
   "metadata": {
    "id": "LmVKtXFqF91m"
   },
   "outputs": [],
   "source": [
    "#Selecting Best Hyperparameters for the neural netwoek\n",
    "def best_hyperparameters(activ_mult,learn_rate_mult):\n",
    "\n",
    "    os.environ['PYTHONHASHSEED'] = '0'\n",
    "\n",
    "    tf.keras.backend.clear_session()\n",
    "\n",
    "    input_layer = Input(shape=1024)\n",
    "\n",
    "    ##create an NN and \n",
    "    #FC layer\n",
    "    layer1 = Dense(64,activation=activ_mult,kernel_initializer=tf.keras.initializers.RandomNormal(seed=30),name = \"layer1\")(input_layer)\n",
    "    layer2 = Dense(64,activation=activ_mult,kernel_initializer=tf.keras.initializers.RandomNormal(seed=31),name = \"layer2\")(layer1)\n",
    "    layer3 = Dense(64,activation=activ_mult,kernel_initializer=tf.keras.initializers.RandomNormal(seed=32),name = \"layer3\")(layer2)\n",
    "    layer4 = Dense(64,activation=activ_mult,kernel_initializer=tf.keras.initializers.RandomNormal(seed=33),name = \"layer4\")(layer3)\n",
    "    #output layer\n",
    "    output = Dense(2,activation='softmax',kernel_initializer=tf.keras.initializers.RandomNormal(seed=34),name = \"output\")(layer4)\n",
    "    #Creating a model\n",
    "    model = Model(inputs=input_layer,outputs=output)\n",
    "\n",
    "    #compiling \n",
    "    model.compile(optimizer=tf.keras.optimizers.Adam(lr=learn_rate_mult),loss='categorical_crossentropy',metrics=['AUC','accuracy'])\n",
    "\n",
    "    return model"
   ]
  },
  {
   "cell_type": "markdown",
   "metadata": {
    "id": "8chOqRlUqTjy"
   },
   "source": [
    "<pre><font size=6>GridSearchCV</font></pre>"
   ]
  },
  {
   "cell_type": "code",
   "execution_count": 118,
   "metadata": {
    "id": "6brpjV0n7lfA"
   },
   "outputs": [],
   "source": [
    "# Grid Search over the following parameters\n",
    "activ_mult = ['sigmoid','relu']\n",
    "learn_rate_mult = [0.001,0.0001]"
   ]
  },
  {
   "cell_type": "code",
   "execution_count": 119,
   "metadata": {
    "id": "36mn9xRtGEc9"
   },
   "outputs": [],
   "source": [
    "# All parameters added to a dictionary\n",
    "param_grid = dict(activ_mult=activ_mult,learn_rate_mult=learn_rate_mult)"
   ]
  },
  {
   "cell_type": "code",
   "execution_count": 120,
   "metadata": {
    "colab": {
     "base_uri": "https://localhost:8080/"
    },
    "id": "Tun-vehtZ1Q5",
    "outputId": "da5eae23-db8c-4ae6-9fdb-27ef0faa57df"
   },
   "outputs": [
    {
     "data": {
      "text/plain": [
       "(33551, 1024)"
      ]
     },
     "execution_count": 120,
     "metadata": {
      "tags": []
     },
     "output_type": "execute_result"
    }
   ],
   "source": [
    "X_train_pooled_output.shape"
   ]
  },
  {
   "cell_type": "code",
   "execution_count": 121,
   "metadata": {
    "colab": {
     "base_uri": "https://localhost:8080/"
    },
    "id": "f6SghkNSGK0T",
    "outputId": "f0cb11e2-30c4-465f-9d12-fb8a681f1737"
   },
   "outputs": [
    {
     "data": {
      "text/plain": [
       "8388"
      ]
     },
     "execution_count": 121,
     "metadata": {
      "tags": []
     },
     "output_type": "execute_result"
    }
   ],
   "source": [
    "len(Y_test_df)"
   ]
  },
  {
   "cell_type": "code",
   "execution_count": 122,
   "metadata": {
    "id": "fylRguzRrTEg"
   },
   "outputs": [],
   "source": [
    "from keras.wrappers.scikit_learn import KerasClassifier\n",
    "from sklearn.model_selection import GridSearchCV\n",
    "\n",
    "# Creating model for Classfication for grid search \n",
    "model = KerasClassifier(build_fn=best_hyperparameters, epochs=5, batch_size=10, shuffle=True,verbose=0)\n",
    "param_grid = dict(activ_mult=activ_mult,learn_rate_mult=learn_rate_mult)\n",
    "#Get NN model with best hyperparameters using Grid Search \n",
    "grid = GridSearchCV(estimator=model, param_grid=param_grid)\n",
    "grid_result = grid.fit(X_train_pooled_output, Y_train_df)"
   ]
  },
  {
   "cell_type": "markdown",
   "metadata": {
    "id": "bXGVx0mMrAUm"
   },
   "source": [
    "<pre><font size=6>Build Best Model</font></pre>"
   ]
  },
  {
   "cell_type": "code",
   "execution_count": 134,
   "metadata": {
    "colab": {
     "base_uri": "https://localhost:8080/"
    },
    "id": "E6vNfucbMe8O",
    "outputId": "e16d3b49-a08f-4538-a3b0-320b11668a94"
   },
   "outputs": [
    {
     "name": "stdout",
     "output_type": "stream",
     "text": [
      "Model: \"functional_1\"\n",
      "_________________________________________________________________\n",
      "Layer (type)                 Output Shape              Param #   \n",
      "=================================================================\n",
      "input_1 (InputLayer)         [(None, 1024)]            0         \n",
      "_________________________________________________________________\n",
      "layer1 (Dense)               (None, 64)                65600     \n",
      "_________________________________________________________________\n",
      "layer2 (Dense)               (None, 64)                4160      \n",
      "_________________________________________________________________\n",
      "layer3 (Dense)               (None, 64)                4160      \n",
      "_________________________________________________________________\n",
      "layer4 (Dense)               (None, 64)                4160      \n",
      "_________________________________________________________________\n",
      "output (Dense)               (None, 2)                 130       \n",
      "=================================================================\n",
      "Total params: 78,210\n",
      "Trainable params: 78,210\n",
      "Non-trainable params: 0\n",
      "_________________________________________________________________\n",
      "WARNING:tensorflow:`write_grads` will be ignored in TensorFlow 2.0 for the `TensorBoard` Callback.\n"
     ]
    },
    {
     "name": "stderr",
     "output_type": "stream",
     "text": [
      "WARNING:tensorflow:`write_grads` will be ignored in TensorFlow 2.0 for the `TensorBoard` Callback.\n"
     ]
    }
   ],
   "source": [
    "import os\n",
    "import datetime\n",
    "os.environ['PYTHONHASHSEED'] = '0'\n",
    "\n",
    "tf.keras.backend.clear_session()\n",
    "\n",
    "input_layer = Input(shape=1024)\n",
    "\n",
    "##create an NN and \n",
    "#FC layer\n",
    "\n",
    "\n",
    "layer1 = Dense(64,activation='sigmoid',kernel_initializer=tf.keras.initializers.RandomNormal(seed=30),name = \"layer1\")(input_layer)\n",
    "layer2 = Dense(64,activation='sigmoid',kernel_initializer=tf.keras.initializers.RandomNormal(seed=30),name = \"layer2\")(layer1)\n",
    "layer3 = Dense(64,activation='sigmoid',kernel_initializer=tf.keras.initializers.RandomNormal(seed=30),name = \"layer3\")(layer2)\n",
    "layer4 = Dense(64,activation='sigmoid',kernel_initializer=tf.keras.initializers.RandomNormal(seed=30),name = \"layer4\")(layer3)\n",
    "#output layer\n",
    "output = Dense(2,activation='softmax',kernel_initializer=tf.keras.initializers.RandomNormal(seed=30),name = \"output\")(layer4)\n",
    "#Creating a model\n",
    "model_101 = Model(inputs=input_layer,outputs=output)\n",
    "#Model Summary\n",
    "model_101.summary()\n",
    "\n",
    "log_dir=\"logs/fit/101/1-\" + datetime.datetime.now().strftime(\"%Y%m%d-%H%M%S\")\n",
    "tensorboard_callback = tf.keras.callbacks.TensorBoard(log_dir=log_dir,histogram_freq=1, write_graph=True,write_grads=True)\n",
    "\n",
    "#compiling \n",
    "model_101.compile(optimizer=tf.keras.optimizers.Adam(lr=0.0001),loss='categorical_crossentropy',metrics=['AUC','accuracy'])\n"
   ]
  },
  {
   "cell_type": "code",
   "execution_count": 135,
   "metadata": {
    "colab": {
     "base_uri": "https://localhost:8080/",
     "height": 564
    },
    "id": "BmcTeyKcAnd5",
    "outputId": "1f86baff-1dcc-47d9-adc9-c5b942eef33d"
   },
   "outputs": [
    {
     "data": {
      "image/png": "[encoded data removed]",
      "text/plain": [
       "<IPython.core.display.Image object>"
      ]
     },
     "execution_count": 135,
     "metadata": {
      "tags": []
     },
     "output_type": "execute_result"
    }
   ],
   "source": [
    "plot_model(model_101)"
   ]
  },
  {
   "cell_type": "code",
   "execution_count": 136,
   "metadata": {
    "colab": {
     "base_uri": "https://localhost:8080/"
    },
    "id": "WkfiMmR6Me8P",
    "outputId": "0d379a94-ec56-45aa-ead2-220b3b8b33b6"
   },
   "outputs": [
    {
     "name": "stdout",
     "output_type": "stream",
     "text": [
      "Epoch 1/10\n",
      "   2/2684 [..............................] - ETA: 33:28 - loss: 0.7144 - auc: 0.4000 - accuracy: 0.4000WARNING:tensorflow:Callbacks method `on_train_batch_end` is slow compared to the batch time (batch time: 0.0095s vs `on_train_batch_end` time: 1.4872s). Check your callbacks.\n"
     ]
    },
    {
     "name": "stderr",
     "output_type": "stream",
     "text": [
      "WARNING:tensorflow:Callbacks method `on_train_batch_end` is slow compared to the batch time (batch time: 0.0095s vs `on_train_batch_end` time: 1.4872s). Check your callbacks.\n"
     ]
    },
    {
     "name": "stdout",
     "output_type": "stream",
     "text": [
      "2684/2684 [==============================] - 14s 5ms/step - loss: 0.6774 - auc: 0.6048 - accuracy: 0.5656 - val_loss: 0.6145 - val_auc: 0.7374 - val_accuracy: 0.6811\n",
      "Epoch 2/10\n",
      "2684/2684 [==============================] - 12s 4ms/step - loss: 0.4869 - auc: 0.8496 - accuracy: 0.7773 - val_loss: 0.4573 - val_auc: 0.8689 - val_accuracy: 0.7830\n",
      "Epoch 3/10\n",
      "2684/2684 [==============================] - 12s 4ms/step - loss: 0.4193 - auc: 0.8901 - accuracy: 0.8158 - val_loss: 0.4009 - val_auc: 0.9011 - val_accuracy: 0.8270\n",
      "Epoch 4/10\n",
      "2684/2684 [==============================] - 12s 4ms/step - loss: 0.3956 - auc: 0.9026 - accuracy: 0.8294 - val_loss: 0.4192 - val_auc: 0.8914 - val_accuracy: 0.8142\n",
      "Epoch 5/10\n",
      "2684/2684 [==============================] - 11s 4ms/step - loss: 0.3802 - auc: 0.9102 - accuracy: 0.8380 - val_loss: 0.4531 - val_auc: 0.8775 - val_accuracy: 0.7939\n",
      "Epoch 6/10\n",
      "2684/2684 [==============================] - 12s 4ms/step - loss: 0.3645 - auc: 0.9175 - accuracy: 0.8486 - val_loss: 0.3531 - val_auc: 0.9232 - val_accuracy: 0.8531\n",
      "Epoch 7/10\n",
      "2684/2684 [==============================] - 12s 4ms/step - loss: 0.3611 - auc: 0.9191 - accuracy: 0.8503 - val_loss: 0.3536 - val_auc: 0.9229 - val_accuracy: 0.8510\n",
      "Epoch 8/10\n",
      "2684/2684 [==============================] - 12s 4ms/step - loss: 0.3511 - auc: 0.9235 - accuracy: 0.8550 - val_loss: 0.3384 - val_auc: 0.9297 - val_accuracy: 0.8592\n",
      "Epoch 9/10\n",
      "2684/2684 [==============================] - 11s 4ms/step - loss: 0.3459 - auc: 0.9257 - accuracy: 0.8586 - val_loss: 0.3404 - val_auc: 0.9289 - val_accuracy: 0.8547\n",
      "Epoch 10/10\n",
      "2684/2684 [==============================] - 11s 4ms/step - loss: 0.3425 - auc: 0.9274 - accuracy: 0.8586 - val_loss: 0.3397 - val_auc: 0.9291 - val_accuracy: 0.8608\n"
     ]
    },
    {
     "data": {
      "text/plain": [
       "<tensorflow.python.keras.callbacks.History at 0x7fe2ce5f9cf8>"
      ]
     },
     "execution_count": 136,
     "metadata": {
      "tags": []
     },
     "output_type": "execute_result"
    }
   ],
   "source": [
    "model_101.fit(X_train_pooled_output, Y_train_df, epochs=10, validation_split=0.2, batch_size=10,callbacks=[tensorboard_callback])"
   ]
  },
  {
   "cell_type": "code",
   "execution_count": 137,
   "metadata": {
    "colab": {
     "base_uri": "https://localhost:8080/"
    },
    "id": "WWSwKMiQCltF",
    "outputId": "94085a10-bd41-42a8-c5ce-c9e573d5f2dc"
   },
   "outputs": [
    {
     "name": "stdout",
     "output_type": "stream",
     "text": [
      "132/132 [==============================] - 0s 1ms/step\n",
      "              precision    recall  f1-score   support\n",
      "\n",
      "           0       0.90      0.83      0.86      4221\n",
      "           1       0.84      0.91      0.87      4167\n",
      "\n",
      "    accuracy                           0.87      8388\n",
      "   macro avg       0.87      0.87      0.87      8388\n",
      "weighted avg       0.87      0.87      0.87      8388\n",
      "\n"
     ]
    }
   ],
   "source": [
    "from sklearn.metrics import classification_report\n",
    "\n",
    "y_pred = model_101.predict(X_test_pooled_output, batch_size=64, verbose=1)\n",
    "y_pred_bool = np.argmax(y_pred, axis=1)\n",
    "\n",
    "print(classification_report(y_test, y_pred_bool))"
   ]
  },
  {
   "cell_type": "code",
   "execution_count": 138,
   "metadata": {
    "colab": {
     "base_uri": "https://localhost:8080/"
    },
    "id": "-me2IlloDM0E",
    "outputId": "83f65867-e270-4078-b02c-8b02695c34b6"
   },
   "outputs": [
    {
     "name": "stdout",
     "output_type": "stream",
     "text": [
      "Accuracy: 0.8676680972818311\n"
     ]
    }
   ],
   "source": [
    "from sklearn.metrics import precision_score, recall_score, accuracy_score, f1_score,confusion_matrix\n",
    "print('Accuracy:', accuracy_score(y_test, y_pred_bool))"
   ]
  },
  {
   "cell_type": "code",
   "execution_count": 138,
   "metadata": {
    "id": "545IXDRC60AU"
   },
   "outputs": [],
   "source": []
  }
 ],
 "metadata": {
  "accelerator": "GPU",
  "colab": {
   "collapsed_sections": [],
   "name": "Amazon_reviews_BERT_NLP.ipynb",
   "provenance": []
  },
  "kernelspec": {
   "display_name": "Python 3",
   "language": "python",
   "name": "python3"
  },
  "language_info": {
   "codemirror_mode": {
    "name": "ipython",
    "version": 3
   },
   "file_extension": ".py",
   "mimetype": "text/x-python",
   "name": "python",
   "nbconvert_exporter": "python",
   "pygments_lexer": "ipython3",
   "version": "3.8.3"
  },
  "widgets": {
   "application/vnd.jupyter.widget-state+json": {
    "0122f44d05be4eee855eb9a41c39132c": {
     "model_module": "@jupyter-widgets/base",
     "model_name": "LayoutModel",
     "state": {
      "_model_module": "@jupyter-widgets/base",
      "_model_module_version": "1.2.0",
      "_model_name": "LayoutModel",
      "_view_count": null,
      "_view_module": "@jupyter-widgets/base",
      "_view_module_version": "1.2.0",
      "_view_name": "LayoutView",
      "align_content": null,
      "align_items": null,
      "align_self": null,
      "border": null,
      "bottom": null,
      "display": null,
      "flex": null,
      "flex_flow": null,
      "grid_area": null,
      "grid_auto_columns": null,
      "grid_auto_flow": null,
      "grid_auto_rows": null,
      "grid_column": null,
      "grid_gap": null,
      "grid_row": null,
      "grid_template_areas": null,
      "grid_template_columns": null,
      "grid_template_rows": null,
      "height": null,
      "justify_content": null,
      "justify_items": null,
      "left": null,
      "margin": null,
      "max_height": null,
      "max_width": null,
      "min_height": null,
      "min_width": null,
      "object_fit": null,
      "object_position": null,
      "order": null,
      "overflow": null,
      "overflow_x": null,
      "overflow_y": null,
      "padding": null,
      "right": null,
      "top": null,
      "visibility": null,
      "width": null
     }
    },
    "0333e9aa98684273958e768ee051fc0a": {
     "model_module": "@jupyter-widgets/base",
     "model_name": "LayoutModel",
     "state": {
      "_model_module": "@jupyter-widgets/base",
      "_model_module_version": "1.2.0",
      "_model_name": "LayoutModel",
      "_view_count": null,
      "_view_module": "@jupyter-widgets/base",
      "_view_module_version": "1.2.0",
      "_view_name": "LayoutView",
      "align_content": null,
      "align_items": null,
      "align_self": null,
      "border": null,
      "bottom": null,
      "display": null,
      "flex": null,
      "flex_flow": null,
      "grid_area": null,
      "grid_auto_columns": null,
      "grid_auto_flow": null,
      "grid_auto_rows": null,
      "grid_column": null,
      "grid_gap": null,
      "grid_row": null,
      "grid_template_areas": null,
      "grid_template_columns": null,
      "grid_template_rows": null,
      "height": null,
      "justify_content": null,
      "justify_items": null,
      "left": null,
      "margin": null,
      "max_height": null,
      "max_width": null,
      "min_height": null,
      "min_width": null,
      "object_fit": null,
      "object_position": null,
      "order": null,
      "overflow": null,
      "overflow_x": null,
      "overflow_y": null,
      "padding": null,
      "right": null,
      "top": null,
      "visibility": null,
      "width": null
     }
    },
    "064629170284482ba421d2089ec160c1": {
     "model_module": "@jupyter-widgets/controls",
     "model_name": "DescriptionStyleModel",
     "state": {
      "_model_module": "@jupyter-widgets/controls",
      "_model_module_version": "1.5.0",
      "_model_name": "DescriptionStyleModel",
      "_view_count": null,
      "_view_module": "@jupyter-widgets/base",
      "_view_module_version": "1.2.0",
      "_view_name": "StyleView",
      "description_width": ""
     }
    },
    "16fadee288d049c4ad886967eb44ed61": {
     "model_module": "@jupyter-widgets/controls",
     "model_name": "ProgressStyleModel",
     "state": {
      "_model_module": "@jupyter-widgets/controls",
      "_model_module_version": "1.5.0",
      "_model_name": "ProgressStyleModel",
      "_view_count": null,
      "_view_module": "@jupyter-widgets/base",
      "_view_module_version": "1.2.0",
      "_view_name": "StyleView",
      "bar_color": null,
      "description_width": "initial"
     }
    },
    "2619717b3b4f416dbc34ad5f3e02d358": {
     "model_module": "@jupyter-widgets/controls",
     "model_name": "DescriptionStyleModel",
     "state": {
      "_model_module": "@jupyter-widgets/controls",
      "_model_module_version": "1.5.0",
      "_model_name": "DescriptionStyleModel",
      "_view_count": null,
      "_view_module": "@jupyter-widgets/base",
      "_view_module_version": "1.2.0",
      "_view_name": "StyleView",
      "description_width": ""
     }
    },
    "35cb2b7bb9c04618b8c34d4257fd545a": {
     "model_module": "@jupyter-widgets/controls",
     "model_name": "HBoxModel",
     "state": {
      "_dom_classes": [],
      "_model_module": "@jupyter-widgets/controls",
      "_model_module_version": "1.5.0",
      "_model_name": "HBoxModel",
      "_view_count": null,
      "_view_module": "@jupyter-widgets/controls",
      "_view_module_version": "1.5.0",
      "_view_name": "HBoxView",
      "box_style": "",
      "children": [
       "IPY_MODEL_f07fc93f1c2146a3b2836406cf01f8d1",
       "IPY_MODEL_5014ae78333540578aa3f134b3162471"
      ],
      "layout": "IPY_MODEL_872af7e561454a05892f7df765579cea"
     }
    },
    "5014ae78333540578aa3f134b3162471": {
     "model_module": "@jupyter-widgets/controls",
     "model_name": "HTMLModel",
     "state": {
      "_dom_classes": [],
      "_model_module": "@jupyter-widgets/controls",
      "_model_module_version": "1.5.0",
      "_model_name": "HTMLModel",
      "_view_count": null,
      "_view_module": "@jupyter-widgets/controls",
      "_view_module_version": "1.5.0",
      "_view_name": "HTMLView",
      "description": "",
      "description_tooltip": null,
      "layout": "IPY_MODEL_d880b2c57d0d458a8df2274de4481031",
      "placeholder": "​",
      "style": "IPY_MODEL_064629170284482ba421d2089ec160c1",
      "value": " 33551/33551 [31:25&lt;00:00, 17.80it/s]"
     }
    },
    "797a04b1db91491d9a285a9f177466fd": {
     "model_module": "@jupyter-widgets/controls",
     "model_name": "ProgressStyleModel",
     "state": {
      "_model_module": "@jupyter-widgets/controls",
      "_model_module_version": "1.5.0",
      "_model_name": "ProgressStyleModel",
      "_view_count": null,
      "_view_module": "@jupyter-widgets/base",
      "_view_module_version": "1.2.0",
      "_view_name": "StyleView",
      "bar_color": null,
      "description_width": "initial"
     }
    },
    "872af7e561454a05892f7df765579cea": {
     "model_module": "@jupyter-widgets/base",
     "model_name": "LayoutModel",
     "state": {
      "_model_module": "@jupyter-widgets/base",
      "_model_module_version": "1.2.0",
      "_model_name": "LayoutModel",
      "_view_count": null,
      "_view_module": "@jupyter-widgets/base",
      "_view_module_version": "1.2.0",
      "_view_name": "LayoutView",
      "align_content": null,
      "align_items": null,
      "align_self": null,
      "border": null,
      "bottom": null,
      "display": null,
      "flex": null,
      "flex_flow": null,
      "grid_area": null,
      "grid_auto_columns": null,
      "grid_auto_flow": null,
      "grid_auto_rows": null,
      "grid_column": null,
      "grid_gap": null,
      "grid_row": null,
      "grid_template_areas": null,
      "grid_template_columns": null,
      "grid_template_rows": null,
      "height": null,
      "justify_content": null,
      "justify_items": null,
      "left": null,
      "margin": null,
      "max_height": null,
      "max_width": null,
      "min_height": null,
      "min_width": null,
      "object_fit": null,
      "object_position": null,
      "order": null,
      "overflow": null,
      "overflow_x": null,
      "overflow_y": null,
      "padding": null,
      "right": null,
      "top": null,
      "visibility": null,
      "width": null
     }
    },
    "934327bbb7304f83958150d620ec6a40": {
     "model_module": "@jupyter-widgets/controls",
     "model_name": "HTMLModel",
     "state": {
      "_dom_classes": [],
      "_model_module": "@jupyter-widgets/controls",
      "_model_module_version": "1.5.0",
      "_model_name": "HTMLModel",
      "_view_count": null,
      "_view_module": "@jupyter-widgets/controls",
      "_view_module_version": "1.5.0",
      "_view_name": "HTMLView",
      "description": "",
      "description_tooltip": null,
      "layout": "IPY_MODEL_9571b95a786a4274a3399afb935cc928",
      "placeholder": "​",
      "style": "IPY_MODEL_2619717b3b4f416dbc34ad5f3e02d358",
      "value": " 8388/8388 [00:10&lt;00:00, 836.49it/s]"
     }
    },
    "9571b95a786a4274a3399afb935cc928": {
     "model_module": "@jupyter-widgets/base",
     "model_name": "LayoutModel",
     "state": {
      "_model_module": "@jupyter-widgets/base",
      "_model_module_version": "1.2.0",
      "_model_name": "LayoutModel",
      "_view_count": null,
      "_view_module": "@jupyter-widgets/base",
      "_view_module_version": "1.2.0",
      "_view_name": "LayoutView",
      "align_content": null,
      "align_items": null,
      "align_self": null,
      "border": null,
      "bottom": null,
      "display": null,
      "flex": null,
      "flex_flow": null,
      "grid_area": null,
      "grid_auto_columns": null,
      "grid_auto_flow": null,
      "grid_auto_rows": null,
      "grid_column": null,
      "grid_gap": null,
      "grid_row": null,
      "grid_template_areas": null,
      "grid_template_columns": null,
      "grid_template_rows": null,
      "height": null,
      "justify_content": null,
      "justify_items": null,
      "left": null,
      "margin": null,
      "max_height": null,
      "max_width": null,
      "min_height": null,
      "min_width": null,
      "object_fit": null,
      "object_position": null,
      "order": null,
      "overflow": null,
      "overflow_x": null,
      "overflow_y": null,
      "padding": null,
      "right": null,
      "top": null,
      "visibility": null,
      "width": null
     }
    },
    "d880b2c57d0d458a8df2274de4481031": {
     "model_module": "@jupyter-widgets/base",
     "model_name": "LayoutModel",
     "state": {
      "_model_module": "@jupyter-widgets/base",
      "_model_module_version": "1.2.0",
      "_model_name": "LayoutModel",
      "_view_count": null,
      "_view_module": "@jupyter-widgets/base",
      "_view_module_version": "1.2.0",
      "_view_name": "LayoutView",
      "align_content": null,
      "align_items": null,
      "align_self": null,
      "border": null,
      "bottom": null,
      "display": null,
      "flex": null,
      "flex_flow": null,
      "grid_area": null,
      "grid_auto_columns": null,
      "grid_auto_flow": null,
      "grid_auto_rows": null,
      "grid_column": null,
      "grid_gap": null,
      "grid_row": null,
      "grid_template_areas": null,
      "grid_template_columns": null,
      "grid_template_rows": null,
      "height": null,
      "justify_content": null,
      "justify_items": null,
      "left": null,
      "margin": null,
      "max_height": null,
      "max_width": null,
      "min_height": null,
      "min_width": null,
      "object_fit": null,
      "object_position": null,
      "order": null,
      "overflow": null,
      "overflow_x": null,
      "overflow_y": null,
      "padding": null,
      "right": null,
      "top": null,
      "visibility": null,
      "width": null
     }
    },
    "f068d23ce0364985b5d70c2697edcc29": {
     "model_module": "@jupyter-widgets/controls",
     "model_name": "HBoxModel",
     "state": {
      "_dom_classes": [],
      "_model_module": "@jupyter-widgets/controls",
      "_model_module_version": "1.5.0",
      "_model_name": "HBoxModel",
      "_view_count": null,
      "_view_module": "@jupyter-widgets/controls",
      "_view_module_version": "1.5.0",
      "_view_name": "HBoxView",
      "box_style": "",
      "children": [
       "IPY_MODEL_f9dc3bd63e824acbbb8f7a50238f24f7",
       "IPY_MODEL_934327bbb7304f83958150d620ec6a40"
      ],
      "layout": "IPY_MODEL_0333e9aa98684273958e768ee051fc0a"
     }
    },
    "f07fc93f1c2146a3b2836406cf01f8d1": {
     "model_module": "@jupyter-widgets/controls",
     "model_name": "FloatProgressModel",
     "state": {
      "_dom_classes": [],
      "_model_module": "@jupyter-widgets/controls",
      "_model_module_version": "1.5.0",
      "_model_name": "FloatProgressModel",
      "_view_count": null,
      "_view_module": "@jupyter-widgets/controls",
      "_view_module_version": "1.5.0",
      "_view_name": "ProgressView",
      "bar_style": "success",
      "description": "100%",
      "description_tooltip": null,
      "layout": "IPY_MODEL_fdadc02eda354d56a1deff3162be63bf",
      "max": 33551,
      "min": 0,
      "orientation": "horizontal",
      "style": "IPY_MODEL_16fadee288d049c4ad886967eb44ed61",
      "value": 33551
     }
    },
    "f9dc3bd63e824acbbb8f7a50238f24f7": {
     "model_module": "@jupyter-widgets/controls",
     "model_name": "FloatProgressModel",
     "state": {
      "_dom_classes": [],
      "_model_module": "@jupyter-widgets/controls",
      "_model_module_version": "1.5.0",
      "_model_name": "FloatProgressModel",
      "_view_count": null,
      "_view_module": "@jupyter-widgets/controls",
      "_view_module_version": "1.5.0",
      "_view_name": "ProgressView",
      "bar_style": "success",
      "description": "100%",
      "description_tooltip": null,
      "layout": "IPY_MODEL_0122f44d05be4eee855eb9a41c39132c",
      "max": 8388,
      "min": 0,
      "orientation": "horizontal",
      "style": "IPY_MODEL_797a04b1db91491d9a285a9f177466fd",
      "value": 8388
     }
    },
    "fdadc02eda354d56a1deff3162be63bf": {
     "model_module": "@jupyter-widgets/base",
     "model_name": "LayoutModel",
     "state": {
      "_model_module": "@jupyter-widgets/base",
      "_model_module_version": "1.2.0",
      "_model_name": "LayoutModel",
      "_view_count": null,
      "_view_module": "@jupyter-widgets/base",
      "_view_module_version": "1.2.0",
      "_view_name": "LayoutView",
      "align_content": null,
      "align_items": null,
      "align_self": null,
      "border": null,
      "bottom": null,
      "display": null,
      "flex": null,
      "flex_flow": null,
      "grid_area": null,
      "grid_auto_columns": null,
      "grid_auto_flow": null,
      "grid_auto_rows": null,
      "grid_column": null,
      "grid_gap": null,
      "grid_row": null,
      "grid_template_areas": null,
      "grid_template_columns": null,
      "grid_template_rows": null,
      "height": null,
      "justify_content": null,
      "justify_items": null,
      "left": null,
      "margin": null,
      "max_height": null,
      "max_width": null,
      "min_height": null,
      "min_width": null,
      "object_fit": null,
      "object_position": null,
      "order": null,
      "overflow": null,
      "overflow_x": null,
      "overflow_y": null,
      "padding": null,
      "right": null,
      "top": null,
      "visibility": null,
      "width": null
     }
    }
   }
  }
 },
 "nbformat": 4,
 "nbformat_minor": 1
}
