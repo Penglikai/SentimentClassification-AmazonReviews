{
 "cells": [
  {
   "cell_type": "code",
   "execution_count": 149,
   "metadata": {
    "id": "DD6x57fwMe6n"
   },
   "outputs": [],
   "source": [
    "#all imports\n",
    "import numpy as np\n",
    "import pandas as pd\n",
    "import tensorflow as tf\n",
    "import tensorflow_hub as hub\n",
    "from tensorflow.keras.models import Model\n",
    "from tensorflow.keras.utils import plot_model\n",
    "from tqdm import tqdm_notebook\n",
    "import re\n",
    "import pickle\n",
    "from sklearn.model_selection import train_test_split\n",
    "import os\n",
    "from tensorflow.keras.utils import to_categorical\n",
    "import nltk\n",
    "import sys\n",
    "sys.path.append('/content')\n",
    "import tokenization\n"
   ]
  },
  {
   "cell_type": "code",
   "execution_count": 150,
   "metadata": {
    "colab": {
     "base_uri": "https://localhost:8080/"
    },
    "id": "gizwFOzAoTor",
    "outputId": "8ee0ee19-e172-4b80-c7cb-804bf4c51203"
   },
   "outputs": [
    {
     "name": "stdout",
     "output_type": "stream",
     "text": [
      "Requirement already satisfied: sentencepiece in /usr/local/lib/python3.6/dist-packages (0.1.94)\n"
     ]
    }
   ],
   "source": [
    "!pip install sentencepiece"
   ]
  },
  {
   "cell_type": "code",
   "execution_count": 151,
   "metadata": {
    "colab": {
     "base_uri": "https://localhost:8080/"
    },
    "id": "7emrkJxcl_YL",
    "outputId": "248e525d-9a37-4d08-a223-b2d14f323756"
   },
   "outputs": [
    {
     "name": "stdout",
     "output_type": "stream",
     "text": [
      "Requirement already satisfied: sentencepiece in /usr/local/lib/python3.6/dist-packages (0.1.94)\n"
     ]
    }
   ],
   "source": [
    "!pip install sentencepiece"
   ]
  },
  {
   "cell_type": "code",
   "execution_count": 152,
   "metadata": {
    "colab": {
     "base_uri": "https://localhost:8080/",
     "height": 35
    },
    "id": "tTqFAGdFMe6v",
    "outputId": "b19b1e6c-919e-481e-a477-cdfdeb620e3d"
   },
   "outputs": [
    {
     "data": {
      "application/vnd.google.colaboratory.intrinsic+json": {
       "type": "string"
      },
      "text/plain": [
       "'/device:GPU:0'"
      ]
     },
     "execution_count": 152,
     "metadata": {
      "tags": []
     },
     "output_type": "execute_result"
    }
   ],
   "source": [
    "tf.test.gpu_device_name()"
   ]
  },
  {
   "cell_type": "markdown",
   "metadata": {
    "id": "EVUsfdxQfMFv"
   },
   "source": [
    "<pre><font size=6>Preprocessing</font></pre>"
   ]
  },
  {
   "cell_type": "code",
   "execution_count": 153,
   "metadata": {
    "colab": {
     "base_uri": "https://localhost:8080/"
    },
    "id": "12z3g422Me66",
    "outputId": "8c7616f9-006c-4a9f-88a3-c28b5654edc9",
    "scrolled": true
   },
   "outputs": [
    {
     "name": "stdout",
     "output_type": "stream",
     "text": [
      "<class 'pandas.core.frame.DataFrame'>\n",
      "RangeIndex: 60000 entries, 0 to 59999\n",
      "Data columns (total 3 columns):\n",
      " #   Column      Non-Null Count  Dtype \n",
      "---  ------      --------------  ----- \n",
      " 0   Unnamed: 0  60000 non-null  int64 \n",
      " 1   Text        59994 non-null  object\n",
      " 2   Score       60000 non-null  int64 \n",
      "dtypes: int64(2), object(1)\n",
      "memory usage: 1.4+ MB\n"
     ]
    }
   ],
   "source": [
    "#Read the dataset - Amazon reviews\n",
    "reviews = pd.read_csv(r\"/content/data/Reviews.csv\",engine='python',encoding='utf8',error_bad_lines=False)\n",
    "#check the info of the dataset\n",
    "reviews.info()"
   ]
  },
  {
   "cell_type": "code",
   "execution_count": 154,
   "metadata": {
    "colab": {
     "base_uri": "https://localhost:8080/"
    },
    "id": "OxLWy0hFMe6-",
    "outputId": "cd3d8ee2-b47b-48cd-9542-8d89151dbaf9"
   },
   "outputs": [
    {
     "name": "stderr",
     "output_type": "stream",
     "text": [
      "/usr/local/lib/python3.6/dist-packages/ipykernel_launcher.py:4: SettingWithCopyWarning: \n",
      "A value is trying to be set on a copy of a slice from a DataFrame\n",
      "\n",
      "See the caveats in the documentation: https://pandas.pydata.org/pandas-docs/stable/user_guide/indexing.html#returning-a-view-versus-a-copy\n",
      "  after removing the cwd from sys.path.\n"
     ]
    }
   ],
   "source": [
    "#get only 2 columns - Text, Score\n",
    "#drop the NAN values\n",
    "reviews_cut = reviews[['Text','Score']]\n",
    "reviews_cut.dropna(inplace=True)"
   ]
  },
  {
   "cell_type": "code",
   "execution_count": 155,
   "metadata": {
    "colab": {
     "base_uri": "https://localhost:8080/"
    },
    "id": "gWVDb4GsnzUI",
    "outputId": "a03d9e43-4584-4f84-d35b-91a14871a5bd"
   },
   "outputs": [
    {
     "data": {
      "text/plain": [
       "0    29998\n",
       "1    29996\n",
       "Name: Score, dtype: int64"
      ]
     },
     "execution_count": 155,
     "metadata": {
      "tags": []
     },
     "output_type": "execute_result"
    }
   ],
   "source": [
    "reviews_cut['Score'].value_counts()"
   ]
  },
  {
   "cell_type": "code",
   "execution_count": 156,
   "metadata": {
    "colab": {
     "base_uri": "https://localhost:8080/",
     "height": 262
    },
    "id": "ns2gBiuSOpNN",
    "outputId": "0693f4db-4605-4741-8c4e-756ab47d48b2"
   },
   "outputs": [
    {
     "data": {
      "image/png": "[encoded data removed]",
      "text/plain": [
       "<Figure size 432x288 with 1 Axes>"
      ]
     },
     "metadata": {
      "needs_background": "light",
      "tags": []
     },
     "output_type": "display_data"
    }
   ],
   "source": [
    "reviews_cut['Score'].value_counts().plot(kind='bar');"
   ]
  },
  {
   "cell_type": "code",
   "execution_count": 157,
   "metadata": {
    "id": "BJfy3aGNtXY8"
   },
   "outputs": [],
   "source": [
    "reviews=reviews_cut"
   ]
  },
  {
   "cell_type": "code",
   "execution_count": 158,
   "metadata": {
    "id": "BBPd28v_PRWQ"
   },
   "outputs": [],
   "source": [
    "#reviews.drop(columns=(['Unnamed: 0']),inplace=True)"
   ]
  },
  {
   "cell_type": "code",
   "execution_count": 159,
   "metadata": {
    "colab": {
     "base_uri": "https://localhost:8080/",
     "height": 423
    },
    "id": "jbK9srGEPe2S",
    "outputId": "ec9bf31f-dc58-4d56-fedb-9f6820b2ebf6"
   },
   "outputs": [
    {
     "data": {
      "text/html": [
       "<div>\n",
       "<style scoped>\n",
       "    .dataframe tbody tr th:only-of-type {\n",
       "        vertical-align: middle;\n",
       "    }\n",
       "\n",
       "    .dataframe tbody tr th {\n",
       "        vertical-align: top;\n",
       "    }\n",
       "\n",
       "    .dataframe thead th {\n",
       "        text-align: right;\n",
       "    }\n",
       "</style>\n",
       "<table border=\"1\" class=\"dataframe\">\n",
       "  <thead>\n",
       "    <tr style=\"text-align: right;\">\n",
       "      <th></th>\n",
       "      <th>Text</th>\n",
       "      <th>Score</th>\n",
       "    </tr>\n",
       "  </thead>\n",
       "  <tbody>\n",
       "    <tr>\n",
       "      <th>0</th>\n",
       "      <td>not like her mc books did not enjoy this story...</td>\n",
       "      <td>0</td>\n",
       "    </tr>\n",
       "    <tr>\n",
       "      <th>1</th>\n",
       "      <td>if you like loveatfirstsight romances this wil...</td>\n",
       "      <td>0</td>\n",
       "    </tr>\n",
       "    <tr>\n",
       "      <th>2</th>\n",
       "      <td>only very poor desperate writers resort to cli...</td>\n",
       "      <td>0</td>\n",
       "    </tr>\n",
       "    <tr>\n",
       "      <th>3</th>\n",
       "      <td>im sorry i had to stop reading evie was one of...</td>\n",
       "      <td>0</td>\n",
       "    </tr>\n",
       "    <tr>\n",
       "      <th>4</th>\n",
       "      <td>very superficial the entire book read like a p...</td>\n",
       "      <td>0</td>\n",
       "    </tr>\n",
       "    <tr>\n",
       "      <th>...</th>\n",
       "      <td>...</td>\n",
       "      <td>...</td>\n",
       "    </tr>\n",
       "    <tr>\n",
       "      <th>59995</th>\n",
       "      <td>i want more already added it to my wish list t...</td>\n",
       "      <td>1</td>\n",
       "    </tr>\n",
       "    <tr>\n",
       "      <th>59996</th>\n",
       "      <td>i received this book from the author as a pape...</td>\n",
       "      <td>1</td>\n",
       "    </tr>\n",
       "    <tr>\n",
       "      <th>59997</th>\n",
       "      <td>funny and brilliant i have to admit i was nt s...</td>\n",
       "      <td>1</td>\n",
       "    </tr>\n",
       "    <tr>\n",
       "      <th>59998</th>\n",
       "      <td>lovely story</td>\n",
       "      <td>1</td>\n",
       "    </tr>\n",
       "    <tr>\n",
       "      <th>59999</th>\n",
       "      <td>the dialogue between mary and elliott was beau...</td>\n",
       "      <td>1</td>\n",
       "    </tr>\n",
       "  </tbody>\n",
       "</table>\n",
       "<p>59994 rows × 2 columns</p>\n",
       "</div>"
      ],
      "text/plain": [
       "                                                    Text  Score\n",
       "0      not like her mc books did not enjoy this story...      0\n",
       "1      if you like loveatfirstsight romances this wil...      0\n",
       "2      only very poor desperate writers resort to cli...      0\n",
       "3      im sorry i had to stop reading evie was one of...      0\n",
       "4      very superficial the entire book read like a p...      0\n",
       "...                                                  ...    ...\n",
       "59995  i want more already added it to my wish list t...      1\n",
       "59996  i received this book from the author as a pape...      1\n",
       "59997  funny and brilliant i have to admit i was nt s...      1\n",
       "59998                                       lovely story      1\n",
       "59999  the dialogue between mary and elliott was beau...      1\n",
       "\n",
       "[59994 rows x 2 columns]"
      ]
     },
     "execution_count": 159,
     "metadata": {
      "tags": []
     },
     "output_type": "execute_result"
    }
   ],
   "source": [
    "reviews"
   ]
  },
  {
   "cell_type": "code",
   "execution_count": 160,
   "metadata": {
    "id": "xYZ-UB9UqVA-"
   },
   "outputs": [],
   "source": [
    "def get_wordlen(x):\n",
    "  return len(x.split())\n",
    "reviews['len'] = reviews.Text.apply(get_wordlen)\n",
    "reviews = reviews[reviews.len<95]"
   ]
  },
  {
   "cell_type": "code",
   "execution_count": 161,
   "metadata": {
    "id": "gMiWNfrqeR7p"
   },
   "outputs": [],
   "source": [
    "reviews = reviews.reset_index(drop=True)"
   ]
  },
  {
   "cell_type": "code",
   "execution_count": 162,
   "metadata": {
    "colab": {
     "base_uri": "https://localhost:8080/"
    },
    "id": "WyHEHS0MMe7K",
    "outputId": "01754037-1946-4ceb-bc08-b7cc0b34891d"
   },
   "outputs": [
    {
     "data": {
      "text/plain": [
       "(41939, 3)"
      ]
     },
     "execution_count": 162,
     "metadata": {
      "tags": []
     },
     "output_type": "execute_result"
    }
   ],
   "source": [
    "reviews.shape"
   ]
  },
  {
   "cell_type": "code",
   "execution_count": 163,
   "metadata": {
    "id": "NsYDd3okqVBF"
   },
   "outputs": [],
   "source": [
    "#split the data into train and test data(20%) with Stratify sampling\n",
    "X_train, X_test, y_train, y_test = train_test_split(reviews[['Text','len']], reviews[['Score']],shuffle=True,test_size=0.20, random_state=33)"
   ]
  },
  {
   "cell_type": "code",
   "execution_count": 164,
   "metadata": {
    "colab": {
     "base_uri": "https://localhost:8080/",
     "height": 262
    },
    "id": "-Q6OAcrOqVBI",
    "outputId": "608a74ef-8b90-4485-f98e-d8ef9548af8e"
   },
   "outputs": [
    {
     "data": {
      "image/png": "[encoded data removed]",
      "text/plain": [
       "<Figure size 432x288 with 1 Axes>"
      ]
     },
     "metadata": {
      "needs_background": "light",
      "tags": []
     },
     "output_type": "display_data"
    }
   ],
   "source": [
    "#plot bar graphs of y_train and y_test\n",
    "\n",
    "y_train['Score'].value_counts().plot(kind='bar');"
   ]
  },
  {
   "cell_type": "code",
   "execution_count": 165,
   "metadata": {
    "colab": {
     "base_uri": "https://localhost:8080/",
     "height": 262
    },
    "id": "dlF3bj3DMe7Y",
    "outputId": "b5ad6969-6c04-4fc7-d789-0109ad9c48a3"
   },
   "outputs": [
    {
     "data": {
      "image/png": "[encoded data removed]",
      "text/plain": [
       "<Figure size 432x288 with 1 Axes>"
      ]
     },
     "metadata": {
      "needs_background": "light",
      "tags": []
     },
     "output_type": "display_data"
    }
   ],
   "source": [
    "y_test['Score'].value_counts().plot(kind='bar');"
   ]
  },
  {
   "cell_type": "code",
   "execution_count": 166,
   "metadata": {
    "id": "Up-z5boWqVBK"
   },
   "outputs": [],
   "source": [
    "#saving to disk\n",
    "reviews.to_csv('data/preprocessed.csv', index=False)"
   ]
  },
  {
   "cell_type": "markdown",
   "metadata": {
    "id": "bBtqNGN9qVBM"
   },
   "source": [
    "<pre><font size=6>Creating BERT Model</font> \n"
   ]
  },
  {
   "cell_type": "code",
   "execution_count": 167,
   "metadata": {
    "id": "i8xd2HejqVBN"
   },
   "outputs": [],
   "source": [
    "## Loading the Pretrained Model from tensorflow HUB\n",
    "tf.keras.backend.clear_session()\n",
    "\n",
    "# maximum length\n",
    "max_seq_length = 100\n",
    "\n",
    "#input words\n",
    "input_word_ids = tf.keras.layers.Input(shape=(max_seq_length,), dtype=tf.int32, name=\"input_word_ids\")\n",
    "\n",
    "#mask vector\n",
    "input_mask = tf.keras.layers.Input(shape=(max_seq_length,), dtype=tf.int32, name=\"input_mask\")\n",
    "\n",
    "#segment vectors.\n",
    "segment_ids = tf.keras.layers.Input(shape=(max_seq_length,), dtype=tf.int32, name=\"segment_ids\")\n",
    "\n",
    "#bert layer \n",
    "bert_layer = hub.KerasLayer(\"https://tfhub.dev/tensorflow/bert_en_uncased_L-12_H-768_A-12/2\", trainable=False)\n",
    "pooled_output, sequence_output = bert_layer([input_word_ids, input_mask, segment_ids])\n",
    "\n",
    "#Bert model\n",
    "\n",
    "bert_model = Model(inputs=[input_word_ids, input_mask, segment_ids], outputs=pooled_output)"
   ]
  },
  {
   "cell_type": "code",
   "execution_count": 168,
   "metadata": {
    "colab": {
     "base_uri": "https://localhost:8080/"
    },
    "id": "lQJsjg6fqVBQ",
    "outputId": "c30442a5-70c2-4360-fe81-a221684d923f"
   },
   "outputs": [
    {
     "name": "stdout",
     "output_type": "stream",
     "text": [
      "Model: \"functional_1\"\n",
      "__________________________________________________________________________________________________\n",
      "Layer (type)                    Output Shape         Param #     Connected to                     \n",
      "==================================================================================================\n",
      "input_word_ids (InputLayer)     [(None, 100)]        0                                            \n",
      "__________________________________________________________________________________________________\n",
      "input_mask (InputLayer)         [(None, 100)]        0                                            \n",
      "__________________________________________________________________________________________________\n",
      "segment_ids (InputLayer)        [(None, 100)]        0                                            \n",
      "__________________________________________________________________________________________________\n",
      "keras_layer (KerasLayer)        [(None, 768), (None, 109482241   input_word_ids[0][0]             \n",
      "                                                                 input_mask[0][0]                 \n",
      "                                                                 segment_ids[0][0]                \n",
      "==================================================================================================\n",
      "Total params: 109,482,241\n",
      "Trainable params: 0\n",
      "Non-trainable params: 109,482,241\n",
      "__________________________________________________________________________________________________\n"
     ]
    }
   ],
   "source": [
    "bert_model.summary()"
   ]
  },
  {
   "cell_type": "code",
   "execution_count": 169,
   "metadata": {
    "colab": {
     "base_uri": "https://localhost:8080/"
    },
    "id": "w3z0OMA5qVBS",
    "outputId": "c8b927b2-1eec-4a8f-b837-8f33480fa0a2"
   },
   "outputs": [
    {
     "data": {
      "text/plain": [
       "<tf.Tensor 'keras_layer/StatefulPartitionedCall:0' shape=(None, 768) dtype=float32>"
      ]
     },
     "execution_count": 169,
     "metadata": {
      "tags": []
     },
     "output_type": "execute_result"
    }
   ],
   "source": [
    "bert_model.output"
   ]
  },
  {
   "cell_type": "markdown",
   "metadata": {
    "id": "Ewv4hFCsqVBU"
   },
   "source": [
    "<pre><font size=6>Tokenization</font></pre>"
   ]
  },
  {
   "cell_type": "code",
   "execution_count": 170,
   "metadata": {
    "id": "tX3VEFjiqVBU"
   },
   "outputs": [],
   "source": [
    "#getting Vocab file\n",
    "vocab_file = bert_layer.resolved_object.vocab_file.asset_path.numpy()\n",
    "do_lower_case = bert_layer.resolved_object.do_lower_case.numpy()"
   ]
  },
  {
   "cell_type": "code",
   "execution_count": 171,
   "metadata": {
    "id": "VlbrSzpvN5Tu"
   },
   "outputs": [],
   "source": [
    "#installing required module\n",
    "#%pip install sentencepiece "
   ]
  },
  {
   "cell_type": "code",
   "execution_count": 172,
   "metadata": {
    "id": "guJMLJ8bqVBY"
   },
   "outputs": [],
   "source": [
    "# Create tokenizer \n",
    "tokenizer = tokenization.FullTokenizer(vocab_file, do_lower_case )\n"
   ]
  },
  {
   "cell_type": "code",
   "execution_count": 173,
   "metadata": {
    "colab": {
     "base_uri": "https://localhost:8080/"
    },
    "id": "t7IyEK-2Me7y",
    "outputId": "48c33317-4e11-4b46-b409-6ad7b669666a"
   },
   "outputs": [
    {
     "data": {
      "text/plain": [
       "array(['sorry but i have to give this 2 stars because it does not contain a single photo which is a must in any cookbook any cookbook author who does not know how to upload photo images really needs to learn how',\n",
       "       41], dtype=object)"
      ]
     },
     "execution_count": 173,
     "metadata": {
      "tags": []
     },
     "output_type": "execute_result"
    }
   ],
   "source": [
    "X_train.values[100]"
   ]
  },
  {
   "cell_type": "markdown",
   "metadata": {
    "id": "4_UjRHOjrLuk"
   },
   "source": [
    "<pre><font size=6>Get 3 inputs of BERT</font></pre>"
   ]
  },
  {
   "cell_type": "code",
   "execution_count": 174,
   "metadata": {
    "colab": {
     "base_uri": "https://localhost:8080/",
     "height": 142,
     "referenced_widgets": [
      "ee133bda6e8f41f7b3047d209b837776",
      "31c4f974513a43d3b0ff4de1ca605108",
      "a61175a8410c44fbbeebbe57ccfefb32",
      "7c7cfc6fa16b42da84d6a5b62a5cd9e4",
      "5c8644d27fd1428499ae20d4ff9fcbe7",
      "50357271cb45458ca500cc6b83e30c05",
      "3b99ed884c474cda861b030fa17a1af8",
      "cb51ed24dea9437cafcff5013def2c4f"
     ]
    },
    "id": "GsFJZ3VzMe70",
    "outputId": "d1a21a09-222a-4995-c6b5-d71b9382117e"
   },
   "outputs": [
    {
     "name": "stderr",
     "output_type": "stream",
     "text": [
      "/usr/local/lib/python3.6/dist-packages/ipykernel_launcher.py:7: TqdmDeprecationWarning: This function will be removed in tqdm==5.0.0\n",
      "Please use `tqdm.notebook.tqdm` instead of `tqdm.tqdm_notebook`\n",
      "  import sys\n"
     ]
    },
    {
     "data": {
      "application/vnd.jupyter.widget-view+json": {
       "model_id": "ee133bda6e8f41f7b3047d209b837776",
       "version_major": 2,
       "version_minor": 0
      },
      "text/plain": [
       "HBox(children=(FloatProgress(value=0.0, max=33551.0), HTML(value='')))"
      ]
     },
     "metadata": {
      "tags": []
     },
     "output_type": "display_data"
    },
    {
     "name": "stdout",
     "output_type": "stream",
     "text": [
      "\n"
     ]
    }
   ],
   "source": [
    "# Processing to get X_train_tokens, X_train_mask, X_train_segment\n",
    "max_tokens = 100\n",
    "X_train_tokens=[]\n",
    "X_train_mask = []\n",
    "X_train_segment = []\n",
    "# iterate over X_train\n",
    "for i in tqdm_notebook(range(len(X_train))):\n",
    "    temp_tokens=tokenizer.tokenize(X_train.values[i][0])\n",
    "    if len(temp_tokens)>= max_tokens-2:\n",
    "        temp_tokens = temp_tokens[0:(max_tokens-2)]\n",
    "    # adding [CLS] at start and [SEP] at end\n",
    "    temp_tokens = ['[CLS]',*temp_tokens,'[SEP]']\n",
    "    pad = max_tokens - len(temp_tokens)\n",
    "    if pad > 0 :\n",
    "        #adding Padding\n",
    "        pads = ['[PAD]']*pad\n",
    "        temp_tokens_fix = [*temp_tokens,*pads]\n",
    "    else:\n",
    "        temp_tokens_fix = temp_tokens\n",
    "    tokens      = np.array(tokenizer.convert_tokens_to_ids(temp_tokens_fix))\n",
    "    mask_tokens = np.array([1]*len(temp_tokens)+[0]*pad)\n",
    "    seg_tokens  = np.array([0]*len(temp_tokens_fix))\n",
    "    \n",
    "    X_train_tokens.append(tokens)\n",
    "    X_train_mask.append(mask_tokens)\n",
    "    X_train_segment.append(seg_tokens)"
   ]
  },
  {
   "cell_type": "code",
   "execution_count": 175,
   "metadata": {
    "id": "tIvB3HRdMe71"
   },
   "outputs": [],
   "source": [
    "#Convert all into np.array\n",
    "X_train_tokens = np.array(X_train_tokens)\n",
    "X_train_mask = np.array(X_train_mask)\n",
    "X_train_segment = np.array(X_train_segment)\n",
    "y_train = np.array(y_train)"
   ]
  },
  {
   "cell_type": "code",
   "execution_count": 176,
   "metadata": {
    "colab": {
     "base_uri": "https://localhost:8080/"
    },
    "id": "sZ5l-oC5Me72",
    "outputId": "8fe1bd02-8d02-4799-c987-1d9b9e5f0260"
   },
   "outputs": [
    {
     "data": {
      "text/plain": [
       "100"
      ]
     },
     "execution_count": 176,
     "metadata": {
      "tags": []
     },
     "output_type": "execute_result"
    }
   ],
   "source": [
    "len(X_train_tokens[2])"
   ]
  },
  {
   "cell_type": "code",
   "execution_count": 177,
   "metadata": {
    "colab": {
     "base_uri": "https://localhost:8080/"
    },
    "id": "d0OZsXI8aQsK",
    "outputId": "012734b0-ab85-497c-e072-1e400a7d69d6"
   },
   "outputs": [
    {
     "data": {
      "text/plain": [
       "array([  101,  2023,  2003,  2107,  2019,  6429,  2338,  2009,  2018,\n",
       "        2033, 16986,  2127,  1996,  2203,  1998,  1045,  2145,  2031,\n",
       "        3980,  1045,  6187, 23961,  3524,  2000,  3191,  2338,  2048,\n",
       "        2023,  2338,  3957,  1037,  2047,  3574,  2000,  2569,  3754,\n",
       "        2064,  6586,  2741,  2011,  2643,  2428,  2444,  2426,  2149,\n",
       "        2030,  2024,  2122,  2111,  2074,  8687, 12784,  3849,  2000,\n",
       "        2228, 14992,  2890,  2003,  2062,  2000,  2009,  2035,  2330,\n",
       "        2023,  2338,  1998,  2424,  2041,  2005,  4426,  1045,  2228,\n",
       "        2017,  2097,  5959,  2009,  2004,  2172,  2004,  1045,  2106,\n",
       "         102,     0,     0,     0,     0,     0,     0,     0,     0,\n",
       "           0,     0,     0,     0,     0,     0,     0,     0,     0,\n",
       "           0])"
      ]
     },
     "execution_count": 177,
     "metadata": {
      "tags": []
     },
     "output_type": "execute_result"
    }
   ],
   "source": [
    "X_train_tokens[0]"
   ]
  },
  {
   "cell_type": "code",
   "execution_count": 178,
   "metadata": {
    "colab": {
     "base_uri": "https://localhost:8080/",
     "height": 142,
     "referenced_widgets": [
      "a379a965c2564f0aa4f7019a21774a70",
      "2cb273c1af554528b77c485f31743325",
      "b8562867da3c4b91ac73ca16e3f64e1e",
      "aa5a61da318940fca0e61adcc1e67449",
      "a04d29d9bb7340d2b035304e493808db",
      "dfbda2e50b39487aae6cc6d1b37538db",
      "957cd312415048b682f80529a8f006cf",
      "3965e588cec3432ba8cec1b913c75690"
     ]
    },
    "id": "qMA3BnU6Me75",
    "outputId": "6fb192c2-35d1-49bf-b3a3-bdfb97e4e61d"
   },
   "outputs": [
    {
     "name": "stderr",
     "output_type": "stream",
     "text": [
      "/usr/local/lib/python3.6/dist-packages/ipykernel_launcher.py:7: TqdmDeprecationWarning: This function will be removed in tqdm==5.0.0\n",
      "Please use `tqdm.notebook.tqdm` instead of `tqdm.tqdm_notebook`\n",
      "  import sys\n"
     ]
    },
    {
     "data": {
      "application/vnd.jupyter.widget-view+json": {
       "model_id": "a379a965c2564f0aa4f7019a21774a70",
       "version_major": 2,
       "version_minor": 0
      },
      "text/plain": [
       "HBox(children=(FloatProgress(value=0.0, max=8388.0), HTML(value='')))"
      ]
     },
     "metadata": {
      "tags": []
     },
     "output_type": "display_data"
    },
    {
     "name": "stdout",
     "output_type": "stream",
     "text": [
      "\n"
     ]
    }
   ],
   "source": [
    "# Processing to get X_test_tokens, X_test_mask, X_test_segment\n",
    "max_tokens = 100\n",
    "X_test_tokens=[]\n",
    "X_test_mask = []\n",
    "X_test_segment = []\n",
    "# Iterate over X_test \n",
    "for i in tqdm_notebook(range(len(X_test))):\n",
    "    # Tokenixe each review\n",
    "    temp_tokens=tokenizer.tokenize(X_test.values[i][0])\n",
    "    # Truncating if review is large \n",
    "    if len(temp_tokens)>= max_tokens-2:\n",
    "        temp_tokens = temp_tokens[0:(max_tokens-2)]\n",
    "    # adding [CLS] at start and [SEP] at end\n",
    "    temp_tokens = ['[CLS]',*temp_tokens,'[SEP]']\n",
    "    pad = max_tokens - len(temp_tokens)\n",
    "    #adding Padding upto max token size\n",
    "    if pad > 0 :\n",
    "        pads = ['[PAD]']*pad\n",
    "        temp_tokens_fix = [*temp_tokens,*pads]\n",
    "    else:\n",
    "        temp_tokens_fix = temp_tokens\n",
    "    # Convert Tokens to ids\n",
    "    tokens      = np.array(tokenizer.convert_tokens_to_ids(temp_tokens_fix))\n",
    "    #Creating mask token and segment token of each review\n",
    "    mask_tokens = np.array([1]*len(temp_tokens)+[0]*pad)\n",
    "    seg_tokens  = np.array([0]*len(temp_tokens_fix))\n",
    "    # Appending the review converted to id, the mask and segment tokens\n",
    "    X_test_tokens.append(tokens)\n",
    "    X_test_mask.append(mask_tokens)\n",
    "    X_test_segment.append(seg_tokens)"
   ]
  },
  {
   "cell_type": "code",
   "execution_count": 179,
   "metadata": {
    "id": "rFS3_LIJMe76"
   },
   "outputs": [],
   "source": [
    "#Convert all into np.array\n",
    "X_test_tokens = np.array(X_test_tokens)\n",
    "X_test_mask = np.array(X_test_mask)\n",
    "X_test_segment = np.array(X_test_segment)\n",
    "y_test = np.array(y_test)"
   ]
  },
  {
   "cell_type": "code",
   "execution_count": 180,
   "metadata": {
    "id": "xF0idMRDqVBm"
   },
   "outputs": [],
   "source": [
    "##save results \n",
    "pickle.dump((X_train, X_train_tokens, X_train_mask, X_train_segment, y_train),open('/content/model/train_data.pkl','wb'))\n",
    "pickle.dump((X_test, X_test_tokens, X_test_mask, X_test_segment, y_test),open('/content/model/test_data.pkl','wb'))"
   ]
  },
  {
   "cell_type": "code",
   "execution_count": 181,
   "metadata": {
    "id": "Leu1URGzqVBo"
   },
   "outputs": [],
   "source": [
    "#load data\n",
    "X_train, X_train_tokens, X_train_mask, X_train_segment, y_train = pickle.load(open(\"/content/model/train_data.pkl\", 'rb')) \n",
    "X_test, X_test_tokens, X_test_mask, X_test_segment, y_test = pickle.load(open(\"/content/model/test_data.pkl\", 'rb')) "
   ]
  },
  {
   "cell_type": "code",
   "execution_count": 182,
   "metadata": {
    "colab": {
     "base_uri": "https://localhost:8080/"
    },
    "id": "QwOVgQFDqVBy",
    "outputId": "f0e9c158-2694-4824-a04e-da683813a62a"
   },
   "outputs": [
    {
     "data": {
      "text/plain": [
       "[<tf.Tensor 'input_word_ids:0' shape=(None, 100) dtype=int32>,\n",
       " <tf.Tensor 'input_mask:0' shape=(None, 100) dtype=int32>,\n",
       " <tf.Tensor 'segment_ids:0' shape=(None, 100) dtype=int32>]"
      ]
     },
     "execution_count": 182,
     "metadata": {
      "tags": []
     },
     "output_type": "execute_result"
    }
   ],
   "source": [
    "bert_model.input"
   ]
  },
  {
   "cell_type": "code",
   "execution_count": 183,
   "metadata": {
    "colab": {
     "base_uri": "https://localhost:8080/"
    },
    "id": "ZcpkQq1OqVB0",
    "outputId": "78fd6925-549c-4934-d518-b70bfe6e6641"
   },
   "outputs": [
    {
     "data": {
      "text/plain": [
       "<tf.Tensor 'keras_layer/StatefulPartitionedCall:0' shape=(None, 768) dtype=float32>"
      ]
     },
     "execution_count": 183,
     "metadata": {
      "tags": []
     },
     "output_type": "execute_result"
    }
   ],
   "source": [
    "bert_model.output"
   ]
  },
  {
   "cell_type": "code",
   "execution_count": 184,
   "metadata": {
    "id": "IxdIlOIBlm7j"
   },
   "outputs": [],
   "source": [
    "# get the train output\n",
    "X_train_pooled_output=bert_model.predict([X_train_tokens,X_train_mask,X_train_segment])"
   ]
  },
  {
   "cell_type": "code",
   "execution_count": 185,
   "metadata": {
    "id": "yZT11BCol4gL"
   },
   "outputs": [],
   "source": [
    "# get the test output\n",
    "X_test_pooled_output=bert_model.predict([X_test_tokens,X_test_mask,X_test_segment])"
   ]
  },
  {
   "cell_type": "code",
   "execution_count": 186,
   "metadata": {
    "id": "DL6JVojfqVB8"
   },
   "outputs": [],
   "source": [
    "##save results\n",
    "pickle.dump((X_train_pooled_output, X_test_pooled_output),open('/content/model/final_output.pkl','wb'))"
   ]
  },
  {
   "cell_type": "code",
   "execution_count": 187,
   "metadata": {
    "id": "oSQcBdROqVB9"
   },
   "outputs": [],
   "source": [
    "#Load the results\n",
    "X_train_pooled_output, X_test_pooled_output= pickle.load(open('/content/model/final_output.pkl', 'rb'))"
   ]
  },
  {
   "cell_type": "code",
   "execution_count": 188,
   "metadata": {
    "colab": {
     "base_uri": "https://localhost:8080/",
     "height": 206
    },
    "id": "Vbi31oKWn8p2",
    "outputId": "341ca90c-b70e-42dc-9683-17de6281cd1e"
   },
   "outputs": [
    {
     "data": {
      "text/html": [
       "<div>\n",
       "<style scoped>\n",
       "    .dataframe tbody tr th:only-of-type {\n",
       "        vertical-align: middle;\n",
       "    }\n",
       "\n",
       "    .dataframe tbody tr th {\n",
       "        vertical-align: top;\n",
       "    }\n",
       "\n",
       "    .dataframe thead th {\n",
       "        text-align: right;\n",
       "    }\n",
       "</style>\n",
       "<table border=\"1\" class=\"dataframe\">\n",
       "  <thead>\n",
       "    <tr style=\"text-align: right;\">\n",
       "      <th></th>\n",
       "      <th>class</th>\n",
       "    </tr>\n",
       "  </thead>\n",
       "  <tbody>\n",
       "    <tr>\n",
       "      <th>0</th>\n",
       "      <td>1</td>\n",
       "    </tr>\n",
       "    <tr>\n",
       "      <th>1</th>\n",
       "      <td>1</td>\n",
       "    </tr>\n",
       "    <tr>\n",
       "      <th>2</th>\n",
       "      <td>1</td>\n",
       "    </tr>\n",
       "    <tr>\n",
       "      <th>3</th>\n",
       "      <td>0</td>\n",
       "    </tr>\n",
       "    <tr>\n",
       "      <th>4</th>\n",
       "      <td>0</td>\n",
       "    </tr>\n",
       "  </tbody>\n",
       "</table>\n",
       "</div>"
      ],
      "text/plain": [
       "   class\n",
       "0      1\n",
       "1      1\n",
       "2      1\n",
       "3      0\n",
       "4      0"
      ]
     },
     "execution_count": 188,
     "metadata": {
      "tags": []
     },
     "output_type": "execute_result"
    }
   ],
   "source": [
    "y_train = pd.DataFrame(y_train,columns =['class']) \n",
    "y_train.head()"
   ]
  },
  {
   "cell_type": "code",
   "execution_count": 189,
   "metadata": {
    "colab": {
     "base_uri": "https://localhost:8080/",
     "height": 206
    },
    "id": "YtRkd8ANu3u7",
    "outputId": "1bd6eb25-31ce-4492-8e67-dd522f7677c1"
   },
   "outputs": [
    {
     "data": {
      "text/html": [
       "<div>\n",
       "<style scoped>\n",
       "    .dataframe tbody tr th:only-of-type {\n",
       "        vertical-align: middle;\n",
       "    }\n",
       "\n",
       "    .dataframe tbody tr th {\n",
       "        vertical-align: top;\n",
       "    }\n",
       "\n",
       "    .dataframe thead th {\n",
       "        text-align: right;\n",
       "    }\n",
       "</style>\n",
       "<table border=\"1\" class=\"dataframe\">\n",
       "  <thead>\n",
       "    <tr style=\"text-align: right;\">\n",
       "      <th></th>\n",
       "      <th>class</th>\n",
       "    </tr>\n",
       "  </thead>\n",
       "  <tbody>\n",
       "    <tr>\n",
       "      <th>0</th>\n",
       "      <td>1</td>\n",
       "    </tr>\n",
       "    <tr>\n",
       "      <th>1</th>\n",
       "      <td>0</td>\n",
       "    </tr>\n",
       "    <tr>\n",
       "      <th>2</th>\n",
       "      <td>1</td>\n",
       "    </tr>\n",
       "    <tr>\n",
       "      <th>3</th>\n",
       "      <td>1</td>\n",
       "    </tr>\n",
       "    <tr>\n",
       "      <th>4</th>\n",
       "      <td>1</td>\n",
       "    </tr>\n",
       "  </tbody>\n",
       "</table>\n",
       "</div>"
      ],
      "text/plain": [
       "   class\n",
       "0      1\n",
       "1      0\n",
       "2      1\n",
       "3      1\n",
       "4      1"
      ]
     },
     "execution_count": 189,
     "metadata": {
      "tags": []
     },
     "output_type": "execute_result"
    }
   ],
   "source": [
    "y_test = pd.DataFrame(y_test,columns =['class'] ) \n",
    "y_test.head()"
   ]
  },
  {
   "cell_type": "code",
   "execution_count": 190,
   "metadata": {
    "colab": {
     "base_uri": "https://localhost:8080/"
    },
    "id": "tskx2xZ197Tj",
    "outputId": "5f64bf06-5f53-4cb3-ff92-06d26deb41ea"
   },
   "outputs": [
    {
     "name": "stdout",
     "output_type": "stream",
     "text": [
      "y_train.shape      :  (33551, 1)\n",
      "len(y_train.shape) :  2\n"
     ]
    }
   ],
   "source": [
    "print(\"y_train.shape      : \", y_train.shape)\n",
    "print(\"len(y_train.shape) : \",len(y_train.shape))"
   ]
  },
  {
   "cell_type": "code",
   "execution_count": 191,
   "metadata": {
    "colab": {
     "base_uri": "https://localhost:8080/"
    },
    "id": "z9Pd6Q6R-Es5",
    "outputId": "b7c3ed36-d83b-4b51-d9e5-d5442b89a346"
   },
   "outputs": [
    {
     "name": "stdout",
     "output_type": "stream",
     "text": [
      "y_test.shape      :  (8388, 1)\n",
      "len(y_test.shape) :  2\n"
     ]
    }
   ],
   "source": [
    "print(\"y_test.shape      : \", y_test.shape)\n",
    "print(\"len(y_test.shape) : \",len(y_test.shape))"
   ]
  },
  {
   "cell_type": "code",
   "execution_count": 192,
   "metadata": {
    "id": "od8PQlYRqVCE"
   },
   "outputs": [],
   "source": [
    "##imports\n",
    "from tensorflow.keras.layers import Input, Dense, Activation, Dropout\n",
    "from tensorflow.keras.models import Model"
   ]
  },
  {
   "cell_type": "code",
   "execution_count": 193,
   "metadata": {
    "id": "UkUhPJowrSzB"
   },
   "outputs": [],
   "source": [
    "from keras.wrappers.scikit_learn import KerasClassifier\n",
    "from sklearn.model_selection import GridSearchCV"
   ]
  },
  {
   "cell_type": "code",
   "execution_count": 194,
   "metadata": {
    "id": "-BEQcBZvyE5q"
   },
   "outputs": [],
   "source": [
    "# One hot encoding Y_train and Y_test\n",
    "Y_train_list = to_categorical(y_train['class'])\n",
    "Y_test_list  = to_categorical(y_test['class'])\n",
    "# Converting all into dataframe\n",
    "Y_train_df = pd.DataFrame(Y_train_list) \n",
    "Y_test_df = pd.DataFrame(Y_test_list) "
   ]
  },
  {
   "cell_type": "code",
   "execution_count": 195,
   "metadata": {
    "id": "LmVKtXFqF91m"
   },
   "outputs": [],
   "source": [
    "#Selecting Best Hyperparameters for the neural netwoek\n",
    "def best_hyperparameters(activ_mult,learn_rate_mult):\n",
    "\n",
    "    os.environ['PYTHONHASHSEED'] = '0'\n",
    "\n",
    "    tf.keras.backend.clear_session()\n",
    "\n",
    "    input_layer = Input(shape=768)\n",
    "\n",
    "    ##create an NN and \n",
    "    #FC layer\n",
    "    layer1 = Dense(64,activation=activ_mult,kernel_initializer=tf.keras.initializers.RandomNormal(seed=30),name = \"layer1\")(input_layer)\n",
    "    layer2 = Dense(64,activation=activ_mult,kernel_initializer=tf.keras.initializers.RandomNormal(seed=31),name = \"layer2\")(layer1)\n",
    "   \n",
    "    #output layer\n",
    "    output = Dense(2,activation='softmax',kernel_initializer=tf.keras.initializers.RandomNormal(seed=34),name = \"output\")(layer2)\n",
    "    #Creating a model\n",
    "    model = Model(inputs=input_layer,outputs=output)\n",
    "\n",
    "    #compiling \n",
    "    model.compile(optimizer=tf.keras.optimizers.Adam(lr=learn_rate_mult),loss='categorical_crossentropy',metrics=['AUC','accuracy'])\n",
    "\n",
    "    return model"
   ]
  },
  {
   "cell_type": "markdown",
   "metadata": {
    "id": "8chOqRlUqTjy"
   },
   "source": [
    "<pre><font size=6>GridSearchCV</font></pre>"
   ]
  },
  {
   "cell_type": "code",
   "execution_count": 196,
   "metadata": {
    "id": "6brpjV0n7lfA"
   },
   "outputs": [],
   "source": [
    "# Grid Search over the following parameters\n",
    "activ_mult = ['sigmoid','relu']\n",
    "learn_rate_mult = [0.001,0.0001]"
   ]
  },
  {
   "cell_type": "code",
   "execution_count": 197,
   "metadata": {
    "id": "36mn9xRtGEc9"
   },
   "outputs": [],
   "source": [
    "# All parameters added to a dictionary\n",
    "param_grid = dict(activ_mult=activ_mult,learn_rate_mult=learn_rate_mult)"
   ]
  },
  {
   "cell_type": "code",
   "execution_count": 198,
   "metadata": {
    "colab": {
     "base_uri": "https://localhost:8080/"
    },
    "id": "Tun-vehtZ1Q5",
    "outputId": "d5bb0333-4ba3-4ebe-de0a-58275e2db838"
   },
   "outputs": [
    {
     "data": {
      "text/plain": [
       "(33551, 768)"
      ]
     },
     "execution_count": 198,
     "metadata": {
      "tags": []
     },
     "output_type": "execute_result"
    }
   ],
   "source": [
    "X_train_pooled_output.shape"
   ]
  },
  {
   "cell_type": "code",
   "execution_count": 199,
   "metadata": {
    "colab": {
     "base_uri": "https://localhost:8080/"
    },
    "id": "f6SghkNSGK0T",
    "outputId": "7c6ff7c5-c1ba-4a7e-ed18-616a2d35a475"
   },
   "outputs": [
    {
     "data": {
      "text/plain": [
       "8388"
      ]
     },
     "execution_count": 199,
     "metadata": {
      "tags": []
     },
     "output_type": "execute_result"
    }
   ],
   "source": [
    "len(Y_test_df)"
   ]
  },
  {
   "cell_type": "code",
   "execution_count": 200,
   "metadata": {
    "id": "fylRguzRrTEg"
   },
   "outputs": [],
   "source": [
    "from keras.wrappers.scikit_learn import KerasClassifier\n",
    "from sklearn.model_selection import GridSearchCV\n",
    "\n",
    "# Creating model for Classfication for grid search \n",
    "model = KerasClassifier(build_fn=best_hyperparameters, epochs=5, batch_size=10, shuffle=True,verbose=0)\n",
    "param_grid = dict(activ_mult=activ_mult,learn_rate_mult=learn_rate_mult)\n",
    "#Get NN model with best hyperparameters using Grid Search \n",
    "grid = GridSearchCV(estimator=model, param_grid=param_grid)\n",
    "grid_result = grid.fit(X_train_pooled_output, Y_train_df)"
   ]
  },
  {
   "cell_type": "code",
   "execution_count": 201,
   "metadata": {
    "colab": {
     "base_uri": "https://localhost:8080/"
    },
    "id": "HTBK5l8qGEwH",
    "outputId": "d697a047-a670-4c60-b5dd-ffa227c24941"
   },
   "outputs": [
    {
     "name": "stdout",
     "output_type": "stream",
     "text": [
      "Best: 0.869303 using {'activ_mult': 'relu', 'learn_rate_mult': 0.0001}\n"
     ]
    }
   ],
   "source": [
    "print(\"Best: %f using %s\" % (grid_result.best_score_, grid_result.best_params_))"
   ]
  },
  {
   "cell_type": "markdown",
   "metadata": {
    "id": "bXGVx0mMrAUm"
   },
   "source": [
    "<pre><font size=6>Build Best Model</font></pre>"
   ]
  },
  {
   "cell_type": "code",
   "execution_count": 202,
   "metadata": {
    "colab": {
     "base_uri": "https://localhost:8080/"
    },
    "id": "E6vNfucbMe8O",
    "outputId": "fdfa48dc-1f5e-4b60-d802-6096df9d5145"
   },
   "outputs": [
    {
     "name": "stdout",
     "output_type": "stream",
     "text": [
      "Model: \"functional_1\"\n",
      "_________________________________________________________________\n",
      "Layer (type)                 Output Shape              Param #   \n",
      "=================================================================\n",
      "input_1 (InputLayer)         [(None, 768)]             0         \n",
      "_________________________________________________________________\n",
      "layer1 (Dense)               (None, 64)                49216     \n",
      "_________________________________________________________________\n",
      "layer2 (Dense)               (None, 64)                4160      \n",
      "_________________________________________________________________\n",
      "output (Dense)               (None, 2)                 130       \n",
      "=================================================================\n",
      "Total params: 53,506\n",
      "Trainable params: 53,506\n",
      "Non-trainable params: 0\n",
      "_________________________________________________________________\n",
      "WARNING:tensorflow:`write_grads` will be ignored in TensorFlow 2.0 for the `TensorBoard` Callback.\n"
     ]
    },
    {
     "name": "stderr",
     "output_type": "stream",
     "text": [
      "WARNING:tensorflow:`write_grads` will be ignored in TensorFlow 2.0 for the `TensorBoard` Callback.\n"
     ]
    }
   ],
   "source": [
    "import os\n",
    "import datetime\n",
    "os.environ['PYTHONHASHSEED'] = '0'\n",
    "\n",
    "tf.keras.backend.clear_session()\n",
    "\n",
    "input_layer = Input(shape=768)\n",
    "\n",
    "##create an NN and \n",
    "#FC layer\n",
    "\n",
    "\n",
    "layer1 = Dense(64,activation='relu',kernel_initializer=tf.keras.initializers.RandomNormal(seed=30),name = \"layer1\")(input_layer)\n",
    "layer2 = Dense(64,activation='relu',kernel_initializer=tf.keras.initializers.RandomNormal(seed=30),name = \"layer2\")(layer1)\n",
    "\n",
    "#output layer\n",
    "output = Dense(2,activation='softmax',kernel_initializer=tf.keras.initializers.RandomNormal(seed=30),name = \"output\")(layer2)\n",
    "#Creating a model\n",
    "model_101 = Model(inputs=input_layer,outputs=output)\n",
    "#Model Summary\n",
    "model_101.summary()\n",
    "\n",
    "log_dir=\"logs/fit/101/1-\" + datetime.datetime.now().strftime(\"%Y%m%d-%H%M%S\")\n",
    "tensorboard_callback = tf.keras.callbacks.TensorBoard(log_dir=log_dir,histogram_freq=1, write_graph=True,write_grads=True)\n",
    "\n",
    "#compiling \n",
    "model_101.compile(optimizer=tf.keras.optimizers.Adam(lr=0.0001),loss='categorical_crossentropy',metrics=['AUC','accuracy'])\n"
   ]
  },
  {
   "cell_type": "code",
   "execution_count": 203,
   "metadata": {
    "colab": {
     "base_uri": "https://localhost:8080/",
     "height": 369
    },
    "id": "BmcTeyKcAnd5",
    "outputId": "241f352c-ac1c-426b-b66c-c94c9843cd3e"
   },
   "outputs": [
    {
     "data": {
      "image/png": "[encoded data removed]",
      "text/plain": [
       "<IPython.core.display.Image object>"
      ]
     },
     "execution_count": 203,
     "metadata": {
      "tags": []
     },
     "output_type": "execute_result"
    }
   ],
   "source": [
    "plot_model(model_101)"
   ]
  },
  {
   "cell_type": "code",
   "execution_count": 204,
   "metadata": {
    "colab": {
     "base_uri": "https://localhost:8080/"
    },
    "id": "WkfiMmR6Me8P",
    "outputId": "b4593662-19ae-4223-eddd-05ddd2b3af4c"
   },
   "outputs": [
    {
     "name": "stdout",
     "output_type": "stream",
     "text": [
      "Epoch 1/10\n",
      "   2/2684 [..............................] - ETA: 31:14 - loss: 0.6960 - auc: 0.4525 - accuracy: 0.3500WARNING:tensorflow:Callbacks method `on_train_batch_end` is slow compared to the batch time (batch time: 0.0088s vs `on_train_batch_end` time: 1.3889s). Check your callbacks.\n"
     ]
    },
    {
     "name": "stderr",
     "output_type": "stream",
     "text": [
      "WARNING:tensorflow:Callbacks method `on_train_batch_end` is slow compared to the batch time (batch time: 0.0088s vs `on_train_batch_end` time: 1.3889s). Check your callbacks.\n"
     ]
    },
    {
     "name": "stdout",
     "output_type": "stream",
     "text": [
      "2684/2684 [==============================] - 14s 5ms/step - loss: 0.4863 - auc: 0.8525 - accuracy: 0.7713 - val_loss: 0.3740 - val_auc: 0.9179 - val_accuracy: 0.8470\n",
      "Epoch 2/10\n",
      "2684/2684 [==============================] - 11s 4ms/step - loss: 0.3538 - auc: 0.9239 - accuracy: 0.8519 - val_loss: 0.3318 - val_auc: 0.9329 - val_accuracy: 0.8647\n",
      "Epoch 3/10\n",
      "2684/2684 [==============================] - 12s 4ms/step - loss: 0.3284 - auc: 0.9338 - accuracy: 0.8638 - val_loss: 0.3280 - val_auc: 0.9336 - val_accuracy: 0.8699\n",
      "Epoch 4/10\n",
      "2684/2684 [==============================] - 12s 4ms/step - loss: 0.3143 - auc: 0.9394 - accuracy: 0.8704 - val_loss: 0.3154 - val_auc: 0.9386 - val_accuracy: 0.8757\n",
      "Epoch 5/10\n",
      "2684/2684 [==============================] - 11s 4ms/step - loss: 0.3070 - auc: 0.9421 - accuracy: 0.8745 - val_loss: 0.2982 - val_auc: 0.9450 - val_accuracy: 0.8847\n",
      "Epoch 6/10\n",
      "2684/2684 [==============================] - 11s 4ms/step - loss: 0.3002 - auc: 0.9445 - accuracy: 0.8782 - val_loss: 0.2990 - val_auc: 0.9444 - val_accuracy: 0.8829\n",
      "Epoch 7/10\n",
      "2684/2684 [==============================] - 12s 4ms/step - loss: 0.2952 - auc: 0.9465 - accuracy: 0.8791 - val_loss: 0.2930 - val_auc: 0.9468 - val_accuracy: 0.8868\n",
      "Epoch 8/10\n",
      "2684/2684 [==============================] - 11s 4ms/step - loss: 0.2933 - auc: 0.9471 - accuracy: 0.8807 - val_loss: 0.2860 - val_auc: 0.9491 - val_accuracy: 0.8890\n",
      "Epoch 9/10\n",
      "2684/2684 [==============================] - 11s 4ms/step - loss: 0.2895 - auc: 0.9486 - accuracy: 0.8816 - val_loss: 0.2899 - val_auc: 0.9483 - val_accuracy: 0.8854\n",
      "Epoch 10/10\n",
      "2684/2684 [==============================] - 11s 4ms/step - loss: 0.2879 - auc: 0.9491 - accuracy: 0.8836 - val_loss: 0.2974 - val_auc: 0.9454 - val_accuracy: 0.8833\n"
     ]
    },
    {
     "data": {
      "text/plain": [
       "<tensorflow.python.keras.callbacks.History at 0x7fe36bb4dc50>"
      ]
     },
     "execution_count": 204,
     "metadata": {
      "tags": []
     },
     "output_type": "execute_result"
    }
   ],
   "source": [
    "model_101.fit(X_train_pooled_output, Y_train_df, epochs=10, validation_split=0.2, batch_size=10,callbacks=[tensorboard_callback])"
   ]
  },
  {
   "cell_type": "code",
   "execution_count": 205,
   "metadata": {
    "colab": {
     "base_uri": "https://localhost:8080/"
    },
    "id": "WWSwKMiQCltF",
    "outputId": "425ef8c9-80f7-46c9-c8fb-990a2ad42bb0"
   },
   "outputs": [
    {
     "name": "stdout",
     "output_type": "stream",
     "text": [
      "132/132 [==============================] - 0s 1ms/step\n",
      "              precision    recall  f1-score   support\n",
      "\n",
      "           0       0.86      0.93      0.89      4221\n",
      "           1       0.92      0.84      0.88      4167\n",
      "\n",
      "    accuracy                           0.89      8388\n",
      "   macro avg       0.89      0.89      0.89      8388\n",
      "weighted avg       0.89      0.89      0.89      8388\n",
      "\n"
     ]
    }
   ],
   "source": [
    "from sklearn.metrics import classification_report\n",
    "\n",
    "y_pred = model_101.predict(X_test_pooled_output, batch_size=64, verbose=1)\n",
    "y_pred_bool = np.argmax(y_pred, axis=1)\n",
    "\n",
    "print(classification_report(y_test, y_pred_bool))"
   ]
  },
  {
   "cell_type": "code",
   "execution_count": 206,
   "metadata": {
    "colab": {
     "base_uri": "https://localhost:8080/"
    },
    "id": "-me2IlloDM0E",
    "outputId": "ca14a6b1-18cb-4225-afa4-f31d01d6d8a4"
   },
   "outputs": [
    {
     "name": "stdout",
     "output_type": "stream",
     "text": [
      "Accuracy: 0.8863853123509776\n"
     ]
    }
   ],
   "source": [
    "from sklearn.metrics import precision_score, recall_score, accuracy_score, f1_score,confusion_matrix\n",
    "print('Accuracy:', accuracy_score(y_test, y_pred_bool))"
   ]
  },
  {
   "cell_type": "code",
   "execution_count": 206,
   "metadata": {
    "id": "545IXDRC60AU"
   },
   "outputs": [],
   "source": []
  }
 ],
 "metadata": {
  "accelerator": "GPU",
  "colab": {
   "collapsed_sections": [],
   "name": "Amazon_reviews_BERT_NLP.ipynb",
   "provenance": []
  },
  "kernelspec": {
   "display_name": "Python 3",
   "language": "python",
   "name": "python3"
  },
  "language_info": {
   "codemirror_mode": {
    "name": "ipython",
    "version": 3
   },
   "file_extension": ".py",
   "mimetype": "text/x-python",
   "name": "python",
   "nbconvert_exporter": "python",
   "pygments_lexer": "ipython3",
   "version": "3.8.3"
  },
  "widgets": {
   "application/vnd.jupyter.widget-state+json": {
    "2cb273c1af554528b77c485f31743325": {
     "model_module": "@jupyter-widgets/base",
     "model_name": "LayoutModel",
     "state": {
      "_model_module": "@jupyter-widgets/base",
      "_model_module_version": "1.2.0",
      "_model_name": "LayoutModel",
      "_view_count": null,
      "_view_module": "@jupyter-widgets/base",
      "_view_module_version": "1.2.0",
      "_view_name": "LayoutView",
      "align_content": null,
      "align_items": null,
      "align_self": null,
      "border": null,
      "bottom": null,
      "display": null,
      "flex": null,
      "flex_flow": null,
      "grid_area": null,
      "grid_auto_columns": null,
      "grid_auto_flow": null,
      "grid_auto_rows": null,
      "grid_column": null,
      "grid_gap": null,
      "grid_row": null,
      "grid_template_areas": null,
      "grid_template_columns": null,
      "grid_template_rows": null,
      "height": null,
      "justify_content": null,
      "justify_items": null,
      "left": null,
      "margin": null,
      "max_height": null,
      "max_width": null,
      "min_height": null,
      "min_width": null,
      "object_fit": null,
      "object_position": null,
      "order": null,
      "overflow": null,
      "overflow_x": null,
      "overflow_y": null,
      "padding": null,
      "right": null,
      "top": null,
      "visibility": null,
      "width": null
     }
    },
    "31c4f974513a43d3b0ff4de1ca605108": {
     "model_module": "@jupyter-widgets/base",
     "model_name": "LayoutModel",
     "state": {
      "_model_module": "@jupyter-widgets/base",
      "_model_module_version": "1.2.0",
      "_model_name": "LayoutModel",
      "_view_count": null,
      "_view_module": "@jupyter-widgets/base",
      "_view_module_version": "1.2.0",
      "_view_name": "LayoutView",
      "align_content": null,
      "align_items": null,
      "align_self": null,
      "border": null,
      "bottom": null,
      "display": null,
      "flex": null,
      "flex_flow": null,
      "grid_area": null,
      "grid_auto_columns": null,
      "grid_auto_flow": null,
      "grid_auto_rows": null,
      "grid_column": null,
      "grid_gap": null,
      "grid_row": null,
      "grid_template_areas": null,
      "grid_template_columns": null,
      "grid_template_rows": null,
      "height": null,
      "justify_content": null,
      "justify_items": null,
      "left": null,
      "margin": null,
      "max_height": null,
      "max_width": null,
      "min_height": null,
      "min_width": null,
      "object_fit": null,
      "object_position": null,
      "order": null,
      "overflow": null,
      "overflow_x": null,
      "overflow_y": null,
      "padding": null,
      "right": null,
      "top": null,
      "visibility": null,
      "width": null
     }
    },
    "3965e588cec3432ba8cec1b913c75690": {
     "model_module": "@jupyter-widgets/base",
     "model_name": "LayoutModel",
     "state": {
      "_model_module": "@jupyter-widgets/base",
      "_model_module_version": "1.2.0",
      "_model_name": "LayoutModel",
      "_view_count": null,
      "_view_module": "@jupyter-widgets/base",
      "_view_module_version": "1.2.0",
      "_view_name": "LayoutView",
      "align_content": null,
      "align_items": null,
      "align_self": null,
      "border": null,
      "bottom": null,
      "display": null,
      "flex": null,
      "flex_flow": null,
      "grid_area": null,
      "grid_auto_columns": null,
      "grid_auto_flow": null,
      "grid_auto_rows": null,
      "grid_column": null,
      "grid_gap": null,
      "grid_row": null,
      "grid_template_areas": null,
      "grid_template_columns": null,
      "grid_template_rows": null,
      "height": null,
      "justify_content": null,
      "justify_items": null,
      "left": null,
      "margin": null,
      "max_height": null,
      "max_width": null,
      "min_height": null,
      "min_width": null,
      "object_fit": null,
      "object_position": null,
      "order": null,
      "overflow": null,
      "overflow_x": null,
      "overflow_y": null,
      "padding": null,
      "right": null,
      "top": null,
      "visibility": null,
      "width": null
     }
    },
    "3b99ed884c474cda861b030fa17a1af8": {
     "model_module": "@jupyter-widgets/controls",
     "model_name": "DescriptionStyleModel",
     "state": {
      "_model_module": "@jupyter-widgets/controls",
      "_model_module_version": "1.5.0",
      "_model_name": "DescriptionStyleModel",
      "_view_count": null,
      "_view_module": "@jupyter-widgets/base",
      "_view_module_version": "1.2.0",
      "_view_name": "StyleView",
      "description_width": ""
     }
    },
    "50357271cb45458ca500cc6b83e30c05": {
     "model_module": "@jupyter-widgets/base",
     "model_name": "LayoutModel",
     "state": {
      "_model_module": "@jupyter-widgets/base",
      "_model_module_version": "1.2.0",
      "_model_name": "LayoutModel",
      "_view_count": null,
      "_view_module": "@jupyter-widgets/base",
      "_view_module_version": "1.2.0",
      "_view_name": "LayoutView",
      "align_content": null,
      "align_items": null,
      "align_self": null,
      "border": null,
      "bottom": null,
      "display": null,
      "flex": null,
      "flex_flow": null,
      "grid_area": null,
      "grid_auto_columns": null,
      "grid_auto_flow": null,
      "grid_auto_rows": null,
      "grid_column": null,
      "grid_gap": null,
      "grid_row": null,
      "grid_template_areas": null,
      "grid_template_columns": null,
      "grid_template_rows": null,
      "height": null,
      "justify_content": null,
      "justify_items": null,
      "left": null,
      "margin": null,
      "max_height": null,
      "max_width": null,
      "min_height": null,
      "min_width": null,
      "object_fit": null,
      "object_position": null,
      "order": null,
      "overflow": null,
      "overflow_x": null,
      "overflow_y": null,
      "padding": null,
      "right": null,
      "top": null,
      "visibility": null,
      "width": null
     }
    },
    "5c8644d27fd1428499ae20d4ff9fcbe7": {
     "model_module": "@jupyter-widgets/controls",
     "model_name": "ProgressStyleModel",
     "state": {
      "_model_module": "@jupyter-widgets/controls",
      "_model_module_version": "1.5.0",
      "_model_name": "ProgressStyleModel",
      "_view_count": null,
      "_view_module": "@jupyter-widgets/base",
      "_view_module_version": "1.2.0",
      "_view_name": "StyleView",
      "bar_color": null,
      "description_width": "initial"
     }
    },
    "7c7cfc6fa16b42da84d6a5b62a5cd9e4": {
     "model_module": "@jupyter-widgets/controls",
     "model_name": "HTMLModel",
     "state": {
      "_dom_classes": [],
      "_model_module": "@jupyter-widgets/controls",
      "_model_module_version": "1.5.0",
      "_model_name": "HTMLModel",
      "_view_count": null,
      "_view_module": "@jupyter-widgets/controls",
      "_view_module_version": "1.5.0",
      "_view_name": "HTMLView",
      "description": "",
      "description_tooltip": null,
      "layout": "IPY_MODEL_cb51ed24dea9437cafcff5013def2c4f",
      "placeholder": "​",
      "style": "IPY_MODEL_3b99ed884c474cda861b030fa17a1af8",
      "value": " 33551/33551 [01:23&lt;00:00, 403.89it/s]"
     }
    },
    "957cd312415048b682f80529a8f006cf": {
     "model_module": "@jupyter-widgets/controls",
     "model_name": "DescriptionStyleModel",
     "state": {
      "_model_module": "@jupyter-widgets/controls",
      "_model_module_version": "1.5.0",
      "_model_name": "DescriptionStyleModel",
      "_view_count": null,
      "_view_module": "@jupyter-widgets/base",
      "_view_module_version": "1.2.0",
      "_view_name": "StyleView",
      "description_width": ""
     }
    },
    "a04d29d9bb7340d2b035304e493808db": {
     "model_module": "@jupyter-widgets/controls",
     "model_name": "ProgressStyleModel",
     "state": {
      "_model_module": "@jupyter-widgets/controls",
      "_model_module_version": "1.5.0",
      "_model_name": "ProgressStyleModel",
      "_view_count": null,
      "_view_module": "@jupyter-widgets/base",
      "_view_module_version": "1.2.0",
      "_view_name": "StyleView",
      "bar_color": null,
      "description_width": "initial"
     }
    },
    "a379a965c2564f0aa4f7019a21774a70": {
     "model_module": "@jupyter-widgets/controls",
     "model_name": "HBoxModel",
     "state": {
      "_dom_classes": [],
      "_model_module": "@jupyter-widgets/controls",
      "_model_module_version": "1.5.0",
      "_model_name": "HBoxModel",
      "_view_count": null,
      "_view_module": "@jupyter-widgets/controls",
      "_view_module_version": "1.5.0",
      "_view_name": "HBoxView",
      "box_style": "",
      "children": [
       "IPY_MODEL_b8562867da3c4b91ac73ca16e3f64e1e",
       "IPY_MODEL_aa5a61da318940fca0e61adcc1e67449"
      ],
      "layout": "IPY_MODEL_2cb273c1af554528b77c485f31743325"
     }
    },
    "a61175a8410c44fbbeebbe57ccfefb32": {
     "model_module": "@jupyter-widgets/controls",
     "model_name": "FloatProgressModel",
     "state": {
      "_dom_classes": [],
      "_model_module": "@jupyter-widgets/controls",
      "_model_module_version": "1.5.0",
      "_model_name": "FloatProgressModel",
      "_view_count": null,
      "_view_module": "@jupyter-widgets/controls",
      "_view_module_version": "1.5.0",
      "_view_name": "ProgressView",
      "bar_style": "success",
      "description": "100%",
      "description_tooltip": null,
      "layout": "IPY_MODEL_50357271cb45458ca500cc6b83e30c05",
      "max": 33551,
      "min": 0,
      "orientation": "horizontal",
      "style": "IPY_MODEL_5c8644d27fd1428499ae20d4ff9fcbe7",
      "value": 33551
     }
    },
    "aa5a61da318940fca0e61adcc1e67449": {
     "model_module": "@jupyter-widgets/controls",
     "model_name": "HTMLModel",
     "state": {
      "_dom_classes": [],
      "_model_module": "@jupyter-widgets/controls",
      "_model_module_version": "1.5.0",
      "_model_name": "HTMLModel",
      "_view_count": null,
      "_view_module": "@jupyter-widgets/controls",
      "_view_module_version": "1.5.0",
      "_view_name": "HTMLView",
      "description": "",
      "description_tooltip": null,
      "layout": "IPY_MODEL_3965e588cec3432ba8cec1b913c75690",
      "placeholder": "​",
      "style": "IPY_MODEL_957cd312415048b682f80529a8f006cf",
      "value": " 8388/8388 [00:10&lt;00:00, 815.79it/s]"
     }
    },
    "b8562867da3c4b91ac73ca16e3f64e1e": {
     "model_module": "@jupyter-widgets/controls",
     "model_name": "FloatProgressModel",
     "state": {
      "_dom_classes": [],
      "_model_module": "@jupyter-widgets/controls",
      "_model_module_version": "1.5.0",
      "_model_name": "FloatProgressModel",
      "_view_count": null,
      "_view_module": "@jupyter-widgets/controls",
      "_view_module_version": "1.5.0",
      "_view_name": "ProgressView",
      "bar_style": "success",
      "description": "100%",
      "description_tooltip": null,
      "layout": "IPY_MODEL_dfbda2e50b39487aae6cc6d1b37538db",
      "max": 8388,
      "min": 0,
      "orientation": "horizontal",
      "style": "IPY_MODEL_a04d29d9bb7340d2b035304e493808db",
      "value": 8388
     }
    },
    "cb51ed24dea9437cafcff5013def2c4f": {
     "model_module": "@jupyter-widgets/base",
     "model_name": "LayoutModel",
     "state": {
      "_model_module": "@jupyter-widgets/base",
      "_model_module_version": "1.2.0",
      "_model_name": "LayoutModel",
      "_view_count": null,
      "_view_module": "@jupyter-widgets/base",
      "_view_module_version": "1.2.0",
      "_view_name": "LayoutView",
      "align_content": null,
      "align_items": null,
      "align_self": null,
      "border": null,
      "bottom": null,
      "display": null,
      "flex": null,
      "flex_flow": null,
      "grid_area": null,
      "grid_auto_columns": null,
      "grid_auto_flow": null,
      "grid_auto_rows": null,
      "grid_column": null,
      "grid_gap": null,
      "grid_row": null,
      "grid_template_areas": null,
      "grid_template_columns": null,
      "grid_template_rows": null,
      "height": null,
      "justify_content": null,
      "justify_items": null,
      "left": null,
      "margin": null,
      "max_height": null,
      "max_width": null,
      "min_height": null,
      "min_width": null,
      "object_fit": null,
      "object_position": null,
      "order": null,
      "overflow": null,
      "overflow_x": null,
      "overflow_y": null,
      "padding": null,
      "right": null,
      "top": null,
      "visibility": null,
      "width": null
     }
    },
    "dfbda2e50b39487aae6cc6d1b37538db": {
     "model_module": "@jupyter-widgets/base",
     "model_name": "LayoutModel",
     "state": {
      "_model_module": "@jupyter-widgets/base",
      "_model_module_version": "1.2.0",
      "_model_name": "LayoutModel",
      "_view_count": null,
      "_view_module": "@jupyter-widgets/base",
      "_view_module_version": "1.2.0",
      "_view_name": "LayoutView",
      "align_content": null,
      "align_items": null,
      "align_self": null,
      "border": null,
      "bottom": null,
      "display": null,
      "flex": null,
      "flex_flow": null,
      "grid_area": null,
      "grid_auto_columns": null,
      "grid_auto_flow": null,
      "grid_auto_rows": null,
      "grid_column": null,
      "grid_gap": null,
      "grid_row": null,
      "grid_template_areas": null,
      "grid_template_columns": null,
      "grid_template_rows": null,
      "height": null,
      "justify_content": null,
      "justify_items": null,
      "left": null,
      "margin": null,
      "max_height": null,
      "max_width": null,
      "min_height": null,
      "min_width": null,
      "object_fit": null,
      "object_position": null,
      "order": null,
      "overflow": null,
      "overflow_x": null,
      "overflow_y": null,
      "padding": null,
      "right": null,
      "top": null,
      "visibility": null,
      "width": null
     }
    },
    "ee133bda6e8f41f7b3047d209b837776": {
     "model_module": "@jupyter-widgets/controls",
     "model_name": "HBoxModel",
     "state": {
      "_dom_classes": [],
      "_model_module": "@jupyter-widgets/controls",
      "_model_module_version": "1.5.0",
      "_model_name": "HBoxModel",
      "_view_count": null,
      "_view_module": "@jupyter-widgets/controls",
      "_view_module_version": "1.5.0",
      "_view_name": "HBoxView",
      "box_style": "",
      "children": [
       "IPY_MODEL_a61175a8410c44fbbeebbe57ccfefb32",
       "IPY_MODEL_7c7cfc6fa16b42da84d6a5b62a5cd9e4"
      ],
      "layout": "IPY_MODEL_31c4f974513a43d3b0ff4de1ca605108"
     }
    }
   }
  }
 },
 "nbformat": 4,
 "nbformat_minor": 1
}
